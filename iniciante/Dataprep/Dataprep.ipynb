{
 "cells": [
  {
   "cell_type": "code",
   "execution_count": null,
   "metadata": {
    "ExecuteTime": {
     "end_time": "2020-10-21T00:14:08.816575Z",
     "start_time": "2020-10-21T00:14:07.978492Z"
    }
   },
   "outputs": [],
   "source": [
    "from IPython.display import display, Markdown, HTML\n",
    "\n",
    "from sklearn.model_selection import train_test_split\n",
    "from sklearn.preprocessing import MinMaxScaler\n",
    "from sklearn.tree import DecisionTreeRegressor\n",
    "from sklearn.metrics import r2_score\n",
    "\n",
    "import matplotlib.pyplot as plt\n",
    "import seaborn as sns\n",
    "import pandas as pd\n",
    "import numpy as np\n",
    "import missingno"
   ]
  },
  {
   "cell_type": "code",
   "execution_count": null,
   "metadata": {
    "ExecuteTime": {
     "end_time": "2020-10-21T00:14:08.821678Z",
     "start_time": "2020-10-21T00:14:08.818062Z"
    }
   },
   "outputs": [],
   "source": [
    "sns.set()\n",
    "pd.options.mode.chained_assignment = None"
   ]
  },
  {
   "cell_type": "markdown",
   "metadata": {},
   "source": [
    "# Lendo os dados\n",
    "A base de dados utilizada está no [formato csv](https://www.linkedin.com/pulse/lendo-arquivos-csv-com-pandas-rog%C3%A9rio-guimar%C3%A3es-de-campos-j%C3%BAnior/)\n"
   ]
  },
  {
   "cell_type": "code",
   "execution_count": null,
   "metadata": {
    "ExecuteTime": {
     "end_time": "2020-10-21T00:14:09.562801Z",
     "start_time": "2020-10-21T00:14:08.823563Z"
    }
   },
   "outputs": [],
   "source": [
    "df = pd.read_csv(\"https://raw.githubusercontent.com/nubank/diversidados-curso-ds/master/iniciante/base_imoveis.csv\")"
   ]
  },
  {
   "cell_type": "markdown",
   "metadata": {},
   "source": [
    "Olhando conteúdo das 5 primeiras linhas"
   ]
  },
  {
   "cell_type": "code",
   "execution_count": null,
   "metadata": {
    "ExecuteTime": {
     "end_time": "2020-10-21T00:14:09.583398Z",
     "start_time": "2020-10-21T00:14:09.564252Z"
    }
   },
   "outputs": [],
   "source": [
    "df.head()"
   ]
  },
  {
   "cell_type": "markdown",
   "metadata": {},
   "source": [
    "Olhando nome das colunas"
   ]
  },
  {
   "cell_type": "code",
   "execution_count": null,
   "metadata": {
    "ExecuteTime": {
     "end_time": "2020-10-21T00:14:09.588137Z",
     "start_time": "2020-10-21T00:14:09.584774Z"
    }
   },
   "outputs": [],
   "source": [
    "df.columns"
   ]
  },
  {
   "cell_type": "markdown",
   "metadata": {},
   "source": [
    "Olhando informações gerais sobre a base"
   ]
  },
  {
   "cell_type": "code",
   "execution_count": null,
   "metadata": {
    "ExecuteTime": {
     "end_time": "2020-10-21T00:14:09.605837Z",
     "start_time": "2020-10-21T00:14:09.589410Z"
    }
   },
   "outputs": [],
   "source": [
    "df.info()"
   ]
  },
  {
   "cell_type": "markdown",
   "metadata": {},
   "source": [
    "Plotando matriz de nulos"
   ]
  },
  {
   "cell_type": "code",
   "execution_count": null,
   "metadata": {
    "ExecuteTime": {
     "end_time": "2020-10-21T00:14:10.108964Z",
     "start_time": "2020-10-21T00:14:09.607370Z"
    },
    "scrolled": true
   },
   "outputs": [],
   "source": [
    "missingno.matrix(df)"
   ]
  },
  {
   "cell_type": "markdown",
   "metadata": {
    "ExecuteTime": {
     "end_time": "2020-10-19T21:32:38.377437Z",
     "start_time": "2020-10-19T21:32:38.373638Z"
    }
   },
   "source": [
    "Acima, vimos que não temos nenhum nulo na base! **Mas será que temos na base outros valores que poderiam ser considerados como nulo?**"
   ]
  },
  {
   "cell_type": "markdown",
   "metadata": {},
   "source": [
    "Imprimindo tipo de cada coluna"
   ]
  },
  {
   "cell_type": "code",
   "execution_count": null,
   "metadata": {
    "ExecuteTime": {
     "end_time": "2020-10-21T00:14:10.115056Z",
     "start_time": "2020-10-21T00:14:10.110906Z"
    }
   },
   "outputs": [],
   "source": [
    "df.dtypes"
   ]
  },
  {
   "cell_type": "code",
   "execution_count": null,
   "metadata": {
    "ExecuteTime": {
     "end_time": "2020-10-21T00:14:10.118476Z",
     "start_time": "2020-10-21T00:14:10.116529Z"
    }
   },
   "outputs": [],
   "source": [
    "target = \"preco_dolares\""
   ]
  },
  {
   "cell_type": "markdown",
   "metadata": {},
   "source": [
    "# Explorando as variáveis\n",
    "<img src=\"imgs/tipos_variaveis.png\" alt=\"tipos variaveis\" width=\"100%\"/>"
   ]
  },
  {
   "cell_type": "markdown",
   "metadata": {
    "ExecuteTime": {
     "end_time": "2020-10-19T22:15:21.647952Z",
     "start_time": "2020-10-19T22:15:21.643813Z"
    }
   },
   "source": [
    "Para printar numero de linhas por cada valor possível da coluna `tem_porao`: `df[\"tem_porao\"].value_counts()`"
   ]
  },
  {
   "cell_type": "code",
   "execution_count": null,
   "metadata": {
    "ExecuteTime": {
     "end_time": "2020-10-21T00:14:10.126201Z",
     "start_time": "2020-10-21T00:14:10.120080Z"
    }
   },
   "outputs": [],
   "source": [
    "df[\"tem_porao\"].value_counts()"
   ]
  },
  {
   "cell_type": "markdown",
   "metadata": {},
   "source": [
    "## Categoricas"
   ]
  },
  {
   "cell_type": "markdown",
   "metadata": {},
   "source": [
    "### Cardinalidade"
   ]
  },
  {
   "cell_type": "code",
   "execution_count": null,
   "metadata": {
    "ExecuteTime": {
     "end_time": "2020-10-21T00:14:10.144485Z",
     "start_time": "2020-10-21T00:14:10.127414Z"
    },
    "scrolled": true
   },
   "outputs": [],
   "source": [
    "cardinalidades = [] # lista que vai guardar valor das cardinalidades\n",
    "vars_categoricas_raw = [] # lista que vai guardar nomes das variaveis categoricas\n",
    "for i, row in df.dtypes.reset_index().iterrows():\n",
    "    nome_var = row[\"index\"]\n",
    "    tipo_var = row[0]\n",
    "    if tipo_var==object:\n",
    "        cardinalidade = df[nome_var].nunique() # Funcao nunique retorna número de valores diferentes na coluna\n",
    "        cardinalidades.append(cardinalidade) # Adc valor na lista\n",
    "        vars_categoricas_raw.append(nome_var) # Adc nome na lista    \n",
    "df_cardinalidades = pd.DataFrame({\"Variavel\": vars_categoricas_raw,\n",
    "                                  \"Cardinalidade\": cardinalidades,}) # Criando uma tabela com valores calculados"
   ]
  },
  {
   "cell_type": "code",
   "execution_count": null,
   "metadata": {
    "ExecuteTime": {
     "end_time": "2020-10-21T00:14:10.151398Z",
     "start_time": "2020-10-21T00:14:10.145827Z"
    }
   },
   "outputs": [],
   "source": [
    "df_cardinalidades"
   ]
  },
  {
   "cell_type": "markdown",
   "metadata": {},
   "source": [
    "Plotando cardinalidades"
   ]
  },
  {
   "cell_type": "code",
   "execution_count": null,
   "metadata": {
    "ExecuteTime": {
     "end_time": "2020-10-21T00:14:10.343228Z",
     "start_time": "2020-10-21T00:14:10.152695Z"
    }
   },
   "outputs": [],
   "source": [
    "sns.barplot(x=\"Cardinalidade\", y=\"Variavel\", data=df_cardinalidades, orient=\"h\", palette=\"coolwarm\")\n",
    "plt.title(\"Cardinalidade das variaveis categoricas\");"
   ]
  },
  {
   "cell_type": "markdown",
   "metadata": {},
   "source": [
    "Colocando na escala logaritmica"
   ]
  },
  {
   "cell_type": "code",
   "execution_count": null,
   "metadata": {
    "ExecuteTime": {
     "end_time": "2020-10-21T00:14:10.945244Z",
     "start_time": "2020-10-21T00:14:10.344953Z"
    }
   },
   "outputs": [],
   "source": [
    "g = sns.barplot(x=\"Cardinalidade\", y=\"Variavel\", data=df_cardinalidades, orient=\"h\", palette=\"coolwarm\")\n",
    "g.set_xscale(\"log\")\n",
    "plt.title(\"Cardinalidade das variaveis categoricas\");"
   ]
  },
  {
   "cell_type": "markdown",
   "metadata": {
    "ExecuteTime": {
     "end_time": "2020-10-19T22:36:11.785180Z",
     "start_time": "2020-10-19T22:36:11.782840Z"
    }
   },
   "source": [
    "### Rank e distribuição"
   ]
  },
  {
   "cell_type": "code",
   "execution_count": null,
   "metadata": {
    "ExecuteTime": {
     "end_time": "2020-10-21T00:14:10.989438Z",
     "start_time": "2020-10-21T00:14:10.946469Z"
    }
   },
   "outputs": [],
   "source": [
    "for nome_var in vars_categoricas_raw:\n",
    "    # Contando numero de casos em cada categoria e ordenando pelas classes mais frequentes \n",
    "    df_rank = df.groupby(nome_var).agg({\"id\": \"count\"}) \\\n",
    "                .sort_values(\"id\", ascending=False)\n",
    "\n",
    "    # Calculando porcentagem em cada categoria para ver distribuição\n",
    "    df_rank[\"% ids\"] = df_rank[\"id\"]/df_rank[\"id\"].sum()*100\n",
    "    display(df_rank)"
   ]
  },
  {
   "cell_type": "markdown",
   "metadata": {},
   "source": [
    "### Filtrando variáveis"
   ]
  },
  {
   "cell_type": "code",
   "execution_count": null,
   "metadata": {
    "ExecuteTime": {
     "end_time": "2020-10-21T00:14:10.994075Z",
     "start_time": "2020-10-21T00:14:10.990650Z"
    }
   },
   "outputs": [],
   "source": [
    "vars_categoricas_raw"
   ]
  },
  {
   "cell_type": "code",
   "execution_count": null,
   "metadata": {
    "ExecuteTime": {
     "end_time": "2020-10-21T00:14:10.998285Z",
     "start_time": "2020-10-21T00:14:10.995211Z"
    }
   },
   "outputs": [],
   "source": [
    "vars_categoricas_raw.pop(0)"
   ]
  },
  {
   "cell_type": "code",
   "execution_count": null,
   "metadata": {
    "ExecuteTime": {
     "end_time": "2020-10-21T00:14:11.002595Z",
     "start_time": "2020-10-21T00:14:10.999475Z"
    }
   },
   "outputs": [],
   "source": [
    "vars_categoricas_raw"
   ]
  },
  {
   "cell_type": "code",
   "execution_count": null,
   "metadata": {
    "ExecuteTime": {
     "end_time": "2020-10-21T00:14:11.005922Z",
     "start_time": "2020-10-21T00:14:11.003845Z"
    }
   },
   "outputs": [],
   "source": [
    "categoricas_nominais = ['orla_mar', 'tem_porao', 'teve_reforma']\n",
    "categoricas_ordinais = [ 'nota_vista', 'nota_condicao',]"
   ]
  },
  {
   "cell_type": "markdown",
   "metadata": {},
   "source": [
    "## Numericas"
   ]
  },
  {
   "cell_type": "markdown",
   "metadata": {},
   "source": [
    "O método `.describe()` já calcula algumas métricas comuns nas variáveis numéricas"
   ]
  },
  {
   "cell_type": "code",
   "execution_count": null,
   "metadata": {
    "ExecuteTime": {
     "end_time": "2020-10-21T00:14:11.047750Z",
     "start_time": "2020-10-21T00:14:11.007061Z"
    }
   },
   "outputs": [],
   "source": [
    "df.describe()"
   ]
  },
  {
   "cell_type": "markdown",
   "metadata": {},
   "source": [
    "Plot de distribuição tradicional"
   ]
  },
  {
   "cell_type": "code",
   "execution_count": null,
   "metadata": {
    "ExecuteTime": {
     "end_time": "2020-10-21T00:14:13.883481Z",
     "start_time": "2020-10-21T00:14:11.048959Z"
    }
   },
   "outputs": [],
   "source": [
    "vars_numericas_raw = []\n",
    "for i, row in df.dtypes.reset_index().iterrows():\n",
    "    nome_var = row[\"index\"]\n",
    "    tipo_var = row[0]\n",
    "    if tipo_var in (np.float64, np.int64):\n",
    "        print(nome_var)\n",
    "        vars_numericas_raw.append(nome_var)\n",
    "        fig, ax = plt.subplots()\n",
    "        fig.set_size_inches(10, 6)\n",
    "        sns.distplot(df[nome_var], hist=True, kde=False, norm_hist=False, ax=ax)\n",
    "        plt.show()"
   ]
  },
  {
   "cell_type": "code",
   "execution_count": null,
   "metadata": {
    "ExecuteTime": {
     "end_time": "2020-10-21T00:14:15.926582Z",
     "start_time": "2020-10-21T00:14:13.885384Z"
    },
    "scrolled": true
   },
   "outputs": [],
   "source": [
    "for nome_var in vars_numericas_raw:\n",
    "    print(nome_var)\n",
    "    fig, ax = plt.subplots()\n",
    "    fig.set_size_inches(10, 6)\n",
    "    sns.boxplot(df[nome_var], ax=ax)\n",
    "    plt.show()"
   ]
  },
  {
   "cell_type": "markdown",
   "metadata": {},
   "source": [
    "### Filtrando variáveis"
   ]
  },
  {
   "cell_type": "code",
   "execution_count": null,
   "metadata": {
    "ExecuteTime": {
     "end_time": "2020-10-21T00:14:15.932670Z",
     "start_time": "2020-10-21T00:14:15.929574Z"
    }
   },
   "outputs": [],
   "source": [
    "vars_numericas_raw"
   ]
  },
  {
   "cell_type": "code",
   "execution_count": null,
   "metadata": {
    "ExecuteTime": {
     "end_time": "2020-10-21T00:14:15.938520Z",
     "start_time": "2020-10-21T00:14:15.934997Z"
    }
   },
   "outputs": [],
   "source": [
    "vars_numericas_raw.pop(0)"
   ]
  },
  {
   "cell_type": "code",
   "execution_count": null,
   "metadata": {
    "ExecuteTime": {
     "end_time": "2020-10-21T00:14:15.944194Z",
     "start_time": "2020-10-21T00:14:15.940249Z"
    }
   },
   "outputs": [],
   "source": [
    "vars_numericas_raw.pop(0)"
   ]
  },
  {
   "cell_type": "code",
   "execution_count": null,
   "metadata": {
    "ExecuteTime": {
     "end_time": "2020-10-21T00:14:15.948658Z",
     "start_time": "2020-10-21T00:14:15.945620Z"
    }
   },
   "outputs": [],
   "source": [
    "vars_numericas_raw"
   ]
  },
  {
   "cell_type": "markdown",
   "metadata": {},
   "source": [
    "# Separando a base\n",
    "<img src=\"imgs/splits.png\" alt=\"separacao da base\" width=\"80%\"/>\n",
    "\n",
    "Não existe um número mágico, alguns indicam 60%-20%-20%, e vamos usar essa proporção "
   ]
  },
  {
   "cell_type": "code",
   "execution_count": null,
   "metadata": {
    "ExecuteTime": {
     "end_time": "2020-10-21T00:14:15.952922Z",
     "start_time": "2020-10-21T00:14:15.949981Z"
    }
   },
   "outputs": [],
   "source": [
    "vars_categoricas_raw"
   ]
  },
  {
   "cell_type": "code",
   "execution_count": null,
   "metadata": {
    "ExecuteTime": {
     "end_time": "2020-10-21T00:14:15.957663Z",
     "start_time": "2020-10-21T00:14:15.954371Z"
    }
   },
   "outputs": [],
   "source": [
    "vars_numericas_raw"
   ]
  },
  {
   "cell_type": "markdown",
   "metadata": {},
   "source": [
    "Transformando campo de data pois estava como string"
   ]
  },
  {
   "cell_type": "code",
   "execution_count": null,
   "metadata": {
    "ExecuteTime": {
     "end_time": "2020-10-21T00:14:15.966201Z",
     "start_time": "2020-10-21T00:14:15.959042Z"
    },
    "scrolled": true
   },
   "outputs": [],
   "source": [
    "df[\"data\"] = pd.to_datetime(df[\"data\"], format=\"%Y-%m-%d\")"
   ]
  },
  {
   "cell_type": "markdown",
   "metadata": {},
   "source": [
    "Contando numero de imoveis por dia"
   ]
  },
  {
   "cell_type": "code",
   "execution_count": null,
   "metadata": {
    "ExecuteTime": {
     "end_time": "2020-10-21T00:14:15.978028Z",
     "start_time": "2020-10-21T00:14:15.967586Z"
    }
   },
   "outputs": [],
   "source": [
    "df_datas = df.groupby(\"data\").agg({\"id\": \"count\"})\n",
    "df_datas[\"media_data\"] = df_datas.rolling(7).mean()\n",
    "df_datas = df_datas.reset_index()"
   ]
  },
  {
   "cell_type": "markdown",
   "metadata": {},
   "source": [
    "Plotando número de imoveis por dia ao longo do tempo"
   ]
  },
  {
   "cell_type": "code",
   "execution_count": null,
   "metadata": {
    "ExecuteTime": {
     "end_time": "2020-10-21T00:14:16.253914Z",
     "start_time": "2020-10-21T00:14:15.979445Z"
    }
   },
   "outputs": [],
   "source": [
    "fig, ax = plt.subplots()\n",
    "fig.set_size_inches(10, 6)\n",
    "ax.plot(df_datas[\"data\"], df_datas[\"media_data\"])\n",
    "plt.title(\"Numero de imoveis por data\");"
   ]
  },
  {
   "cell_type": "code",
   "execution_count": null,
   "metadata": {
    "ExecuteTime": {
     "end_time": "2020-10-21T00:14:16.266032Z",
     "start_time": "2020-10-21T00:14:16.256098Z"
    }
   },
   "outputs": [],
   "source": [
    "df = df.sort_values(\"data\").reset_index(drop=\"index\")"
   ]
  },
  {
   "cell_type": "markdown",
   "metadata": {},
   "source": [
    "## Divisão no tempo\n",
    "Usando [`train_test_split`](https://scikit-learn.org/stable/modules/generated/sklearn.model_selection.train_test_split.html) da biblioteca sklearn.\n",
    "Primeiro, fazemos a divisão no tempo, deixando 20% para nossa base de validação"
   ]
  },
  {
   "cell_type": "code",
   "execution_count": null,
   "metadata": {
    "ExecuteTime": {
     "end_time": "2020-10-21T00:14:16.273933Z",
     "start_time": "2020-10-21T00:14:16.267559Z"
    }
   },
   "outputs": [],
   "source": [
    "treino_teste, validacao = train_test_split(df, test_size=.2, random_state=0, shuffle=False)"
   ]
  },
  {
   "cell_type": "markdown",
   "metadata": {},
   "source": [
    "Verificando se a divisão no tempo funcionou"
   ]
  },
  {
   "cell_type": "code",
   "execution_count": null,
   "metadata": {
    "ExecuteTime": {
     "end_time": "2020-10-21T00:14:16.283380Z",
     "start_time": "2020-10-21T00:14:16.275488Z"
    }
   },
   "outputs": [],
   "source": [
    "treino_teste.data.describe()"
   ]
  },
  {
   "cell_type": "code",
   "execution_count": null,
   "metadata": {
    "ExecuteTime": {
     "end_time": "2020-10-21T00:14:16.292685Z",
     "start_time": "2020-10-21T00:14:16.284778Z"
    }
   },
   "outputs": [],
   "source": [
    "validacao.data.describe()"
   ]
  },
  {
   "cell_type": "markdown",
   "metadata": {},
   "source": [
    "## Divisão no espaço\n",
    "Agora, dos 80% iniciais, vamos deixar 25% para teste e 75% para treino, misturando os dados para fazer apenas a divisão no espaço"
   ]
  },
  {
   "cell_type": "code",
   "execution_count": null,
   "metadata": {
    "ExecuteTime": {
     "end_time": "2020-10-21T00:14:16.302186Z",
     "start_time": "2020-10-21T00:14:16.294365Z"
    }
   },
   "outputs": [],
   "source": [
    "treino, teste = train_test_split(treino_teste, test_size=.25, random_state=0, shuffle=True)"
   ]
  },
  {
   "cell_type": "code",
   "execution_count": null,
   "metadata": {
    "ExecuteTime": {
     "end_time": "2020-10-21T00:14:16.312097Z",
     "start_time": "2020-10-21T00:14:16.304026Z"
    }
   },
   "outputs": [],
   "source": [
    "treino.data.describe()"
   ]
  },
  {
   "cell_type": "code",
   "execution_count": null,
   "metadata": {
    "ExecuteTime": {
     "end_time": "2020-10-21T00:14:16.321574Z",
     "start_time": "2020-10-21T00:14:16.313588Z"
    }
   },
   "outputs": [],
   "source": [
    "teste.data.describe()"
   ]
  },
  {
   "cell_type": "markdown",
   "metadata": {},
   "source": [
    "## Check de tamanho das bases"
   ]
  },
  {
   "cell_type": "code",
   "execution_count": null,
   "metadata": {
    "ExecuteTime": {
     "end_time": "2020-10-21T00:14:16.326992Z",
     "start_time": "2020-10-21T00:14:16.323223Z"
    }
   },
   "outputs": [],
   "source": [
    "treino.shape, teste.shape, validacao.shape"
   ]
  },
  {
   "cell_type": "markdown",
   "metadata": {},
   "source": [
    "# Tratando variáveis categóricas"
   ]
  },
  {
   "cell_type": "markdown",
   "metadata": {
    "ExecuteTime": {
     "end_time": "2020-10-20T02:28:19.008056Z",
     "start_time": "2020-10-20T02:28:19.004628Z"
    }
   },
   "source": [
    "## Ordinais"
   ]
  },
  {
   "cell_type": "code",
   "execution_count": null,
   "metadata": {
    "ExecuteTime": {
     "end_time": "2020-10-21T00:14:16.332029Z",
     "start_time": "2020-10-21T00:14:16.328602Z"
    }
   },
   "outputs": [],
   "source": [
    "categoricas_ordinais"
   ]
  },
  {
   "cell_type": "markdown",
   "metadata": {},
   "source": [
    "Olhando categorias existentes"
   ]
  },
  {
   "cell_type": "code",
   "execution_count": null,
   "metadata": {
    "ExecuteTime": {
     "end_time": "2020-10-21T00:14:16.337907Z",
     "start_time": "2020-10-21T00:14:16.333476Z"
    },
    "scrolled": true
   },
   "outputs": [],
   "source": [
    "treino[\"nota_vista\"].unique()"
   ]
  },
  {
   "cell_type": "markdown",
   "metadata": {},
   "source": [
    "Coloque os valores que representam a ordem das categorias"
   ]
  },
  {
   "cell_type": "code",
   "execution_count": null,
   "metadata": {
    "ExecuteTime": {
     "end_time": "2020-10-21T00:14:16.342227Z",
     "start_time": "2020-10-21T00:14:16.339287Z"
    }
   },
   "outputs": [],
   "source": [
    "nota_vista_map = {'Vista completamente bloqueada': 1, \n",
    "                  'Vista parcialmente bloqueada': 2, \n",
    "                  'Vista quase sem bloqueios': 3,\n",
    "                  'Vista boa': 4,\n",
    "                  'Excelente - vista sem bloqueios': 5}"
   ]
  },
  {
   "cell_type": "code",
   "execution_count": null,
   "metadata": {
    "ExecuteTime": {
     "end_time": "2020-10-21T00:14:16.353381Z",
     "start_time": "2020-10-21T00:14:16.344097Z"
    }
   },
   "outputs": [],
   "source": [
    "treino[\"nota_vista_encoded\"] = treino[\"nota_vista\"].map(nota_vista_map)\n",
    "teste[\"nota_vista_encoded\"] = teste[\"nota_vista\"].map(nota_vista_map)\n",
    "validacao[\"nota_vista_encoded\"] = validacao[\"nota_vista\"].map(nota_vista_map)"
   ]
  },
  {
   "cell_type": "markdown",
   "metadata": {
    "ExecuteTime": {
     "end_time": "2020-10-20T02:33:22.916954Z",
     "start_time": "2020-10-20T02:33:22.913502Z"
    }
   },
   "source": [
    "Faça o mesmo para variável `nota_condicao`"
   ]
  },
  {
   "cell_type": "code",
   "execution_count": null,
   "metadata": {
    "ExecuteTime": {
     "end_time": "2020-10-21T00:14:16.360218Z",
     "start_time": "2020-10-21T00:14:16.355132Z"
    }
   },
   "outputs": [],
   "source": [
    "treino[\"nota_condicao\"].unique()"
   ]
  },
  {
   "cell_type": "code",
   "execution_count": null,
   "metadata": {
    "ExecuteTime": {
     "end_time": "2020-10-21T00:14:16.365149Z",
     "start_time": "2020-10-21T00:14:16.362180Z"
    }
   },
   "outputs": [],
   "source": [
    "nota_condicao_map = {'Excelente estado': 5,\n",
    "                     'Bom estado' : 4, \n",
    "                     'Pronto para morar' : 3,\n",
    "                     'Mau estado - pequena reforma necessária' : 2,\n",
    "                     'Mau estado - reforma completa necessária' : 1}"
   ]
  },
  {
   "cell_type": "code",
   "execution_count": null,
   "metadata": {
    "ExecuteTime": {
     "end_time": "2020-10-21T00:14:16.375864Z",
     "start_time": "2020-10-21T00:14:16.366705Z"
    }
   },
   "outputs": [],
   "source": [
    "treino[\"nota_condicao_encoded\"] = treino[\"nota_condicao\"].map(nota_condicao_map)\n",
    "teste[\"nota_condicao_encoded\"] = teste[\"nota_condicao\"].map(nota_condicao_map)\n",
    "validacao[\"nota_condicao_encoded\"] = validacao[\"nota_condicao\"].map(nota_condicao_map)"
   ]
  },
  {
   "cell_type": "markdown",
   "metadata": {},
   "source": [
    "## Nominais"
   ]
  },
  {
   "cell_type": "code",
   "execution_count": null,
   "metadata": {
    "ExecuteTime": {
     "end_time": "2020-10-21T00:14:16.380839Z",
     "start_time": "2020-10-21T00:14:16.377621Z"
    }
   },
   "outputs": [],
   "source": [
    "categoricas_nominais"
   ]
  },
  {
   "cell_type": "code",
   "execution_count": null,
   "metadata": {
    "ExecuteTime": {
     "end_time": "2020-10-21T00:14:16.411282Z",
     "start_time": "2020-10-21T00:14:16.382264Z"
    },
    "scrolled": true
   },
   "outputs": [],
   "source": [
    "for var_n in categoricas_nominais:\n",
    "    # Pegando média do target no treino para cada categoria\n",
    "    var_map = treino.groupby(var_n).agg({target: \"mean\"}).to_dict()[target]\n",
    "    \n",
    "    treino[f\"{var_n}_encoded\"] = treino[f\"{var_n}\"].map(var_map) # Aplicando no treino\n",
    "    teste[f\"{var_n}_encoded\"] = teste[f\"{var_n}\"].map(var_map) # Aplicando no teste\n",
    "    validacao[f\"{var_n}_encoded\"] = validacao[f\"{var_n}\"].map(var_map) # Aplicando na validacao"
   ]
  },
  {
   "cell_type": "code",
   "execution_count": null,
   "metadata": {
    "ExecuteTime": {
     "end_time": "2020-10-21T00:14:16.416066Z",
     "start_time": "2020-10-21T00:14:16.413163Z"
    }
   },
   "outputs": [],
   "source": [
    "vars_categoricas = [x+\"_encoded\" for x in categoricas_nominais+categoricas_ordinais]"
   ]
  },
  {
   "cell_type": "markdown",
   "metadata": {},
   "source": [
    "# Tratando variáveis numéricas"
   ]
  },
  {
   "cell_type": "markdown",
   "metadata": {},
   "source": [
    "## Normalizando"
   ]
  },
  {
   "cell_type": "code",
   "execution_count": null,
   "metadata": {
    "ExecuteTime": {
     "end_time": "2020-10-21T00:14:16.577300Z",
     "start_time": "2020-10-21T00:14:16.417850Z"
    },
    "scrolled": true
   },
   "outputs": [],
   "source": [
    "for var_n in vars_numericas_raw+vars_categoricas:\n",
    "    scaler = MinMaxScaler()\n",
    "    scaler.fit(treino[[var_n]]) # Usando treino como base para transformações\n",
    "    treino[f\"{var_n}_scaled\"] = scaler.transform(treino[[var_n]]).reshape(-1) # Aplicando no treino\n",
    "    teste[f\"{var_n}_scaled\"] = scaler.transform(teste[[var_n]]).reshape(-1) # Aplicando no teste\n",
    "    validacao[f\"{var_n}_scaled\"] = scaler.transform(validacao[[var_n]]).reshape(-1) # Aplicando na validacao"
   ]
  },
  {
   "cell_type": "markdown",
   "metadata": {},
   "source": [
    "# Organizando variáveis"
   ]
  },
  {
   "cell_type": "markdown",
   "metadata": {},
   "source": [
    "Criamos várias colunas novas com as variáveis transformadas, precisamos filtrar só as novas, abaixo, temos todas as colunas que existem agora"
   ]
  },
  {
   "cell_type": "code",
   "execution_count": null,
   "metadata": {
    "ExecuteTime": {
     "end_time": "2020-10-21T00:14:16.582864Z",
     "start_time": "2020-10-21T00:14:16.579033Z"
    }
   },
   "outputs": [],
   "source": [
    "treino.columns"
   ]
  },
  {
   "cell_type": "markdown",
   "metadata": {},
   "source": [
    "Agora vamos pegar só as que transformamos"
   ]
  },
  {
   "cell_type": "code",
   "execution_count": null,
   "metadata": {
    "ExecuteTime": {
     "end_time": "2020-10-21T00:14:16.588679Z",
     "start_time": "2020-10-21T00:14:16.584499Z"
    }
   },
   "outputs": [],
   "source": [
    "todas_variaveis = [x+\"_scaled\" for x in vars_numericas_raw+vars_categoricas]\n",
    "todas_variaveis"
   ]
  },
  {
   "cell_type": "markdown",
   "metadata": {},
   "source": [
    "Salvando quais eram as variaveis originais (raw)"
   ]
  },
  {
   "cell_type": "code",
   "execution_count": null,
   "metadata": {
    "ExecuteTime": {
     "end_time": "2020-10-21T00:14:16.593254Z",
     "start_time": "2020-10-21T00:14:16.590578Z"
    }
   },
   "outputs": [],
   "source": [
    "todas_variaveis_raw = vars_numericas_raw+vars_categoricas_raw"
   ]
  },
  {
   "cell_type": "markdown",
   "metadata": {},
   "source": [
    "Olhando variáveis transformadas pra checar se estão ok"
   ]
  },
  {
   "cell_type": "code",
   "execution_count": null,
   "metadata": {
    "ExecuteTime": {
     "end_time": "2020-10-21T00:14:16.613528Z",
     "start_time": "2020-10-21T00:14:16.594959Z"
    }
   },
   "outputs": [],
   "source": [
    "validacao[todas_variaveis].head()"
   ]
  },
  {
   "cell_type": "code",
   "execution_count": null,
   "metadata": {
    "ExecuteTime": {
     "end_time": "2020-10-21T00:14:16.629556Z",
     "start_time": "2020-10-21T00:14:16.614861Z"
    }
   },
   "outputs": [],
   "source": [
    "validacao[todas_variaveis_raw].head()"
   ]
  },
  {
   "cell_type": "markdown",
   "metadata": {},
   "source": [
    "# Modelinho teste"
   ]
  },
  {
   "cell_type": "code",
   "execution_count": null,
   "metadata": {
    "ExecuteTime": {
     "end_time": "2020-10-21T00:14:16.634141Z",
     "start_time": "2020-10-21T00:14:16.630917Z"
    }
   },
   "outputs": [],
   "source": [
    "todas_variaveis"
   ]
  },
  {
   "cell_type": "code",
   "execution_count": null,
   "metadata": {
    "ExecuteTime": {
     "end_time": "2020-10-21T00:14:16.716659Z",
     "start_time": "2020-10-21T00:14:16.635768Z"
    }
   },
   "outputs": [],
   "source": [
    "reg = DecisionTreeRegressor(random_state=0)\n",
    "reg.fit(treino[vars_numericas_raw+vars_categoricas], treino[target])"
   ]
  },
  {
   "cell_type": "code",
   "execution_count": null,
   "metadata": {
    "ExecuteTime": {
     "end_time": "2020-10-21T00:14:16.728566Z",
     "start_time": "2020-10-21T00:14:16.717939Z"
    }
   },
   "outputs": [],
   "source": [
    "predictions_teste = reg.predict(teste[vars_numericas_raw+vars_categoricas])\n",
    "predictions_validacao = reg.predict(validacao[vars_numericas_raw+vars_categoricas])"
   ]
  },
  {
   "cell_type": "code",
   "execution_count": null,
   "metadata": {
    "ExecuteTime": {
     "end_time": "2020-10-21T00:14:16.735498Z",
     "start_time": "2020-10-21T00:14:16.730001Z"
    }
   },
   "outputs": [],
   "source": [
    "r2_score(teste[target], predictions_teste), r2_score(validacao[target], predictions_validacao)"
   ]
  },
  {
   "cell_type": "code",
   "execution_count": null,
   "metadata": {
    "ExecuteTime": {
     "end_time": "2020-10-21T00:14:16.742441Z",
     "start_time": "2020-10-21T00:14:16.737137Z"
    }
   },
   "outputs": [],
   "source": [
    "r2_score(teste[target], predictions_teste), r2_score(validacao[target], predictions_validacao)"
   ]
  },
  {
   "cell_type": "code",
   "execution_count": null,
   "metadata": {},
   "outputs": [],
   "source": []
  }
 ],
 "metadata": {
  "kernelspec": {
   "display_name": "venv_lusa",
   "language": "python",
   "name": "venv_lusa"
  },
  "language_info": {
   "codemirror_mode": {
    "name": "ipython",
    "version": 3
   },
   "file_extension": ".py",
   "mimetype": "text/x-python",
   "name": "python",
   "nbconvert_exporter": "python",
   "pygments_lexer": "ipython3",
   "version": "3.6.10"
  },
  "toc": {
   "base_numbering": 1,
   "nav_menu": {},
   "number_sections": true,
   "sideBar": true,
   "skip_h1_title": false,
   "title_cell": "Table of Contents",
   "title_sidebar": "Contents",
   "toc_cell": false,
   "toc_position": {},
   "toc_section_display": true,
   "toc_window_display": true
  },
  "varInspector": {
   "cols": {
    "lenName": 16,
    "lenType": 16,
    "lenVar": 40
   },
   "kernels_config": {
    "python": {
     "delete_cmd_postfix": "",
     "delete_cmd_prefix": "del ",
     "library": "var_list.py",
     "varRefreshCmd": "print(var_dic_list())"
    },
    "r": {
     "delete_cmd_postfix": ") ",
     "delete_cmd_prefix": "rm(",
     "library": "var_list.r",
     "varRefreshCmd": "cat(var_dic_list()) "
    }
   },
   "types_to_exclude": [
    "module",
    "function",
    "builtin_function_or_method",
    "instance",
    "_Feature"
   ],
   "window_display": false
  }
 },
 "nbformat": 4,
 "nbformat_minor": 4
}
