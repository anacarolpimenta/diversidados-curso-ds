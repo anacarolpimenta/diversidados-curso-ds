{
 "cells": [
  {
   "cell_type": "markdown",
   "metadata": {},
   "source": [
    "## Imports"
   ]
  },
  {
   "cell_type": "code",
   "execution_count": 1,
   "metadata": {
    "ExecuteTime": {
     "end_time": "2020-11-10T17:35:01.351270Z",
     "start_time": "2020-11-10T17:34:59.911071Z"
    }
   },
   "outputs": [],
   "source": [
    "import pandas as pd\n",
    "import numpy as np\n",
    "from matplotlib import pyplot as plt\n",
    "import seaborn as sns"
   ]
  },
  {
   "cell_type": "markdown",
   "metadata": {},
   "source": [
    "## Criando o cenario"
   ]
  },
  {
   "cell_type": "code",
   "execution_count": 54,
   "metadata": {
    "ExecuteTime": {
     "end_time": "2020-11-10T17:38:43.413906Z",
     "start_time": "2020-11-10T17:38:43.277894Z"
    }
   },
   "outputs": [],
   "source": [
    "num_of_samples = 1000000\n",
    "\n",
    "transaction_amount = np.minimum(np.random.lognormal(4.0, 1.4, num_of_samples), num_of_samples)\n",
    "international_purchase = np.random.binomial(5, 1.0 * transaction_amount / np.linalg.norm(transaction_amount),\n",
    "                                            num_of_samples)"
   ]
  },
  {
   "cell_type": "code",
   "execution_count": 55,
   "metadata": {
    "ExecuteTime": {
     "end_time": "2020-11-10T17:38:44.176966Z",
     "start_time": "2020-11-10T17:38:44.171731Z"
    }
   },
   "outputs": [
    {
     "data": {
      "text/plain": [
       "0.001916"
      ]
     },
     "execution_count": 55,
     "metadata": {},
     "output_type": "execute_result"
    }
   ],
   "source": [
    "international_purchase.mean()"
   ]
  },
  {
   "cell_type": "code",
   "execution_count": 56,
   "metadata": {
    "ExecuteTime": {
     "end_time": "2020-11-10T17:38:45.477872Z",
     "start_time": "2020-11-10T17:38:45.376854Z"
    }
   },
   "outputs": [],
   "source": [
    "target = (np.random.standard_cauchy(num_of_samples) \n",
    "          * transaction_amount\n",
    "          * np.where(international_purchase, 0.4, 0.1))\n",
    "\n",
    "target = np.where(target > np.quantile(target, 0.97), 1, 0)"
   ]
  },
  {
   "cell_type": "code",
   "execution_count": 57,
   "metadata": {
    "ExecuteTime": {
     "end_time": "2020-11-10T17:38:47.431162Z",
     "start_time": "2020-11-10T17:38:46.925406Z"
    }
   },
   "outputs": [
    {
     "data": {
      "text/plain": [
       "<matplotlib.axes._subplots.AxesSubplot at 0x1a1c3d87f0>"
      ]
     },
     "execution_count": 57,
     "metadata": {},
     "output_type": "execute_result"
    },
    {
     "data": {
      "image/png": "[encoded data removed]",
      "text/plain": [
       "<Figure size 432x288 with 1 Axes>"
      ]
     },
     "metadata": {
      "needs_background": "light"
     },
     "output_type": "display_data"
    }
   ],
   "source": [
    "sns.distplot(target)"
   ]
  },
  {
   "cell_type": "code",
   "execution_count": 58,
   "metadata": {
    "ExecuteTime": {
     "end_time": "2020-11-10T17:38:49.549918Z",
     "start_time": "2020-11-10T17:38:49.430612Z"
    }
   },
   "outputs": [],
   "source": [
    "scores = np.where(target, \n",
    "                  np.maximum(np.minimum(np.random.normal(0.6, 0.5, num_of_samples), 1.0), 0.0),\n",
    "                  np.maximum(np.minimum(np.random.normal(0.2, 0.3, num_of_samples), 1.0), 0.0))  "
   ]
  },
  {
   "cell_type": "code",
   "execution_count": 59,
   "metadata": {
    "ExecuteTime": {
     "end_time": "2020-11-10T17:38:51.207618Z",
     "start_time": "2020-11-10T17:38:51.168319Z"
    }
   },
   "outputs": [
    {
     "data": {
      "text/html": [
       "<div>\n",
       "<style scoped>\n",
       "    .dataframe tbody tr th:only-of-type {\n",
       "        vertical-align: middle;\n",
       "    }\n",
       "\n",
       "    .dataframe tbody tr th {\n",
       "        vertical-align: top;\n",
       "    }\n",
       "\n",
       "    .dataframe thead th {\n",
       "        text-align: right;\n",
       "    }\n",
       "</style>\n",
       "<table border=\"1\" class=\"dataframe\">\n",
       "  <thead>\n",
       "    <tr style=\"text-align: right;\">\n",
       "      <th></th>\n",
       "      <th>amount</th>\n",
       "      <th>international_purchase</th>\n",
       "      <th>is_fraud</th>\n",
       "      <th>score</th>\n",
       "    </tr>\n",
       "  </thead>\n",
       "  <tbody>\n",
       "    <tr>\n",
       "      <th>0</th>\n",
       "      <td>291.899285</td>\n",
       "      <td>0</td>\n",
       "      <td>0</td>\n",
       "      <td>0.264879</td>\n",
       "    </tr>\n",
       "    <tr>\n",
       "      <th>1</th>\n",
       "      <td>29.372090</td>\n",
       "      <td>0</td>\n",
       "      <td>0</td>\n",
       "      <td>0.183100</td>\n",
       "    </tr>\n",
       "    <tr>\n",
       "      <th>2</th>\n",
       "      <td>153.462670</td>\n",
       "      <td>0</td>\n",
       "      <td>0</td>\n",
       "      <td>0.117238</td>\n",
       "    </tr>\n",
       "    <tr>\n",
       "      <th>3</th>\n",
       "      <td>471.391548</td>\n",
       "      <td>0</td>\n",
       "      <td>0</td>\n",
       "      <td>0.163781</td>\n",
       "    </tr>\n",
       "    <tr>\n",
       "      <th>4</th>\n",
       "      <td>17.260943</td>\n",
       "      <td>0</td>\n",
       "      <td>0</td>\n",
       "      <td>0.312624</td>\n",
       "    </tr>\n",
       "  </tbody>\n",
       "</table>\n",
       "</div>"
      ],
      "text/plain": [
       "       amount  international_purchase  is_fraud     score\n",
       "0  291.899285                       0         0  0.264879\n",
       "1   29.372090                       0         0  0.183100\n",
       "2  153.462670                       0         0  0.117238\n",
       "3  471.391548                       0         0  0.163781\n",
       "4   17.260943                       0         0  0.312624"
      ]
     },
     "execution_count": 59,
     "metadata": {},
     "output_type": "execute_result"
    }
   ],
   "source": [
    "df = pd.DataFrame(\n",
    "    {\"amount\": transaction_amount,\n",
    "     \"international_purchase\": international_purchase,\n",
    "     \"is_fraud\": target,\n",
    "      \"score\": scores}\n",
    ")\n",
    "\n",
    "df.head()"
   ]
  },
  {
   "cell_type": "code",
   "execution_count": 60,
   "metadata": {
    "ExecuteTime": {
     "end_time": "2020-11-10T17:38:53.372295Z",
     "start_time": "2020-11-10T17:38:53.366833Z"
    }
   },
   "outputs": [
    {
     "data": {
      "text/plain": [
       "145.48616921102774"
      ]
     },
     "execution_count": 60,
     "metadata": {},
     "output_type": "execute_result"
    }
   ],
   "source": [
    "np.mean(transaction_amount)"
   ]
  },
  {
   "cell_type": "code",
   "execution_count": 61,
   "metadata": {
    "ExecuteTime": {
     "end_time": "2020-11-10T17:38:54.222241Z",
     "start_time": "2020-11-10T17:38:54.218336Z"
    }
   },
   "outputs": [
    {
     "data": {
      "text/plain": [
       "(1000000, 4)"
      ]
     },
     "execution_count": 61,
     "metadata": {},
     "output_type": "execute_result"
    }
   ],
   "source": [
    "df.shape"
   ]
  },
  {
   "cell_type": "code",
   "execution_count": 62,
   "metadata": {
    "ExecuteTime": {
     "end_time": "2020-11-10T17:38:55.690813Z",
     "start_time": "2020-11-10T17:38:55.687198Z"
    }
   },
   "outputs": [],
   "source": [
    "review_fraud_cost = 8.0\n",
    "new_card_cost = 4.0\n",
    "interchange_revenue = 0.015\n",
    "target_col = \"is_fraud\"\n",
    "prediction_col = \"score\"\n",
    "amount_col = \"amount\"\n",
    "blocked_col = \"blocked\""
   ]
  },
  {
   "cell_type": "code",
   "execution_count": 63,
   "metadata": {
    "ExecuteTime": {
     "end_time": "2020-11-10T17:38:56.535498Z",
     "start_time": "2020-11-10T17:38:56.518393Z"
    }
   },
   "outputs": [
    {
     "data": {
      "text/plain": [
       "0    970000\n",
       "1     30000\n",
       "Name: is_fraud, dtype: int64"
      ]
     },
     "execution_count": 63,
     "metadata": {},
     "output_type": "execute_result"
    }
   ],
   "source": [
    "df[target_col].value_counts()"
   ]
  },
  {
   "cell_type": "code",
   "execution_count": 64,
   "metadata": {
    "ExecuteTime": {
     "end_time": "2020-11-10T17:38:57.484116Z",
     "start_time": "2020-11-10T17:38:57.462893Z"
    }
   },
   "outputs": [
    {
     "data": {
      "text/plain": [
       "145.48616921102774"
      ]
     },
     "execution_count": 64,
     "metadata": {},
     "output_type": "execute_result"
    }
   ],
   "source": [
    "df[amount_col].mean()"
   ]
  },
  {
   "cell_type": "code",
   "execution_count": 65,
   "metadata": {
    "ExecuteTime": {
     "end_time": "2020-11-10T17:39:02.194495Z",
     "start_time": "2020-11-10T17:39:02.182398Z"
    }
   },
   "outputs": [
    {
     "data": {
      "text/plain": [
       "0.03"
      ]
     },
     "execution_count": 65,
     "metadata": {},
     "output_type": "execute_result"
    }
   ],
   "source": [
    "df[target_col].mean()"
   ]
  },
  {
   "cell_type": "code",
   "execution_count": 66,
   "metadata": {
    "ExecuteTime": {
     "end_time": "2020-11-10T17:39:03.534629Z",
     "start_time": "2020-11-10T17:39:03.431565Z"
    }
   },
   "outputs": [
    {
     "data": {
      "text/plain": [
       "amount                    0\n",
       "international_purchase    0\n",
       "is_fraud                  0\n",
       "score                     0\n",
       "dtype: int64"
      ]
     },
     "execution_count": 66,
     "metadata": {},
     "output_type": "execute_result"
    }
   ],
   "source": [
    "df.isnull().sum()"
   ]
  },
  {
   "cell_type": "code",
   "execution_count": 67,
   "metadata": {
    "ExecuteTime": {
     "end_time": "2020-11-10T17:39:05.133528Z",
     "start_time": "2020-11-10T17:39:04.222364Z"
    }
   },
   "outputs": [
    {
     "data": {
      "text/plain": [
       "<matplotlib.axes._subplots.AxesSubplot at 0x1a1a047fd0>"
      ]
     },
     "execution_count": 67,
     "metadata": {},
     "output_type": "execute_result"
    },
    {
     "data": {
      "image/png": "[encoded data removed]",
      "text/plain": [
       "<Figure size 720x720 with 1 Axes>"
      ]
     },
     "metadata": {
      "needs_background": "light"
     },
     "output_type": "display_data"
    }
   ],
   "source": [
    "fig, ax = plt.subplots(1, 1, figsize=(10, 10))\n",
    "sns.distplot(df.loc[lambda df: df[target_col] == 0][prediction_col], ax=ax, color=\"b\")\n",
    "sns.distplot(df.loc[lambda df: df[target_col] == 1][prediction_col], ax=ax, color=\"r\")"
   ]
  },
  {
   "cell_type": "code",
   "execution_count": 68,
   "metadata": {
    "ExecuteTime": {
     "end_time": "2020-11-10T17:39:06.607417Z",
     "start_time": "2020-11-10T17:39:05.922841Z"
    },
    "scrolled": true
   },
   "outputs": [
    {
     "data": {
      "text/plain": [
       "<matplotlib.axes._subplots.AxesSubplot at 0x1a1d52aa58>"
      ]
     },
     "execution_count": 68,
     "metadata": {},
     "output_type": "execute_result"
    },
    {
     "data": {
      "image/png": "[encoded data removed]",
      "text/plain": [
       "<Figure size 432x288 with 1 Axes>"
      ]
     },
     "metadata": {
      "needs_background": "light"
     },
     "output_type": "display_data"
    }
   ],
   "source": [
    "sns.distplot(df[amount_col])"
   ]
  },
  {
   "cell_type": "markdown",
   "metadata": {},
   "source": [
    "## Metricas basicas recap\n",
    "Como temos um problema de classificação, vamos focar nas metricas basicas de classificação AUC, Logloss, Matriz de Confusão"
   ]
  },
  {
   "cell_type": "code",
   "execution_count": 69,
   "metadata": {
    "ExecuteTime": {
     "end_time": "2020-11-10T17:39:08.233551Z",
     "start_time": "2020-11-10T17:39:08.229368Z"
    }
   },
   "outputs": [],
   "source": [
    "from sklearn.metrics import auc, log_loss, roc_curve, confusion_matrix, precision_recall_curve"
   ]
  },
  {
   "cell_type": "code",
   "execution_count": 70,
   "metadata": {
    "ExecuteTime": {
     "end_time": "2020-11-10T17:39:08.876142Z",
     "start_time": "2020-11-10T17:39:08.645514Z"
    }
   },
   "outputs": [
    {
     "data": {
      "text/plain": [
       "0.7564077153951889"
      ]
     },
     "execution_count": 70,
     "metadata": {},
     "output_type": "execute_result"
    }
   ],
   "source": [
    "fpr, tpr, thresholds = roc_curve(df[target_col], df[prediction_col])\n",
    "auc(fpr, tpr)"
   ]
  },
  {
   "cell_type": "code",
   "execution_count": 71,
   "metadata": {
    "ExecuteTime": {
     "end_time": "2020-11-10T17:39:09.443377Z",
     "start_time": "2020-11-10T17:39:09.223717Z"
    }
   },
   "outputs": [
    {
     "data": {
      "text/plain": [
       "0.2997721597762371"
      ]
     },
     "execution_count": 71,
     "metadata": {},
     "output_type": "execute_result"
    }
   ],
   "source": [
    "precision, recall, thresholds = precision_recall_curve(df[target_col], df[prediction_col])\n",
    "auc(recall, precision)"
   ]
  },
  {
   "cell_type": "code",
   "execution_count": 72,
   "metadata": {
    "ExecuteTime": {
     "end_time": "2020-11-10T17:39:10.087519Z",
     "start_time": "2020-11-10T17:39:09.839610Z"
    }
   },
   "outputs": [
    {
     "data": {
      "text/plain": [
       "0.5972021410718599"
      ]
     },
     "execution_count": 72,
     "metadata": {},
     "output_type": "execute_result"
    }
   ],
   "source": [
    "log_loss(df[target_col], df[prediction_col])"
   ]
  },
  {
   "cell_type": "code",
   "execution_count": 73,
   "metadata": {
    "ExecuteTime": {
     "end_time": "2020-11-10T17:39:13.804489Z",
     "start_time": "2020-11-10T17:39:10.670739Z"
    }
   },
   "outputs": [
    {
     "data": {
      "text/plain": [
       "array([[359341, 610659],\n",
       "       [  4715,  25285]])"
      ]
     },
     "execution_count": 73,
     "metadata": {},
     "output_type": "execute_result"
    }
   ],
   "source": [
    "threshold = 0.1 # definindo um threshold arbitrario pra gerar a matrix de confusao\n",
    "# o estudo de thresholds vira na sequencia\n",
    "cf_matrix = confusion_matrix(df[target_col], df[prediction_col] > threshold)\n",
    "cf_matrix\n"
   ]
  },
  {
   "cell_type": "code",
   "execution_count": 74,
   "metadata": {
    "ExecuteTime": {
     "end_time": "2020-11-10T17:39:14.013669Z",
     "start_time": "2020-11-10T17:39:13.806879Z"
    }
   },
   "outputs": [
    {
     "data": {
      "text/plain": [
       "<matplotlib.axes._subplots.AxesSubplot at 0x1a1c3a12e8>"
      ]
     },
     "execution_count": 74,
     "metadata": {},
     "output_type": "execute_result"
    },
    {
     "data": {
      "image/png": "[encoded data removed]",
      "text/plain": [
       "<Figure size 432x288 with 2 Axes>"
      ]
     },
     "metadata": {
      "needs_background": "light"
     },
     "output_type": "display_data"
    }
   ],
   "source": [
    "sns.heatmap(cf_matrix, annot=True)"
   ]
  },
  {
   "cell_type": "markdown",
   "metadata": {},
   "source": [
    "## Validação na vida real\n",
    "\n",
    "Como mencionado nos slides, se dois grupos diferentes tem comportamentos diferentes ou impactam o negócio de maneira distinta, é fundamental avaliar a performance de ambos separadamente"
   ]
  },
  {
   "cell_type": "code",
   "execution_count": 75,
   "metadata": {
    "ExecuteTime": {
     "end_time": "2020-11-10T17:44:20.305818Z",
     "start_time": "2020-11-10T17:44:20.021450Z"
    }
   },
   "outputs": [
    {
     "data": {
      "text/plain": [
       "0.7561900990430066"
      ]
     },
     "execution_count": 75,
     "metadata": {},
     "output_type": "execute_result"
    }
   ],
   "source": [
    "national_df = df.loc[df.international_purchase == 0]\n",
    "fpr_national, tpr_national, thresholds_national = roc_curve(national_df[target_col], national_df[prediction_col])\n",
    "auc(fpr_national, tpr_national)"
   ]
  },
  {
   "cell_type": "code",
   "execution_count": 77,
   "metadata": {
    "ExecuteTime": {
     "end_time": "2020-11-10T17:44:29.116820Z",
     "start_time": "2020-11-10T17:44:29.105903Z"
    }
   },
   "outputs": [
    {
     "data": {
      "text/plain": [
       "0.7718410314590902"
      ]
     },
     "execution_count": 77,
     "metadata": {},
     "output_type": "execute_result"
    }
   ],
   "source": [
    "international_df = df.loc[df.international_purchase == 1]\n",
    "fpr_international, tpr_international, thresholds_international = roc_curve(international_df[target_col], international_df[prediction_col])\n",
    "auc(fpr_international, tpr_international)"
   ]
  },
  {
   "cell_type": "markdown",
   "metadata": {},
   "source": [
    "## Definindo um threshold\n",
    "Aqui desejamos achar um corte que maximize a nossa lucrativade\n",
    "\n",
    "Primeiro, vamos definir uma função pra calcular o custo de um conjunto de decisões\n",
    "\n",
    "Depois, podemos gerar todos os thresholds possiveis e qual seria o label de cada transação nesse caso"
   ]
  },
  {
   "cell_type": "code",
   "execution_count": 78,
   "metadata": {
    "ExecuteTime": {
     "end_time": "2020-11-10T17:44:37.387815Z",
     "start_time": "2020-11-10T17:44:37.379367Z"
    }
   },
   "outputs": [],
   "source": [
    "def profit_from_decision(decision_df):\n",
    "    # decision_df must have a column `is_fraud` indicating the decision\n",
    "    # target represents the true information if that transaction was a fraud or not\n",
    "    # transaction_amount is used to calculate revenues and costs\n",
    "    return decision_df.assign(\n",
    "     operational_cost = lambda df: (df[target_col] | df[blocked_col]) * review_fraud_cost,\n",
    "     card_cost = lambda df: np.where((~df[blocked_col]) & (df[target_col]), new_card_cost, 0),\n",
    "     fraud_losses = lambda df: ((~df[blocked_col]) & (df[target_col])) * df[amount_col],\n",
    "     revenues = lambda df: ((~df[blocked_col]) & (~df[target_col])) * df[amount_col] * interchange_revenue,\n",
    "     profit = lambda df: df.revenues - (df.fraud_losses + df.operational_cost + df.card_cost)\n",
    "    )[[\"operational_cost\", \"card_cost\", \"fraud_losses\", \"revenues\", \"profit\"]].sum()"
   ]
  },
  {
   "cell_type": "code",
   "execution_count": 79,
   "metadata": {
    "ExecuteTime": {
     "end_time": "2020-11-10T17:44:44.022962Z",
     "start_time": "2020-11-10T17:44:38.771623Z"
    }
   },
   "outputs": [
    {
     "data": {
      "text/html": [
       "<div>\n",
       "<style scoped>\n",
       "    .dataframe tbody tr th:only-of-type {\n",
       "        vertical-align: middle;\n",
       "    }\n",
       "\n",
       "    .dataframe tbody tr th {\n",
       "        vertical-align: top;\n",
       "    }\n",
       "\n",
       "    .dataframe thead th {\n",
       "        text-align: right;\n",
       "    }\n",
       "</style>\n",
       "<table border=\"1\" class=\"dataframe\">\n",
       "  <thead>\n",
       "    <tr style=\"text-align: right;\">\n",
       "      <th></th>\n",
       "      <th>threshold</th>\n",
       "      <th>operational_cost</th>\n",
       "      <th>card_cost</th>\n",
       "      <th>fraud_losses</th>\n",
       "      <th>revenues</th>\n",
       "      <th>profit</th>\n",
       "    </tr>\n",
       "  </thead>\n",
       "  <tbody>\n",
       "    <tr>\n",
       "      <th>0</th>\n",
       "      <td>0.001</td>\n",
       "      <td>6027608.0</td>\n",
       "      <td>13672.0</td>\n",
       "      <td>2.212524e+06</td>\n",
       "      <td>477088.261711</td>\n",
       "      <td>-7.776716e+06</td>\n",
       "    </tr>\n",
       "    <tr>\n",
       "      <th>1</th>\n",
       "      <td>0.051</td>\n",
       "      <td>5589464.0</td>\n",
       "      <td>16092.0</td>\n",
       "      <td>2.602805e+06</td>\n",
       "      <td>582923.577678</td>\n",
       "      <td>-7.625437e+06</td>\n",
       "    </tr>\n",
       "    <tr>\n",
       "      <th>2</th>\n",
       "      <td>0.101</td>\n",
       "      <td>5115408.0</td>\n",
       "      <td>18916.0</td>\n",
       "      <td>3.084597e+06</td>\n",
       "      <td>697970.766288</td>\n",
       "      <td>-7.520950e+06</td>\n",
       "    </tr>\n",
       "    <tr>\n",
       "      <th>3</th>\n",
       "      <td>0.151</td>\n",
       "      <td>4616776.0</td>\n",
       "      <td>21952.0</td>\n",
       "      <td>3.574147e+06</td>\n",
       "      <td>819997.795974</td>\n",
       "      <td>-7.392877e+06</td>\n",
       "    </tr>\n",
       "    <tr>\n",
       "      <th>4</th>\n",
       "      <td>0.201</td>\n",
       "      <td>4103032.0</td>\n",
       "      <td>25480.0</td>\n",
       "      <td>4.140294e+06</td>\n",
       "      <td>945804.057566</td>\n",
       "      <td>-7.323002e+06</td>\n",
       "    </tr>\n",
       "  </tbody>\n",
       "</table>\n",
       "</div>"
      ],
      "text/plain": [
       "   threshold  operational_cost  card_cost  fraud_losses       revenues  \\\n",
       "0      0.001         6027608.0    13672.0  2.212524e+06  477088.261711   \n",
       "1      0.051         5589464.0    16092.0  2.602805e+06  582923.577678   \n",
       "2      0.101         5115408.0    18916.0  3.084597e+06  697970.766288   \n",
       "3      0.151         4616776.0    21952.0  3.574147e+06  819997.795974   \n",
       "4      0.201         4103032.0    25480.0  4.140294e+06  945804.057566   \n",
       "\n",
       "         profit  \n",
       "0 -7.776716e+06  \n",
       "1 -7.625437e+06  \n",
       "2 -7.520950e+06  \n",
       "3 -7.392877e+06  \n",
       "4 -7.323002e+06  "
      ]
     },
     "execution_count": 79,
     "metadata": {},
     "output_type": "execute_result"
    }
   ],
   "source": [
    "possible_thresholds = np.arange(0.001, 1.0, 0.05)\n",
    "all_decisions = []\n",
    "for threshold in possible_thresholds: \n",
    "    all_decisions.append(profit_from_decision(df.assign(blocked=lambda df: df[prediction_col] >= threshold)))\n",
    "    \n",
    "\n",
    "threshold_evaluation = pd.concat(all_decisions, axis=1, keys=[s for s in possible_thresholds]).T.rename_axis(\"threshold\").reset_index()\n",
    "\n",
    "threshold_evaluation.head(5)"
   ]
  },
  {
   "cell_type": "code",
   "execution_count": 80,
   "metadata": {
    "ExecuteTime": {
     "end_time": "2020-11-10T17:44:44.508591Z",
     "start_time": "2020-11-10T17:44:44.025151Z"
    }
   },
   "outputs": [
    {
     "data": {
      "text/plain": [
       "<matplotlib.legend.Legend at 0x108adf0b8>"
      ]
     },
     "execution_count": 80,
     "metadata": {},
     "output_type": "execute_result"
    },
    {
     "data": {
      "image/png": "[encoded data removed]",
      "text/plain": [
       "<Figure size 1080x720 with 1 Axes>"
      ]
     },
     "metadata": {
      "needs_background": "light"
     },
     "output_type": "display_data"
    }
   ],
   "source": [
    "fig, ax = plt.subplots(1, 1, figsize=(15, 10))\n",
    "sns.lineplot(threshold_evaluation.threshold, threshold_evaluation.fraud_losses, color=\"m\")\n",
    "sns.lineplot(threshold_evaluation.threshold, threshold_evaluation.operational_cost, color=\"r\")\n",
    "sns.lineplot(threshold_evaluation.threshold, threshold_evaluation.card_cost, color=\"y\")\n",
    "sns.lineplot(threshold_evaluation.threshold, threshold_evaluation.revenues, color=\"b\")\n",
    "sns.lineplot(threshold_evaluation.threshold, threshold_evaluation.profit, color=\"g\")\n",
    "\n",
    "ax.legend([\"fraud_losses\", \"operational_costs\", \"card_costs\", \"revenues\", \"profit\"])\n",
    "# plt.title(\"Costs (g), Revenues (b), Profit (r)\")"
   ]
  },
  {
   "cell_type": "code",
   "execution_count": 82,
   "metadata": {
    "ExecuteTime": {
     "end_time": "2020-11-10T17:44:47.520251Z",
     "start_time": "2020-11-10T17:44:47.514074Z"
    }
   },
   "outputs": [
    {
     "data": {
      "text/plain": [
       "threshold           2.510000e-01\n",
       "operational_cost    3.588960e+06\n",
       "card_cost           2.900800e+04\n",
       "fraud_losses        4.710877e+06\n",
       "revenues            1.070782e+06\n",
       "profit             -7.258064e+06\n",
       "Name: 5, dtype: float64"
      ]
     },
     "execution_count": 82,
     "metadata": {},
     "output_type": "execute_result"
    }
   ],
   "source": [
    "best_decision = threshold_evaluation.loc[lambda df: df[\"profit\"].idxmax()]\n",
    "best_decision"
   ]
  },
  {
   "cell_type": "code",
   "execution_count": 84,
   "metadata": {
    "ExecuteTime": {
     "end_time": "2020-11-10T17:45:10.981530Z",
     "start_time": "2020-11-10T17:45:10.937161Z"
    }
   },
   "outputs": [
    {
     "data": {
      "text/html": [
       "<div>\n",
       "<style scoped>\n",
       "    .dataframe tbody tr th:only-of-type {\n",
       "        vertical-align: middle;\n",
       "    }\n",
       "\n",
       "    .dataframe tbody tr th {\n",
       "        vertical-align: top;\n",
       "    }\n",
       "\n",
       "    .dataframe thead th {\n",
       "        text-align: right;\n",
       "    }\n",
       "</style>\n",
       "<table border=\"1\" class=\"dataframe\">\n",
       "  <thead>\n",
       "    <tr style=\"text-align: right;\">\n",
       "      <th></th>\n",
       "      <th>amount</th>\n",
       "      <th>international_purchase</th>\n",
       "      <th>is_fraud</th>\n",
       "      <th>score</th>\n",
       "      <th>blocked</th>\n",
       "    </tr>\n",
       "  </thead>\n",
       "  <tbody>\n",
       "    <tr>\n",
       "      <th>0</th>\n",
       "      <td>291.899285</td>\n",
       "      <td>0</td>\n",
       "      <td>0</td>\n",
       "      <td>0.264879</td>\n",
       "      <td>True</td>\n",
       "    </tr>\n",
       "    <tr>\n",
       "      <th>1</th>\n",
       "      <td>29.372090</td>\n",
       "      <td>0</td>\n",
       "      <td>0</td>\n",
       "      <td>0.183100</td>\n",
       "      <td>False</td>\n",
       "    </tr>\n",
       "    <tr>\n",
       "      <th>2</th>\n",
       "      <td>153.462670</td>\n",
       "      <td>0</td>\n",
       "      <td>0</td>\n",
       "      <td>0.117238</td>\n",
       "      <td>False</td>\n",
       "    </tr>\n",
       "    <tr>\n",
       "      <th>3</th>\n",
       "      <td>471.391548</td>\n",
       "      <td>0</td>\n",
       "      <td>0</td>\n",
       "      <td>0.163781</td>\n",
       "      <td>False</td>\n",
       "    </tr>\n",
       "    <tr>\n",
       "      <th>4</th>\n",
       "      <td>17.260943</td>\n",
       "      <td>0</td>\n",
       "      <td>0</td>\n",
       "      <td>0.312624</td>\n",
       "      <td>True</td>\n",
       "    </tr>\n",
       "    <tr>\n",
       "      <th>5</th>\n",
       "      <td>38.895820</td>\n",
       "      <td>0</td>\n",
       "      <td>0</td>\n",
       "      <td>0.291718</td>\n",
       "      <td>True</td>\n",
       "    </tr>\n",
       "    <tr>\n",
       "      <th>6</th>\n",
       "      <td>62.400743</td>\n",
       "      <td>0</td>\n",
       "      <td>0</td>\n",
       "      <td>0.187849</td>\n",
       "      <td>False</td>\n",
       "    </tr>\n",
       "    <tr>\n",
       "      <th>7</th>\n",
       "      <td>2.941405</td>\n",
       "      <td>0</td>\n",
       "      <td>0</td>\n",
       "      <td>0.000000</td>\n",
       "      <td>False</td>\n",
       "    </tr>\n",
       "    <tr>\n",
       "      <th>8</th>\n",
       "      <td>58.097295</td>\n",
       "      <td>0</td>\n",
       "      <td>0</td>\n",
       "      <td>0.474347</td>\n",
       "      <td>True</td>\n",
       "    </tr>\n",
       "    <tr>\n",
       "      <th>9</th>\n",
       "      <td>375.249275</td>\n",
       "      <td>0</td>\n",
       "      <td>1</td>\n",
       "      <td>0.000000</td>\n",
       "      <td>False</td>\n",
       "    </tr>\n",
       "    <tr>\n",
       "      <th>10</th>\n",
       "      <td>70.346490</td>\n",
       "      <td>0</td>\n",
       "      <td>0</td>\n",
       "      <td>0.320818</td>\n",
       "      <td>True</td>\n",
       "    </tr>\n",
       "    <tr>\n",
       "      <th>11</th>\n",
       "      <td>8.639156</td>\n",
       "      <td>0</td>\n",
       "      <td>0</td>\n",
       "      <td>0.000000</td>\n",
       "      <td>False</td>\n",
       "    </tr>\n",
       "    <tr>\n",
       "      <th>12</th>\n",
       "      <td>4.649594</td>\n",
       "      <td>0</td>\n",
       "      <td>0</td>\n",
       "      <td>0.016006</td>\n",
       "      <td>False</td>\n",
       "    </tr>\n",
       "    <tr>\n",
       "      <th>13</th>\n",
       "      <td>665.632547</td>\n",
       "      <td>0</td>\n",
       "      <td>0</td>\n",
       "      <td>0.263351</td>\n",
       "      <td>True</td>\n",
       "    </tr>\n",
       "    <tr>\n",
       "      <th>14</th>\n",
       "      <td>41.905006</td>\n",
       "      <td>0</td>\n",
       "      <td>0</td>\n",
       "      <td>0.000000</td>\n",
       "      <td>False</td>\n",
       "    </tr>\n",
       "    <tr>\n",
       "      <th>15</th>\n",
       "      <td>12.094364</td>\n",
       "      <td>0</td>\n",
       "      <td>0</td>\n",
       "      <td>0.200914</td>\n",
       "      <td>False</td>\n",
       "    </tr>\n",
       "    <tr>\n",
       "      <th>16</th>\n",
       "      <td>2.122142</td>\n",
       "      <td>0</td>\n",
       "      <td>0</td>\n",
       "      <td>0.582530</td>\n",
       "      <td>True</td>\n",
       "    </tr>\n",
       "    <tr>\n",
       "      <th>17</th>\n",
       "      <td>28.602154</td>\n",
       "      <td>0</td>\n",
       "      <td>0</td>\n",
       "      <td>0.126423</td>\n",
       "      <td>False</td>\n",
       "    </tr>\n",
       "    <tr>\n",
       "      <th>18</th>\n",
       "      <td>23.094085</td>\n",
       "      <td>0</td>\n",
       "      <td>0</td>\n",
       "      <td>0.000000</td>\n",
       "      <td>False</td>\n",
       "    </tr>\n",
       "    <tr>\n",
       "      <th>19</th>\n",
       "      <td>1503.204483</td>\n",
       "      <td>0</td>\n",
       "      <td>1</td>\n",
       "      <td>0.628303</td>\n",
       "      <td>True</td>\n",
       "    </tr>\n",
       "    <tr>\n",
       "      <th>20</th>\n",
       "      <td>65.532777</td>\n",
       "      <td>0</td>\n",
       "      <td>0</td>\n",
       "      <td>0.130127</td>\n",
       "      <td>False</td>\n",
       "    </tr>\n",
       "    <tr>\n",
       "      <th>21</th>\n",
       "      <td>176.534022</td>\n",
       "      <td>0</td>\n",
       "      <td>0</td>\n",
       "      <td>0.208324</td>\n",
       "      <td>False</td>\n",
       "    </tr>\n",
       "    <tr>\n",
       "      <th>22</th>\n",
       "      <td>3.660321</td>\n",
       "      <td>0</td>\n",
       "      <td>0</td>\n",
       "      <td>0.355643</td>\n",
       "      <td>True</td>\n",
       "    </tr>\n",
       "    <tr>\n",
       "      <th>23</th>\n",
       "      <td>468.257279</td>\n",
       "      <td>0</td>\n",
       "      <td>0</td>\n",
       "      <td>0.000000</td>\n",
       "      <td>False</td>\n",
       "    </tr>\n",
       "    <tr>\n",
       "      <th>24</th>\n",
       "      <td>60.828885</td>\n",
       "      <td>0</td>\n",
       "      <td>0</td>\n",
       "      <td>0.000000</td>\n",
       "      <td>False</td>\n",
       "    </tr>\n",
       "    <tr>\n",
       "      <th>25</th>\n",
       "      <td>56.100581</td>\n",
       "      <td>0</td>\n",
       "      <td>0</td>\n",
       "      <td>0.000000</td>\n",
       "      <td>False</td>\n",
       "    </tr>\n",
       "    <tr>\n",
       "      <th>26</th>\n",
       "      <td>64.984256</td>\n",
       "      <td>0</td>\n",
       "      <td>0</td>\n",
       "      <td>0.332214</td>\n",
       "      <td>True</td>\n",
       "    </tr>\n",
       "    <tr>\n",
       "      <th>27</th>\n",
       "      <td>370.675513</td>\n",
       "      <td>0</td>\n",
       "      <td>0</td>\n",
       "      <td>0.136926</td>\n",
       "      <td>False</td>\n",
       "    </tr>\n",
       "    <tr>\n",
       "      <th>28</th>\n",
       "      <td>36.743443</td>\n",
       "      <td>0</td>\n",
       "      <td>0</td>\n",
       "      <td>0.492195</td>\n",
       "      <td>True</td>\n",
       "    </tr>\n",
       "    <tr>\n",
       "      <th>29</th>\n",
       "      <td>119.437663</td>\n",
       "      <td>0</td>\n",
       "      <td>0</td>\n",
       "      <td>0.000000</td>\n",
       "      <td>False</td>\n",
       "    </tr>\n",
       "    <tr>\n",
       "      <th>...</th>\n",
       "      <td>...</td>\n",
       "      <td>...</td>\n",
       "      <td>...</td>\n",
       "      <td>...</td>\n",
       "      <td>...</td>\n",
       "    </tr>\n",
       "    <tr>\n",
       "      <th>999970</th>\n",
       "      <td>752.492834</td>\n",
       "      <td>0</td>\n",
       "      <td>1</td>\n",
       "      <td>1.000000</td>\n",
       "      <td>True</td>\n",
       "    </tr>\n",
       "    <tr>\n",
       "      <th>999971</th>\n",
       "      <td>55.067082</td>\n",
       "      <td>0</td>\n",
       "      <td>0</td>\n",
       "      <td>0.561241</td>\n",
       "      <td>True</td>\n",
       "    </tr>\n",
       "    <tr>\n",
       "      <th>999972</th>\n",
       "      <td>37.419595</td>\n",
       "      <td>0</td>\n",
       "      <td>0</td>\n",
       "      <td>0.066982</td>\n",
       "      <td>False</td>\n",
       "    </tr>\n",
       "    <tr>\n",
       "      <th>999973</th>\n",
       "      <td>50.260396</td>\n",
       "      <td>0</td>\n",
       "      <td>0</td>\n",
       "      <td>0.434562</td>\n",
       "      <td>True</td>\n",
       "    </tr>\n",
       "    <tr>\n",
       "      <th>999974</th>\n",
       "      <td>25.263322</td>\n",
       "      <td>0</td>\n",
       "      <td>0</td>\n",
       "      <td>0.322596</td>\n",
       "      <td>True</td>\n",
       "    </tr>\n",
       "    <tr>\n",
       "      <th>999975</th>\n",
       "      <td>234.601740</td>\n",
       "      <td>0</td>\n",
       "      <td>0</td>\n",
       "      <td>0.241925</td>\n",
       "      <td>False</td>\n",
       "    </tr>\n",
       "    <tr>\n",
       "      <th>999976</th>\n",
       "      <td>38.064391</td>\n",
       "      <td>0</td>\n",
       "      <td>0</td>\n",
       "      <td>0.000000</td>\n",
       "      <td>False</td>\n",
       "    </tr>\n",
       "    <tr>\n",
       "      <th>999977</th>\n",
       "      <td>244.548275</td>\n",
       "      <td>0</td>\n",
       "      <td>0</td>\n",
       "      <td>0.009845</td>\n",
       "      <td>False</td>\n",
       "    </tr>\n",
       "    <tr>\n",
       "      <th>999978</th>\n",
       "      <td>153.221309</td>\n",
       "      <td>0</td>\n",
       "      <td>0</td>\n",
       "      <td>0.258323</td>\n",
       "      <td>True</td>\n",
       "    </tr>\n",
       "    <tr>\n",
       "      <th>999979</th>\n",
       "      <td>68.790129</td>\n",
       "      <td>0</td>\n",
       "      <td>0</td>\n",
       "      <td>0.683926</td>\n",
       "      <td>True</td>\n",
       "    </tr>\n",
       "    <tr>\n",
       "      <th>999980</th>\n",
       "      <td>44.923577</td>\n",
       "      <td>0</td>\n",
       "      <td>0</td>\n",
       "      <td>0.541725</td>\n",
       "      <td>True</td>\n",
       "    </tr>\n",
       "    <tr>\n",
       "      <th>999981</th>\n",
       "      <td>26.733452</td>\n",
       "      <td>0</td>\n",
       "      <td>0</td>\n",
       "      <td>0.606405</td>\n",
       "      <td>True</td>\n",
       "    </tr>\n",
       "    <tr>\n",
       "      <th>999982</th>\n",
       "      <td>82.710050</td>\n",
       "      <td>0</td>\n",
       "      <td>0</td>\n",
       "      <td>0.457183</td>\n",
       "      <td>True</td>\n",
       "    </tr>\n",
       "    <tr>\n",
       "      <th>999983</th>\n",
       "      <td>29.249596</td>\n",
       "      <td>0</td>\n",
       "      <td>1</td>\n",
       "      <td>0.716711</td>\n",
       "      <td>True</td>\n",
       "    </tr>\n",
       "    <tr>\n",
       "      <th>999984</th>\n",
       "      <td>86.881450</td>\n",
       "      <td>0</td>\n",
       "      <td>0</td>\n",
       "      <td>0.026874</td>\n",
       "      <td>False</td>\n",
       "    </tr>\n",
       "    <tr>\n",
       "      <th>999985</th>\n",
       "      <td>118.275813</td>\n",
       "      <td>0</td>\n",
       "      <td>0</td>\n",
       "      <td>0.850220</td>\n",
       "      <td>True</td>\n",
       "    </tr>\n",
       "    <tr>\n",
       "      <th>999986</th>\n",
       "      <td>13.692984</td>\n",
       "      <td>0</td>\n",
       "      <td>0</td>\n",
       "      <td>0.311495</td>\n",
       "      <td>True</td>\n",
       "    </tr>\n",
       "    <tr>\n",
       "      <th>999987</th>\n",
       "      <td>141.293271</td>\n",
       "      <td>0</td>\n",
       "      <td>0</td>\n",
       "      <td>0.000000</td>\n",
       "      <td>False</td>\n",
       "    </tr>\n",
       "    <tr>\n",
       "      <th>999988</th>\n",
       "      <td>156.525817</td>\n",
       "      <td>0</td>\n",
       "      <td>0</td>\n",
       "      <td>0.098237</td>\n",
       "      <td>False</td>\n",
       "    </tr>\n",
       "    <tr>\n",
       "      <th>999989</th>\n",
       "      <td>88.813773</td>\n",
       "      <td>0</td>\n",
       "      <td>0</td>\n",
       "      <td>0.197590</td>\n",
       "      <td>False</td>\n",
       "    </tr>\n",
       "    <tr>\n",
       "      <th>999990</th>\n",
       "      <td>6.056935</td>\n",
       "      <td>0</td>\n",
       "      <td>0</td>\n",
       "      <td>0.680292</td>\n",
       "      <td>True</td>\n",
       "    </tr>\n",
       "    <tr>\n",
       "      <th>999991</th>\n",
       "      <td>40.105148</td>\n",
       "      <td>0</td>\n",
       "      <td>0</td>\n",
       "      <td>0.371226</td>\n",
       "      <td>True</td>\n",
       "    </tr>\n",
       "    <tr>\n",
       "      <th>999992</th>\n",
       "      <td>390.903631</td>\n",
       "      <td>0</td>\n",
       "      <td>0</td>\n",
       "      <td>0.261147</td>\n",
       "      <td>True</td>\n",
       "    </tr>\n",
       "    <tr>\n",
       "      <th>999993</th>\n",
       "      <td>13.425910</td>\n",
       "      <td>0</td>\n",
       "      <td>0</td>\n",
       "      <td>0.000000</td>\n",
       "      <td>False</td>\n",
       "    </tr>\n",
       "    <tr>\n",
       "      <th>999994</th>\n",
       "      <td>361.173916</td>\n",
       "      <td>0</td>\n",
       "      <td>0</td>\n",
       "      <td>0.579710</td>\n",
       "      <td>True</td>\n",
       "    </tr>\n",
       "    <tr>\n",
       "      <th>999995</th>\n",
       "      <td>46.829746</td>\n",
       "      <td>0</td>\n",
       "      <td>0</td>\n",
       "      <td>0.293489</td>\n",
       "      <td>True</td>\n",
       "    </tr>\n",
       "    <tr>\n",
       "      <th>999996</th>\n",
       "      <td>10.841708</td>\n",
       "      <td>0</td>\n",
       "      <td>0</td>\n",
       "      <td>0.259221</td>\n",
       "      <td>True</td>\n",
       "    </tr>\n",
       "    <tr>\n",
       "      <th>999997</th>\n",
       "      <td>638.797550</td>\n",
       "      <td>0</td>\n",
       "      <td>0</td>\n",
       "      <td>0.000000</td>\n",
       "      <td>False</td>\n",
       "    </tr>\n",
       "    <tr>\n",
       "      <th>999998</th>\n",
       "      <td>10.486397</td>\n",
       "      <td>0</td>\n",
       "      <td>0</td>\n",
       "      <td>0.671582</td>\n",
       "      <td>True</td>\n",
       "    </tr>\n",
       "    <tr>\n",
       "      <th>999999</th>\n",
       "      <td>22.539276</td>\n",
       "      <td>0</td>\n",
       "      <td>0</td>\n",
       "      <td>0.047435</td>\n",
       "      <td>False</td>\n",
       "    </tr>\n",
       "  </tbody>\n",
       "</table>\n",
       "<p>1000000 rows × 5 columns</p>\n",
       "</div>"
      ],
      "text/plain": [
       "             amount  international_purchase  is_fraud     score  blocked\n",
       "0        291.899285                       0         0  0.264879     True\n",
       "1         29.372090                       0         0  0.183100    False\n",
       "2        153.462670                       0         0  0.117238    False\n",
       "3        471.391548                       0         0  0.163781    False\n",
       "4         17.260943                       0         0  0.312624     True\n",
       "5         38.895820                       0         0  0.291718     True\n",
       "6         62.400743                       0         0  0.187849    False\n",
       "7          2.941405                       0         0  0.000000    False\n",
       "8         58.097295                       0         0  0.474347     True\n",
       "9        375.249275                       0         1  0.000000    False\n",
       "10        70.346490                       0         0  0.320818     True\n",
       "11         8.639156                       0         0  0.000000    False\n",
       "12         4.649594                       0         0  0.016006    False\n",
       "13       665.632547                       0         0  0.263351     True\n",
       "14        41.905006                       0         0  0.000000    False\n",
       "15        12.094364                       0         0  0.200914    False\n",
       "16         2.122142                       0         0  0.582530     True\n",
       "17        28.602154                       0         0  0.126423    False\n",
       "18        23.094085                       0         0  0.000000    False\n",
       "19      1503.204483                       0         1  0.628303     True\n",
       "20        65.532777                       0         0  0.130127    False\n",
       "21       176.534022                       0         0  0.208324    False\n",
       "22         3.660321                       0         0  0.355643     True\n",
       "23       468.257279                       0         0  0.000000    False\n",
       "24        60.828885                       0         0  0.000000    False\n",
       "25        56.100581                       0         0  0.000000    False\n",
       "26        64.984256                       0         0  0.332214     True\n",
       "27       370.675513                       0         0  0.136926    False\n",
       "28        36.743443                       0         0  0.492195     True\n",
       "29       119.437663                       0         0  0.000000    False\n",
       "...             ...                     ...       ...       ...      ...\n",
       "999970   752.492834                       0         1  1.000000     True\n",
       "999971    55.067082                       0         0  0.561241     True\n",
       "999972    37.419595                       0         0  0.066982    False\n",
       "999973    50.260396                       0         0  0.434562     True\n",
       "999974    25.263322                       0         0  0.322596     True\n",
       "999975   234.601740                       0         0  0.241925    False\n",
       "999976    38.064391                       0         0  0.000000    False\n",
       "999977   244.548275                       0         0  0.009845    False\n",
       "999978   153.221309                       0         0  0.258323     True\n",
       "999979    68.790129                       0         0  0.683926     True\n",
       "999980    44.923577                       0         0  0.541725     True\n",
       "999981    26.733452                       0         0  0.606405     True\n",
       "999982    82.710050                       0         0  0.457183     True\n",
       "999983    29.249596                       0         1  0.716711     True\n",
       "999984    86.881450                       0         0  0.026874    False\n",
       "999985   118.275813                       0         0  0.850220     True\n",
       "999986    13.692984                       0         0  0.311495     True\n",
       "999987   141.293271                       0         0  0.000000    False\n",
       "999988   156.525817                       0         0  0.098237    False\n",
       "999989    88.813773                       0         0  0.197590    False\n",
       "999990     6.056935                       0         0  0.680292     True\n",
       "999991    40.105148                       0         0  0.371226     True\n",
       "999992   390.903631                       0         0  0.261147     True\n",
       "999993    13.425910                       0         0  0.000000    False\n",
       "999994   361.173916                       0         0  0.579710     True\n",
       "999995    46.829746                       0         0  0.293489     True\n",
       "999996    10.841708                       0         0  0.259221     True\n",
       "999997   638.797550                       0         0  0.000000    False\n",
       "999998    10.486397                       0         0  0.671582     True\n",
       "999999    22.539276                       0         0  0.047435    False\n",
       "\n",
       "[1000000 rows x 5 columns]"
      ]
     },
     "execution_count": 84,
     "metadata": {},
     "output_type": "execute_result"
    }
   ],
   "source": [
    "threshold_df = df.assign(blocked=lambda df: df[prediction_col] >= best_decision.threshold)\n",
    "threshold_df"
   ]
  },
  {
   "cell_type": "markdown",
   "metadata": {
    "ExecuteTime": {
     "end_time": "2020-11-03T22:11:49.681064Z",
     "start_time": "2020-11-03T22:11:49.676358Z"
    }
   },
   "source": [
    "## Calibrando um modelo\n",
    "\n",
    "Para construção de um modelo de negócio que utilize as probabilidades, é fundamental que essas probabilidades estejam calibradas com o target"
   ]
  },
  {
   "cell_type": "markdown",
   "metadata": {},
   "source": [
    "### Calibração"
   ]
  },
  {
   "cell_type": "code",
   "execution_count": 85,
   "metadata": {
    "ExecuteTime": {
     "end_time": "2020-11-10T17:45:25.206820Z",
     "start_time": "2020-11-10T17:45:24.830762Z"
    }
   },
   "outputs": [],
   "source": [
    "from fklearn.training.calibration import isotonic_calibration_learner\n",
    "from sklearn.calibration import calibration_curve\n",
    "isotonic_calibration_fn, transformed_df, logs = isotonic_calibration_learner(df,\n",
    "                                                                             target_column=target_col,\n",
    "                                                                            prediction_column=prediction_col)"
   ]
  },
  {
   "cell_type": "code",
   "execution_count": 86,
   "metadata": {
    "ExecuteTime": {
     "end_time": "2020-11-10T17:45:26.186108Z",
     "start_time": "2020-11-10T17:45:25.968324Z"
    }
   },
   "outputs": [
    {
     "data": {
      "text/plain": [
       "(array([9.43963e+05, 3.01730e+04, 1.04290e+04, 2.21500e+03, 2.67300e+03,\n",
       "        5.69000e+02, 0.00000e+00, 0.00000e+00, 0.00000e+00, 9.97800e+03]),\n",
       " array([0.01277539, 0.07507773, 0.13738007, 0.1996824 , 0.26198474,\n",
       "        0.32428707, 0.38658941, 0.44889175, 0.51119408, 0.57349642,\n",
       "        0.63579876]),\n",
       " <a list of 10 Patch objects>)"
      ]
     },
     "execution_count": 86,
     "metadata": {},
     "output_type": "execute_result"
    },
    {
     "data": {
      "image/png": "[encoded data removed]",
      "text/plain": [
       "<Figure size 432x288 with 1 Axes>"
      ]
     },
     "metadata": {
      "needs_background": "light"
     },
     "output_type": "display_data"
    }
   ],
   "source": [
    "plt.hist(transformed_df[\"calibrated_prediction\"])"
   ]
  },
  {
   "cell_type": "code",
   "execution_count": 87,
   "metadata": {
    "ExecuteTime": {
     "end_time": "2020-11-10T17:45:30.508109Z",
     "start_time": "2020-11-10T17:45:29.728255Z"
    }
   },
   "outputs": [
    {
     "data": {
      "text/plain": [
       "<matplotlib.axes._subplots.AxesSubplot at 0x1a212b1358>"
      ]
     },
     "execution_count": 87,
     "metadata": {},
     "output_type": "execute_result"
    },
    {
     "data": {
      "image/png": "[encoded data removed]",
      "text/plain": [
       "<Figure size 432x288 with 1 Axes>"
      ]
     },
     "metadata": {
      "needs_background": "light"
     },
     "output_type": "display_data"
    },
    {
     "data": {
      "image/png": "[encoded data removed]",
      "text/plain": [
       "<Figure size 432x288 with 1 Axes>"
      ]
     },
     "metadata": {
      "needs_background": "light"
     },
     "output_type": "display_data"
    }
   ],
   "source": [
    "(transformed_df.assign(percentiles = pd.qcut(transformed_df[\"calibrated_prediction\"], q= 20, duplicates=\"drop\"))\n",
    ".groupby(\"percentiles\").agg({target_col: \"mean\", prediction_col: \"mean\"})).plot(x=target_col, y=prediction_col)\n",
    "(transformed_df.assign(percentiles = pd.qcut(transformed_df[\"calibrated_prediction\"], q= 20, duplicates=\"drop\"))\n",
    ".groupby(\"percentiles\").agg({target_col: \"mean\", prediction_col: \"mean\", \"calibrated_prediction\": \"mean\"})).plot(x=target_col, y=\"calibrated_prediction\")"
   ]
  },
  {
   "cell_type": "markdown",
   "metadata": {},
   "source": [
    "### Gerando o ponto otimo da curva de otimização"
   ]
  },
  {
   "cell_type": "code",
   "execution_count": 88,
   "metadata": {
    "ExecuteTime": {
     "end_time": "2020-11-10T17:45:35.840233Z",
     "start_time": "2020-11-10T17:45:35.810133Z"
    }
   },
   "outputs": [
    {
     "data": {
      "text/html": [
       "<div>\n",
       "<style scoped>\n",
       "    .dataframe tbody tr th:only-of-type {\n",
       "        vertical-align: middle;\n",
       "    }\n",
       "\n",
       "    .dataframe tbody tr th {\n",
       "        vertical-align: top;\n",
       "    }\n",
       "\n",
       "    .dataframe thead th {\n",
       "        text-align: right;\n",
       "    }\n",
       "</style>\n",
       "<table border=\"1\" class=\"dataframe\">\n",
       "  <thead>\n",
       "    <tr style=\"text-align: right;\">\n",
       "      <th></th>\n",
       "      <th>amount</th>\n",
       "      <th>threshold</th>\n",
       "    </tr>\n",
       "  </thead>\n",
       "  <tbody>\n",
       "    <tr>\n",
       "      <th>0</th>\n",
       "      <td>10</td>\n",
       "      <td>0.367946</td>\n",
       "    </tr>\n",
       "    <tr>\n",
       "      <th>1</th>\n",
       "      <td>20</td>\n",
       "      <td>0.256966</td>\n",
       "    </tr>\n",
       "    <tr>\n",
       "      <th>2</th>\n",
       "      <td>30</td>\n",
       "      <td>0.199058</td>\n",
       "    </tr>\n",
       "    <tr>\n",
       "      <th>3</th>\n",
       "      <td>40</td>\n",
       "      <td>0.163498</td>\n",
       "    </tr>\n",
       "    <tr>\n",
       "      <th>4</th>\n",
       "      <td>50</td>\n",
       "      <td>0.139442</td>\n",
       "    </tr>\n",
       "    <tr>\n",
       "      <th>5</th>\n",
       "      <td>60</td>\n",
       "      <td>0.122085</td>\n",
       "    </tr>\n",
       "    <tr>\n",
       "      <th>6</th>\n",
       "      <td>70</td>\n",
       "      <td>0.108970</td>\n",
       "    </tr>\n",
       "    <tr>\n",
       "      <th>7</th>\n",
       "      <td>80</td>\n",
       "      <td>0.098712</td>\n",
       "    </tr>\n",
       "    <tr>\n",
       "      <th>8</th>\n",
       "      <td>90</td>\n",
       "      <td>0.090469</td>\n",
       "    </tr>\n",
       "    <tr>\n",
       "      <th>9</th>\n",
       "      <td>100</td>\n",
       "      <td>0.083700</td>\n",
       "    </tr>\n",
       "    <tr>\n",
       "      <th>10</th>\n",
       "      <td>110</td>\n",
       "      <td>0.078043</td>\n",
       "    </tr>\n",
       "    <tr>\n",
       "      <th>11</th>\n",
       "      <td>120</td>\n",
       "      <td>0.073244</td>\n",
       "    </tr>\n",
       "    <tr>\n",
       "      <th>12</th>\n",
       "      <td>130</td>\n",
       "      <td>0.069121</td>\n",
       "    </tr>\n",
       "    <tr>\n",
       "      <th>13</th>\n",
       "      <td>140</td>\n",
       "      <td>0.065542</td>\n",
       "    </tr>\n",
       "    <tr>\n",
       "      <th>14</th>\n",
       "      <td>150</td>\n",
       "      <td>0.062405</td>\n",
       "    </tr>\n",
       "    <tr>\n",
       "      <th>15</th>\n",
       "      <td>160</td>\n",
       "      <td>0.059633</td>\n",
       "    </tr>\n",
       "    <tr>\n",
       "      <th>16</th>\n",
       "      <td>170</td>\n",
       "      <td>0.057166</td>\n",
       "    </tr>\n",
       "    <tr>\n",
       "      <th>17</th>\n",
       "      <td>180</td>\n",
       "      <td>0.054956</td>\n",
       "    </tr>\n",
       "    <tr>\n",
       "      <th>18</th>\n",
       "      <td>190</td>\n",
       "      <td>0.052966</td>\n",
       "    </tr>\n",
       "    <tr>\n",
       "      <th>19</th>\n",
       "      <td>200</td>\n",
       "      <td>0.051163</td>\n",
       "    </tr>\n",
       "    <tr>\n",
       "      <th>20</th>\n",
       "      <td>210</td>\n",
       "      <td>0.049523</td>\n",
       "    </tr>\n",
       "    <tr>\n",
       "      <th>21</th>\n",
       "      <td>220</td>\n",
       "      <td>0.048024</td>\n",
       "    </tr>\n",
       "    <tr>\n",
       "      <th>22</th>\n",
       "      <td>230</td>\n",
       "      <td>0.046649</td>\n",
       "    </tr>\n",
       "    <tr>\n",
       "      <th>23</th>\n",
       "      <td>240</td>\n",
       "      <td>0.045383</td>\n",
       "    </tr>\n",
       "    <tr>\n",
       "      <th>24</th>\n",
       "      <td>250</td>\n",
       "      <td>0.044214</td>\n",
       "    </tr>\n",
       "    <tr>\n",
       "      <th>25</th>\n",
       "      <td>260</td>\n",
       "      <td>0.043132</td>\n",
       "    </tr>\n",
       "    <tr>\n",
       "      <th>26</th>\n",
       "      <td>270</td>\n",
       "      <td>0.042126</td>\n",
       "    </tr>\n",
       "    <tr>\n",
       "      <th>27</th>\n",
       "      <td>280</td>\n",
       "      <td>0.041188</td>\n",
       "    </tr>\n",
       "    <tr>\n",
       "      <th>28</th>\n",
       "      <td>290</td>\n",
       "      <td>0.040313</td>\n",
       "    </tr>\n",
       "    <tr>\n",
       "      <th>29</th>\n",
       "      <td>300</td>\n",
       "      <td>0.039494</td>\n",
       "    </tr>\n",
       "    <tr>\n",
       "      <th>30</th>\n",
       "      <td>310</td>\n",
       "      <td>0.038726</td>\n",
       "    </tr>\n",
       "    <tr>\n",
       "      <th>31</th>\n",
       "      <td>320</td>\n",
       "      <td>0.038005</td>\n",
       "    </tr>\n",
       "    <tr>\n",
       "      <th>32</th>\n",
       "      <td>330</td>\n",
       "      <td>0.037325</td>\n",
       "    </tr>\n",
       "    <tr>\n",
       "      <th>33</th>\n",
       "      <td>340</td>\n",
       "      <td>0.036684</td>\n",
       "    </tr>\n",
       "    <tr>\n",
       "      <th>34</th>\n",
       "      <td>350</td>\n",
       "      <td>0.036079</td>\n",
       "    </tr>\n",
       "    <tr>\n",
       "      <th>35</th>\n",
       "      <td>360</td>\n",
       "      <td>0.035506</td>\n",
       "    </tr>\n",
       "    <tr>\n",
       "      <th>36</th>\n",
       "      <td>370</td>\n",
       "      <td>0.034963</td>\n",
       "    </tr>\n",
       "    <tr>\n",
       "      <th>37</th>\n",
       "      <td>380</td>\n",
       "      <td>0.034448</td>\n",
       "    </tr>\n",
       "    <tr>\n",
       "      <th>38</th>\n",
       "      <td>390</td>\n",
       "      <td>0.033959</td>\n",
       "    </tr>\n",
       "    <tr>\n",
       "      <th>39</th>\n",
       "      <td>400</td>\n",
       "      <td>0.033493</td>\n",
       "    </tr>\n",
       "    <tr>\n",
       "      <th>40</th>\n",
       "      <td>410</td>\n",
       "      <td>0.033049</td>\n",
       "    </tr>\n",
       "    <tr>\n",
       "      <th>41</th>\n",
       "      <td>420</td>\n",
       "      <td>0.032626</td>\n",
       "    </tr>\n",
       "    <tr>\n",
       "      <th>42</th>\n",
       "      <td>430</td>\n",
       "      <td>0.032222</td>\n",
       "    </tr>\n",
       "    <tr>\n",
       "      <th>43</th>\n",
       "      <td>440</td>\n",
       "      <td>0.031836</td>\n",
       "    </tr>\n",
       "    <tr>\n",
       "      <th>44</th>\n",
       "      <td>450</td>\n",
       "      <td>0.031467</td>\n",
       "    </tr>\n",
       "    <tr>\n",
       "      <th>45</th>\n",
       "      <td>460</td>\n",
       "      <td>0.031113</td>\n",
       "    </tr>\n",
       "    <tr>\n",
       "      <th>46</th>\n",
       "      <td>470</td>\n",
       "      <td>0.030774</td>\n",
       "    </tr>\n",
       "    <tr>\n",
       "      <th>47</th>\n",
       "      <td>480</td>\n",
       "      <td>0.030449</td>\n",
       "    </tr>\n",
       "    <tr>\n",
       "      <th>48</th>\n",
       "      <td>490</td>\n",
       "      <td>0.030136</td>\n",
       "    </tr>\n",
       "    <tr>\n",
       "      <th>49</th>\n",
       "      <td>500</td>\n",
       "      <td>0.029836</td>\n",
       "    </tr>\n",
       "  </tbody>\n",
       "</table>\n",
       "</div>"
      ],
      "text/plain": [
       "    amount  threshold\n",
       "0       10   0.367946\n",
       "1       20   0.256966\n",
       "2       30   0.199058\n",
       "3       40   0.163498\n",
       "4       50   0.139442\n",
       "5       60   0.122085\n",
       "6       70   0.108970\n",
       "7       80   0.098712\n",
       "8       90   0.090469\n",
       "9      100   0.083700\n",
       "10     110   0.078043\n",
       "11     120   0.073244\n",
       "12     130   0.069121\n",
       "13     140   0.065542\n",
       "14     150   0.062405\n",
       "15     160   0.059633\n",
       "16     170   0.057166\n",
       "17     180   0.054956\n",
       "18     190   0.052966\n",
       "19     200   0.051163\n",
       "20     210   0.049523\n",
       "21     220   0.048024\n",
       "22     230   0.046649\n",
       "23     240   0.045383\n",
       "24     250   0.044214\n",
       "25     260   0.043132\n",
       "26     270   0.042126\n",
       "27     280   0.041188\n",
       "28     290   0.040313\n",
       "29     300   0.039494\n",
       "30     310   0.038726\n",
       "31     320   0.038005\n",
       "32     330   0.037325\n",
       "33     340   0.036684\n",
       "34     350   0.036079\n",
       "35     360   0.035506\n",
       "36     370   0.034963\n",
       "37     380   0.034448\n",
       "38     390   0.033959\n",
       "39     400   0.033493\n",
       "40     410   0.033049\n",
       "41     420   0.032626\n",
       "42     430   0.032222\n",
       "43     440   0.031836\n",
       "44     450   0.031467\n",
       "45     460   0.031113\n",
       "46     470   0.030774\n",
       "47     480   0.030449\n",
       "48     490   0.030136\n",
       "49     500   0.029836"
      ]
     },
     "execution_count": 88,
     "metadata": {},
     "output_type": "execute_result"
    }
   ],
   "source": [
    "# blocked = -review_fraud_cost\n",
    "# not blocked = (1 - p) * amount * interchange - (p * new_card_cost + p * amount + p * review_fraud_cost)\n",
    "# blocked = not_blocked (break_even probability)\n",
    "# -p * (new_card_cost + amount * (1 + interchange) + review_fraud_cost) = -review_fraud_cost - amount * interchange\n",
    "# p = (review_fraud_cost + amount * interchange) / (new_card_cost + amount + review_fraud_cost + amount * interchange)\n",
    "transaction_amounts = np.arange(10, 20000, 10)\n",
    "break_even_p = []\n",
    "for amount in transaction_amounts:\n",
    "    break_even_p.append((amount * interchange_revenue + review_fraud_cost)/ \n",
    "                        (new_card_cost + amount * (1 + interchange_revenue) + review_fraud_cost))\n",
    "    \n",
    "    \n",
    "breakeven_df = pd.DataFrame(\n",
    "    {amount_col: transaction_amounts,\n",
    "    \"threshold\": break_even_p}\n",
    ")\n",
    "\n",
    "breakeven_df.head(50)"
   ]
  },
  {
   "cell_type": "code",
   "execution_count": 89,
   "metadata": {
    "ExecuteTime": {
     "end_time": "2020-11-10T17:45:40.612626Z",
     "start_time": "2020-11-10T17:45:40.110174Z"
    }
   },
   "outputs": [
    {
     "data": {
      "text/plain": [
       "<matplotlib.axes._subplots.AxesSubplot at 0x1a212f6c50>"
      ]
     },
     "execution_count": 89,
     "metadata": {},
     "output_type": "execute_result"
    },
    {
     "data": {
      "image/png": "[encoded data removed]",
      "text/plain": [
       "<Figure size 432x288 with 1 Axes>"
      ]
     },
     "metadata": {
      "needs_background": "light"
     },
     "output_type": "display_data"
    }
   ],
   "source": [
    "sns.lineplot(breakeven_df[amount_col], breakeven_df.threshold)"
   ]
  },
  {
   "cell_type": "markdown",
   "metadata": {},
   "source": [
    "### Calculando a lucratividade dessa otimização"
   ]
  },
  {
   "cell_type": "code",
   "execution_count": 104,
   "metadata": {
    "ExecuteTime": {
     "end_time": "2020-11-10T17:47:31.369059Z",
     "start_time": "2020-11-10T17:47:30.577020Z"
    }
   },
   "outputs": [
    {
     "data": {
      "text/plain": [
       "operational_cost    5.225440e+05\n",
       "card_cost           5.926400e+04\n",
       "fraud_losses        7.119550e+06\n",
       "revenues            1.570276e+06\n",
       "profit             -6.131082e+06\n",
       "dtype: float64"
      ]
     },
     "execution_count": 104,
     "metadata": {},
     "output_type": "execute_result"
    }
   ],
   "source": [
    "otimization_df = (transformed_df\n",
    "      .assign(amount=lambda df: np.floor(df[amount_col] / 10) * 10)\n",
    "      .merge(breakeven_df, on=amount_col, how=\"left\")\n",
    "      .assign(blocked=lambda df: df.calibrated_prediction > df.threshold))\n",
    "optimized_decision = profit_from_decision(otimization_df)\n",
    "optimized_decision"
   ]
  },
  {
   "cell_type": "markdown",
   "metadata": {},
   "source": [
    "## Criando bandas de modelo"
   ]
  },
  {
   "cell_type": "markdown",
   "metadata": {},
   "source": [
    "### Bandas de mesma largura"
   ]
  },
  {
   "cell_type": "code",
   "execution_count": 93,
   "metadata": {
    "ExecuteTime": {
     "end_time": "2020-11-10T17:46:47.491127Z",
     "start_time": "2020-11-10T17:46:47.450404Z"
    }
   },
   "outputs": [
    {
     "data": {
      "text/html": [
       "<div>\n",
       "<style scoped>\n",
       "    .dataframe tbody tr th:only-of-type {\n",
       "        vertical-align: middle;\n",
       "    }\n",
       "\n",
       "    .dataframe tbody tr th {\n",
       "        vertical-align: top;\n",
       "    }\n",
       "\n",
       "    .dataframe thead th {\n",
       "        text-align: right;\n",
       "    }\n",
       "</style>\n",
       "<table border=\"1\" class=\"dataframe\">\n",
       "  <thead>\n",
       "    <tr style=\"text-align: right;\">\n",
       "      <th></th>\n",
       "      <th>amount</th>\n",
       "      <th>international_purchase</th>\n",
       "      <th>is_fraud</th>\n",
       "      <th>score</th>\n",
       "      <th>prediction_band</th>\n",
       "    </tr>\n",
       "  </thead>\n",
       "  <tbody>\n",
       "    <tr>\n",
       "      <th>0</th>\n",
       "      <td>291.899285</td>\n",
       "      <td>0</td>\n",
       "      <td>0</td>\n",
       "      <td>0.264879</td>\n",
       "      <td>2.0</td>\n",
       "    </tr>\n",
       "    <tr>\n",
       "      <th>1</th>\n",
       "      <td>29.372090</td>\n",
       "      <td>0</td>\n",
       "      <td>0</td>\n",
       "      <td>0.183100</td>\n",
       "      <td>1.0</td>\n",
       "    </tr>\n",
       "    <tr>\n",
       "      <th>2</th>\n",
       "      <td>153.462670</td>\n",
       "      <td>0</td>\n",
       "      <td>0</td>\n",
       "      <td>0.117238</td>\n",
       "      <td>1.0</td>\n",
       "    </tr>\n",
       "    <tr>\n",
       "      <th>3</th>\n",
       "      <td>471.391548</td>\n",
       "      <td>0</td>\n",
       "      <td>0</td>\n",
       "      <td>0.163781</td>\n",
       "      <td>1.0</td>\n",
       "    </tr>\n",
       "    <tr>\n",
       "      <th>4</th>\n",
       "      <td>17.260943</td>\n",
       "      <td>0</td>\n",
       "      <td>0</td>\n",
       "      <td>0.312624</td>\n",
       "      <td>3.0</td>\n",
       "    </tr>\n",
       "    <tr>\n",
       "      <th>5</th>\n",
       "      <td>38.895820</td>\n",
       "      <td>0</td>\n",
       "      <td>0</td>\n",
       "      <td>0.291718</td>\n",
       "      <td>2.0</td>\n",
       "    </tr>\n",
       "    <tr>\n",
       "      <th>6</th>\n",
       "      <td>62.400743</td>\n",
       "      <td>0</td>\n",
       "      <td>0</td>\n",
       "      <td>0.187849</td>\n",
       "      <td>1.0</td>\n",
       "    </tr>\n",
       "    <tr>\n",
       "      <th>7</th>\n",
       "      <td>2.941405</td>\n",
       "      <td>0</td>\n",
       "      <td>0</td>\n",
       "      <td>0.000000</td>\n",
       "      <td>0.0</td>\n",
       "    </tr>\n",
       "    <tr>\n",
       "      <th>8</th>\n",
       "      <td>58.097295</td>\n",
       "      <td>0</td>\n",
       "      <td>0</td>\n",
       "      <td>0.474347</td>\n",
       "      <td>4.0</td>\n",
       "    </tr>\n",
       "    <tr>\n",
       "      <th>9</th>\n",
       "      <td>375.249275</td>\n",
       "      <td>0</td>\n",
       "      <td>1</td>\n",
       "      <td>0.000000</td>\n",
       "      <td>0.0</td>\n",
       "    </tr>\n",
       "    <tr>\n",
       "      <th>10</th>\n",
       "      <td>70.346490</td>\n",
       "      <td>0</td>\n",
       "      <td>0</td>\n",
       "      <td>0.320818</td>\n",
       "      <td>3.0</td>\n",
       "    </tr>\n",
       "    <tr>\n",
       "      <th>11</th>\n",
       "      <td>8.639156</td>\n",
       "      <td>0</td>\n",
       "      <td>0</td>\n",
       "      <td>0.000000</td>\n",
       "      <td>0.0</td>\n",
       "    </tr>\n",
       "    <tr>\n",
       "      <th>12</th>\n",
       "      <td>4.649594</td>\n",
       "      <td>0</td>\n",
       "      <td>0</td>\n",
       "      <td>0.016006</td>\n",
       "      <td>0.0</td>\n",
       "    </tr>\n",
       "    <tr>\n",
       "      <th>13</th>\n",
       "      <td>665.632547</td>\n",
       "      <td>0</td>\n",
       "      <td>0</td>\n",
       "      <td>0.263351</td>\n",
       "      <td>2.0</td>\n",
       "    </tr>\n",
       "    <tr>\n",
       "      <th>14</th>\n",
       "      <td>41.905006</td>\n",
       "      <td>0</td>\n",
       "      <td>0</td>\n",
       "      <td>0.000000</td>\n",
       "      <td>0.0</td>\n",
       "    </tr>\n",
       "    <tr>\n",
       "      <th>15</th>\n",
       "      <td>12.094364</td>\n",
       "      <td>0</td>\n",
       "      <td>0</td>\n",
       "      <td>0.200914</td>\n",
       "      <td>2.0</td>\n",
       "    </tr>\n",
       "    <tr>\n",
       "      <th>16</th>\n",
       "      <td>2.122142</td>\n",
       "      <td>0</td>\n",
       "      <td>0</td>\n",
       "      <td>0.582530</td>\n",
       "      <td>5.0</td>\n",
       "    </tr>\n",
       "    <tr>\n",
       "      <th>17</th>\n",
       "      <td>28.602154</td>\n",
       "      <td>0</td>\n",
       "      <td>0</td>\n",
       "      <td>0.126423</td>\n",
       "      <td>1.0</td>\n",
       "    </tr>\n",
       "    <tr>\n",
       "      <th>18</th>\n",
       "      <td>23.094085</td>\n",
       "      <td>0</td>\n",
       "      <td>0</td>\n",
       "      <td>0.000000</td>\n",
       "      <td>0.0</td>\n",
       "    </tr>\n",
       "    <tr>\n",
       "      <th>19</th>\n",
       "      <td>1503.204483</td>\n",
       "      <td>0</td>\n",
       "      <td>1</td>\n",
       "      <td>0.628303</td>\n",
       "      <td>6.0</td>\n",
       "    </tr>\n",
       "    <tr>\n",
       "      <th>20</th>\n",
       "      <td>65.532777</td>\n",
       "      <td>0</td>\n",
       "      <td>0</td>\n",
       "      <td>0.130127</td>\n",
       "      <td>1.0</td>\n",
       "    </tr>\n",
       "    <tr>\n",
       "      <th>21</th>\n",
       "      <td>176.534022</td>\n",
       "      <td>0</td>\n",
       "      <td>0</td>\n",
       "      <td>0.208324</td>\n",
       "      <td>2.0</td>\n",
       "    </tr>\n",
       "    <tr>\n",
       "      <th>22</th>\n",
       "      <td>3.660321</td>\n",
       "      <td>0</td>\n",
       "      <td>0</td>\n",
       "      <td>0.355643</td>\n",
       "      <td>3.0</td>\n",
       "    </tr>\n",
       "    <tr>\n",
       "      <th>23</th>\n",
       "      <td>468.257279</td>\n",
       "      <td>0</td>\n",
       "      <td>0</td>\n",
       "      <td>0.000000</td>\n",
       "      <td>0.0</td>\n",
       "    </tr>\n",
       "    <tr>\n",
       "      <th>24</th>\n",
       "      <td>60.828885</td>\n",
       "      <td>0</td>\n",
       "      <td>0</td>\n",
       "      <td>0.000000</td>\n",
       "      <td>0.0</td>\n",
       "    </tr>\n",
       "    <tr>\n",
       "      <th>25</th>\n",
       "      <td>56.100581</td>\n",
       "      <td>0</td>\n",
       "      <td>0</td>\n",
       "      <td>0.000000</td>\n",
       "      <td>0.0</td>\n",
       "    </tr>\n",
       "    <tr>\n",
       "      <th>26</th>\n",
       "      <td>64.984256</td>\n",
       "      <td>0</td>\n",
       "      <td>0</td>\n",
       "      <td>0.332214</td>\n",
       "      <td>3.0</td>\n",
       "    </tr>\n",
       "    <tr>\n",
       "      <th>27</th>\n",
       "      <td>370.675513</td>\n",
       "      <td>0</td>\n",
       "      <td>0</td>\n",
       "      <td>0.136926</td>\n",
       "      <td>1.0</td>\n",
       "    </tr>\n",
       "    <tr>\n",
       "      <th>28</th>\n",
       "      <td>36.743443</td>\n",
       "      <td>0</td>\n",
       "      <td>0</td>\n",
       "      <td>0.492195</td>\n",
       "      <td>4.0</td>\n",
       "    </tr>\n",
       "    <tr>\n",
       "      <th>29</th>\n",
       "      <td>119.437663</td>\n",
       "      <td>0</td>\n",
       "      <td>0</td>\n",
       "      <td>0.000000</td>\n",
       "      <td>0.0</td>\n",
       "    </tr>\n",
       "    <tr>\n",
       "      <th>...</th>\n",
       "      <td>...</td>\n",
       "      <td>...</td>\n",
       "      <td>...</td>\n",
       "      <td>...</td>\n",
       "      <td>...</td>\n",
       "    </tr>\n",
       "    <tr>\n",
       "      <th>999970</th>\n",
       "      <td>752.492834</td>\n",
       "      <td>0</td>\n",
       "      <td>1</td>\n",
       "      <td>1.000000</td>\n",
       "      <td>10.0</td>\n",
       "    </tr>\n",
       "    <tr>\n",
       "      <th>999971</th>\n",
       "      <td>55.067082</td>\n",
       "      <td>0</td>\n",
       "      <td>0</td>\n",
       "      <td>0.561241</td>\n",
       "      <td>5.0</td>\n",
       "    </tr>\n",
       "    <tr>\n",
       "      <th>999972</th>\n",
       "      <td>37.419595</td>\n",
       "      <td>0</td>\n",
       "      <td>0</td>\n",
       "      <td>0.066982</td>\n",
       "      <td>0.0</td>\n",
       "    </tr>\n",
       "    <tr>\n",
       "      <th>999973</th>\n",
       "      <td>50.260396</td>\n",
       "      <td>0</td>\n",
       "      <td>0</td>\n",
       "      <td>0.434562</td>\n",
       "      <td>4.0</td>\n",
       "    </tr>\n",
       "    <tr>\n",
       "      <th>999974</th>\n",
       "      <td>25.263322</td>\n",
       "      <td>0</td>\n",
       "      <td>0</td>\n",
       "      <td>0.322596</td>\n",
       "      <td>3.0</td>\n",
       "    </tr>\n",
       "    <tr>\n",
       "      <th>999975</th>\n",
       "      <td>234.601740</td>\n",
       "      <td>0</td>\n",
       "      <td>0</td>\n",
       "      <td>0.241925</td>\n",
       "      <td>2.0</td>\n",
       "    </tr>\n",
       "    <tr>\n",
       "      <th>999976</th>\n",
       "      <td>38.064391</td>\n",
       "      <td>0</td>\n",
       "      <td>0</td>\n",
       "      <td>0.000000</td>\n",
       "      <td>0.0</td>\n",
       "    </tr>\n",
       "    <tr>\n",
       "      <th>999977</th>\n",
       "      <td>244.548275</td>\n",
       "      <td>0</td>\n",
       "      <td>0</td>\n",
       "      <td>0.009845</td>\n",
       "      <td>0.0</td>\n",
       "    </tr>\n",
       "    <tr>\n",
       "      <th>999978</th>\n",
       "      <td>153.221309</td>\n",
       "      <td>0</td>\n",
       "      <td>0</td>\n",
       "      <td>0.258323</td>\n",
       "      <td>2.0</td>\n",
       "    </tr>\n",
       "    <tr>\n",
       "      <th>999979</th>\n",
       "      <td>68.790129</td>\n",
       "      <td>0</td>\n",
       "      <td>0</td>\n",
       "      <td>0.683926</td>\n",
       "      <td>6.0</td>\n",
       "    </tr>\n",
       "    <tr>\n",
       "      <th>999980</th>\n",
       "      <td>44.923577</td>\n",
       "      <td>0</td>\n",
       "      <td>0</td>\n",
       "      <td>0.541725</td>\n",
       "      <td>5.0</td>\n",
       "    </tr>\n",
       "    <tr>\n",
       "      <th>999981</th>\n",
       "      <td>26.733452</td>\n",
       "      <td>0</td>\n",
       "      <td>0</td>\n",
       "      <td>0.606405</td>\n",
       "      <td>6.0</td>\n",
       "    </tr>\n",
       "    <tr>\n",
       "      <th>999982</th>\n",
       "      <td>82.710050</td>\n",
       "      <td>0</td>\n",
       "      <td>0</td>\n",
       "      <td>0.457183</td>\n",
       "      <td>4.0</td>\n",
       "    </tr>\n",
       "    <tr>\n",
       "      <th>999983</th>\n",
       "      <td>29.249596</td>\n",
       "      <td>0</td>\n",
       "      <td>1</td>\n",
       "      <td>0.716711</td>\n",
       "      <td>7.0</td>\n",
       "    </tr>\n",
       "    <tr>\n",
       "      <th>999984</th>\n",
       "      <td>86.881450</td>\n",
       "      <td>0</td>\n",
       "      <td>0</td>\n",
       "      <td>0.026874</td>\n",
       "      <td>0.0</td>\n",
       "    </tr>\n",
       "    <tr>\n",
       "      <th>999985</th>\n",
       "      <td>118.275813</td>\n",
       "      <td>0</td>\n",
       "      <td>0</td>\n",
       "      <td>0.850220</td>\n",
       "      <td>8.0</td>\n",
       "    </tr>\n",
       "    <tr>\n",
       "      <th>999986</th>\n",
       "      <td>13.692984</td>\n",
       "      <td>0</td>\n",
       "      <td>0</td>\n",
       "      <td>0.311495</td>\n",
       "      <td>3.0</td>\n",
       "    </tr>\n",
       "    <tr>\n",
       "      <th>999987</th>\n",
       "      <td>141.293271</td>\n",
       "      <td>0</td>\n",
       "      <td>0</td>\n",
       "      <td>0.000000</td>\n",
       "      <td>0.0</td>\n",
       "    </tr>\n",
       "    <tr>\n",
       "      <th>999988</th>\n",
       "      <td>156.525817</td>\n",
       "      <td>0</td>\n",
       "      <td>0</td>\n",
       "      <td>0.098237</td>\n",
       "      <td>0.0</td>\n",
       "    </tr>\n",
       "    <tr>\n",
       "      <th>999989</th>\n",
       "      <td>88.813773</td>\n",
       "      <td>0</td>\n",
       "      <td>0</td>\n",
       "      <td>0.197590</td>\n",
       "      <td>1.0</td>\n",
       "    </tr>\n",
       "    <tr>\n",
       "      <th>999990</th>\n",
       "      <td>6.056935</td>\n",
       "      <td>0</td>\n",
       "      <td>0</td>\n",
       "      <td>0.680292</td>\n",
       "      <td>6.0</td>\n",
       "    </tr>\n",
       "    <tr>\n",
       "      <th>999991</th>\n",
       "      <td>40.105148</td>\n",
       "      <td>0</td>\n",
       "      <td>0</td>\n",
       "      <td>0.371226</td>\n",
       "      <td>3.0</td>\n",
       "    </tr>\n",
       "    <tr>\n",
       "      <th>999992</th>\n",
       "      <td>390.903631</td>\n",
       "      <td>0</td>\n",
       "      <td>0</td>\n",
       "      <td>0.261147</td>\n",
       "      <td>2.0</td>\n",
       "    </tr>\n",
       "    <tr>\n",
       "      <th>999993</th>\n",
       "      <td>13.425910</td>\n",
       "      <td>0</td>\n",
       "      <td>0</td>\n",
       "      <td>0.000000</td>\n",
       "      <td>0.0</td>\n",
       "    </tr>\n",
       "    <tr>\n",
       "      <th>999994</th>\n",
       "      <td>361.173916</td>\n",
       "      <td>0</td>\n",
       "      <td>0</td>\n",
       "      <td>0.579710</td>\n",
       "      <td>5.0</td>\n",
       "    </tr>\n",
       "    <tr>\n",
       "      <th>999995</th>\n",
       "      <td>46.829746</td>\n",
       "      <td>0</td>\n",
       "      <td>0</td>\n",
       "      <td>0.293489</td>\n",
       "      <td>2.0</td>\n",
       "    </tr>\n",
       "    <tr>\n",
       "      <th>999996</th>\n",
       "      <td>10.841708</td>\n",
       "      <td>0</td>\n",
       "      <td>0</td>\n",
       "      <td>0.259221</td>\n",
       "      <td>2.0</td>\n",
       "    </tr>\n",
       "    <tr>\n",
       "      <th>999997</th>\n",
       "      <td>638.797550</td>\n",
       "      <td>0</td>\n",
       "      <td>0</td>\n",
       "      <td>0.000000</td>\n",
       "      <td>0.0</td>\n",
       "    </tr>\n",
       "    <tr>\n",
       "      <th>999998</th>\n",
       "      <td>10.486397</td>\n",
       "      <td>0</td>\n",
       "      <td>0</td>\n",
       "      <td>0.671582</td>\n",
       "      <td>6.0</td>\n",
       "    </tr>\n",
       "    <tr>\n",
       "      <th>999999</th>\n",
       "      <td>22.539276</td>\n",
       "      <td>0</td>\n",
       "      <td>0</td>\n",
       "      <td>0.047435</td>\n",
       "      <td>0.0</td>\n",
       "    </tr>\n",
       "  </tbody>\n",
       "</table>\n",
       "<p>1000000 rows × 5 columns</p>\n",
       "</div>"
      ],
      "text/plain": [
       "             amount  international_purchase  is_fraud     score  \\\n",
       "0        291.899285                       0         0  0.264879   \n",
       "1         29.372090                       0         0  0.183100   \n",
       "2        153.462670                       0         0  0.117238   \n",
       "3        471.391548                       0         0  0.163781   \n",
       "4         17.260943                       0         0  0.312624   \n",
       "5         38.895820                       0         0  0.291718   \n",
       "6         62.400743                       0         0  0.187849   \n",
       "7          2.941405                       0         0  0.000000   \n",
       "8         58.097295                       0         0  0.474347   \n",
       "9        375.249275                       0         1  0.000000   \n",
       "10        70.346490                       0         0  0.320818   \n",
       "11         8.639156                       0         0  0.000000   \n",
       "12         4.649594                       0         0  0.016006   \n",
       "13       665.632547                       0         0  0.263351   \n",
       "14        41.905006                       0         0  0.000000   \n",
       "15        12.094364                       0         0  0.200914   \n",
       "16         2.122142                       0         0  0.582530   \n",
       "17        28.602154                       0         0  0.126423   \n",
       "18        23.094085                       0         0  0.000000   \n",
       "19      1503.204483                       0         1  0.628303   \n",
       "20        65.532777                       0         0  0.130127   \n",
       "21       176.534022                       0         0  0.208324   \n",
       "22         3.660321                       0         0  0.355643   \n",
       "23       468.257279                       0         0  0.000000   \n",
       "24        60.828885                       0         0  0.000000   \n",
       "25        56.100581                       0         0  0.000000   \n",
       "26        64.984256                       0         0  0.332214   \n",
       "27       370.675513                       0         0  0.136926   \n",
       "28        36.743443                       0         0  0.492195   \n",
       "29       119.437663                       0         0  0.000000   \n",
       "...             ...                     ...       ...       ...   \n",
       "999970   752.492834                       0         1  1.000000   \n",
       "999971    55.067082                       0         0  0.561241   \n",
       "999972    37.419595                       0         0  0.066982   \n",
       "999973    50.260396                       0         0  0.434562   \n",
       "999974    25.263322                       0         0  0.322596   \n",
       "999975   234.601740                       0         0  0.241925   \n",
       "999976    38.064391                       0         0  0.000000   \n",
       "999977   244.548275                       0         0  0.009845   \n",
       "999978   153.221309                       0         0  0.258323   \n",
       "999979    68.790129                       0         0  0.683926   \n",
       "999980    44.923577                       0         0  0.541725   \n",
       "999981    26.733452                       0         0  0.606405   \n",
       "999982    82.710050                       0         0  0.457183   \n",
       "999983    29.249596                       0         1  0.716711   \n",
       "999984    86.881450                       0         0  0.026874   \n",
       "999985   118.275813                       0         0  0.850220   \n",
       "999986    13.692984                       0         0  0.311495   \n",
       "999987   141.293271                       0         0  0.000000   \n",
       "999988   156.525817                       0         0  0.098237   \n",
       "999989    88.813773                       0         0  0.197590   \n",
       "999990     6.056935                       0         0  0.680292   \n",
       "999991    40.105148                       0         0  0.371226   \n",
       "999992   390.903631                       0         0  0.261147   \n",
       "999993    13.425910                       0         0  0.000000   \n",
       "999994   361.173916                       0         0  0.579710   \n",
       "999995    46.829746                       0         0  0.293489   \n",
       "999996    10.841708                       0         0  0.259221   \n",
       "999997   638.797550                       0         0  0.000000   \n",
       "999998    10.486397                       0         0  0.671582   \n",
       "999999    22.539276                       0         0  0.047435   \n",
       "\n",
       "        prediction_band  \n",
       "0                   2.0  \n",
       "1                   1.0  \n",
       "2                   1.0  \n",
       "3                   1.0  \n",
       "4                   3.0  \n",
       "5                   2.0  \n",
       "6                   1.0  \n",
       "7                   0.0  \n",
       "8                   4.0  \n",
       "9                   0.0  \n",
       "10                  3.0  \n",
       "11                  0.0  \n",
       "12                  0.0  \n",
       "13                  2.0  \n",
       "14                  0.0  \n",
       "15                  2.0  \n",
       "16                  5.0  \n",
       "17                  1.0  \n",
       "18                  0.0  \n",
       "19                  6.0  \n",
       "20                  1.0  \n",
       "21                  2.0  \n",
       "22                  3.0  \n",
       "23                  0.0  \n",
       "24                  0.0  \n",
       "25                  0.0  \n",
       "26                  3.0  \n",
       "27                  1.0  \n",
       "28                  4.0  \n",
       "29                  0.0  \n",
       "...                 ...  \n",
       "999970             10.0  \n",
       "999971              5.0  \n",
       "999972              0.0  \n",
       "999973              4.0  \n",
       "999974              3.0  \n",
       "999975              2.0  \n",
       "999976              0.0  \n",
       "999977              0.0  \n",
       "999978              2.0  \n",
       "999979              6.0  \n",
       "999980              5.0  \n",
       "999981              6.0  \n",
       "999982              4.0  \n",
       "999983              7.0  \n",
       "999984              0.0  \n",
       "999985              8.0  \n",
       "999986              3.0  \n",
       "999987              0.0  \n",
       "999988              0.0  \n",
       "999989              1.0  \n",
       "999990              6.0  \n",
       "999991              3.0  \n",
       "999992              2.0  \n",
       "999993              0.0  \n",
       "999994              5.0  \n",
       "999995              2.0  \n",
       "999996              2.0  \n",
       "999997              0.0  \n",
       "999998              6.0  \n",
       "999999              0.0  \n",
       "\n",
       "[1000000 rows x 5 columns]"
      ]
     },
     "execution_count": 93,
     "metadata": {},
     "output_type": "execute_result"
    }
   ],
   "source": [
    "band_size = 0.1\n",
    "binned_df = df.assign(prediction_band = lambda df: np.floor(df[prediction_col] / band_size))\n",
    "binned_df"
   ]
  },
  {
   "cell_type": "code",
   "execution_count": 94,
   "metadata": {
    "ExecuteTime": {
     "end_time": "2020-11-10T17:46:48.457824Z",
     "start_time": "2020-11-10T17:46:48.152906Z"
    }
   },
   "outputs": [
    {
     "data": {
      "text/plain": [
       "<matplotlib.axes._subplots.AxesSubplot at 0x1a2128ae80>"
      ]
     },
     "execution_count": 94,
     "metadata": {},
     "output_type": "execute_result"
    },
    {
     "data": {
      "image/png": "[encoded data removed]",
      "text/plain": [
       "<Figure size 432x288 with 1 Axes>"
      ]
     },
     "metadata": {
      "needs_background": "light"
     },
     "output_type": "display_data"
    }
   ],
   "source": [
    "binned_df.groupby(\"prediction_band\").count().amount.plot()"
   ]
  },
  {
   "cell_type": "markdown",
   "metadata": {},
   "source": [
    "### Bandas de mesma quantidade de clientes"
   ]
  },
  {
   "cell_type": "code",
   "execution_count": 95,
   "metadata": {
    "ExecuteTime": {
     "end_time": "2020-11-10T17:46:51.973760Z",
     "start_time": "2020-11-10T17:46:51.805544Z"
    }
   },
   "outputs": [],
   "source": [
    "## This function is not \"learning\" how to band and we can't apply the same rule to new clients\n",
    "number_of_bands = 10\n",
    "banded_df = df.assign(bands= lambda df: pd.qcut(df[prediction_col], number_of_bands, duplicates=\"drop\", retbins=False))"
   ]
  },
  {
   "cell_type": "code",
   "execution_count": 96,
   "metadata": {
    "ExecuteTime": {
     "end_time": "2020-11-10T17:46:52.750272Z",
     "start_time": "2020-11-10T17:46:52.734325Z"
    }
   },
   "outputs": [
    {
     "data": {
      "text/plain": [
       "(-0.001, 0.0463]    300000\n",
       "(0.606, 1.0]        100000\n",
       "(0.466, 0.606]      100000\n",
       "(0.367, 0.466]      100000\n",
       "(0.283, 0.367]      100000\n",
       "(0.206, 0.283]      100000\n",
       "(0.129, 0.206]      100000\n",
       "(0.0463, 0.129]     100000\n",
       "Name: bands, dtype: int64"
      ]
     },
     "execution_count": 96,
     "metadata": {},
     "output_type": "execute_result"
    }
   ],
   "source": [
    "banded_df.bands.value_counts()"
   ]
  },
  {
   "cell_type": "code",
   "execution_count": 97,
   "metadata": {
    "ExecuteTime": {
     "end_time": "2020-11-10T17:46:53.724231Z",
     "start_time": "2020-11-10T17:46:53.710715Z"
    }
   },
   "outputs": [],
   "source": [
    "from fklearn.training.transformation import discrete_ecdfer"
   ]
  },
  {
   "cell_type": "code",
   "execution_count": 106,
   "metadata": {
    "ExecuteTime": {
     "end_time": "2020-11-10T17:50:31.737302Z",
     "start_time": "2020-11-10T17:50:30.959534Z"
    }
   },
   "outputs": [
    {
     "data": {
      "text/html": [
       "<div>\n",
       "<style scoped>\n",
       "    .dataframe tbody tr th:only-of-type {\n",
       "        vertical-align: middle;\n",
       "    }\n",
       "\n",
       "    .dataframe tbody tr th {\n",
       "        vertical-align: top;\n",
       "    }\n",
       "\n",
       "    .dataframe thead th {\n",
       "        text-align: right;\n",
       "    }\n",
       "</style>\n",
       "<table border=\"1\" class=\"dataframe\">\n",
       "  <thead>\n",
       "    <tr style=\"text-align: right;\">\n",
       "      <th></th>\n",
       "      <th>amount</th>\n",
       "      <th>international_purchase</th>\n",
       "      <th>is_fraud</th>\n",
       "      <th>score</th>\n",
       "      <th>prediction_ecdf</th>\n",
       "    </tr>\n",
       "  </thead>\n",
       "  <tbody>\n",
       "    <tr>\n",
       "      <th>0</th>\n",
       "      <td>291.899285</td>\n",
       "      <td>0</td>\n",
       "      <td>0</td>\n",
       "      <td>0.264879</td>\n",
       "      <td>576</td>\n",
       "    </tr>\n",
       "    <tr>\n",
       "      <th>1</th>\n",
       "      <td>29.372090</td>\n",
       "      <td>0</td>\n",
       "      <td>0</td>\n",
       "      <td>0.183100</td>\n",
       "      <td>470</td>\n",
       "    </tr>\n",
       "    <tr>\n",
       "      <th>2</th>\n",
       "      <td>153.462670</td>\n",
       "      <td>0</td>\n",
       "      <td>0</td>\n",
       "      <td>0.117238</td>\n",
       "      <td>385</td>\n",
       "    </tr>\n",
       "    <tr>\n",
       "      <th>3</th>\n",
       "      <td>471.391548</td>\n",
       "      <td>0</td>\n",
       "      <td>0</td>\n",
       "      <td>0.163781</td>\n",
       "      <td>445</td>\n",
       "    </tr>\n",
       "    <tr>\n",
       "      <th>4</th>\n",
       "      <td>17.260943</td>\n",
       "      <td>0</td>\n",
       "      <td>0</td>\n",
       "      <td>0.312624</td>\n",
       "      <td>635</td>\n",
       "    </tr>\n",
       "  </tbody>\n",
       "</table>\n",
       "</div>"
      ],
      "text/plain": [
       "       amount  international_purchase  is_fraud     score  prediction_ecdf\n",
       "0  291.899285                       0         0  0.264879              576\n",
       "1   29.372090                       0         0  0.183100              470\n",
       "2  153.462670                       0         0  0.117238              385\n",
       "3  471.391548                       0         0  0.163781              445\n",
       "4   17.260943                       0         0  0.312624              635"
      ]
     },
     "execution_count": 106,
     "metadata": {},
     "output_type": "execute_result"
    }
   ],
   "source": [
    "predict_fn, uniform_df, _ = discrete_ecdfer(df, \n",
    "                                            prediction_column=prediction_col, \n",
    "                                            max_range=1000)\n",
    "uniform_df.head()"
   ]
  },
  {
   "cell_type": "code",
   "execution_count": 107,
   "metadata": {
    "ExecuteTime": {
     "end_time": "2020-11-10T17:50:36.404491Z",
     "start_time": "2020-11-10T17:50:36.262911Z"
    }
   },
   "outputs": [
    {
     "data": {
      "text/html": [
       "<div>\n",
       "<style scoped>\n",
       "    .dataframe tbody tr th:only-of-type {\n",
       "        vertical-align: middle;\n",
       "    }\n",
       "\n",
       "    .dataframe tbody tr th {\n",
       "        vertical-align: top;\n",
       "    }\n",
       "\n",
       "    .dataframe thead th {\n",
       "        text-align: right;\n",
       "    }\n",
       "</style>\n",
       "<table border=\"1\" class=\"dataframe\">\n",
       "  <thead>\n",
       "    <tr style=\"text-align: right;\">\n",
       "      <th></th>\n",
       "      <th>amount</th>\n",
       "      <th>international_purchase</th>\n",
       "      <th>is_fraud</th>\n",
       "      <th>score</th>\n",
       "      <th>prediction_ecdf</th>\n",
       "    </tr>\n",
       "  </thead>\n",
       "  <tbody>\n",
       "    <tr>\n",
       "      <th>0</th>\n",
       "      <td>291.899285</td>\n",
       "      <td>0</td>\n",
       "      <td>0</td>\n",
       "      <td>0.264879</td>\n",
       "      <td>576</td>\n",
       "    </tr>\n",
       "    <tr>\n",
       "      <th>1</th>\n",
       "      <td>29.372090</td>\n",
       "      <td>0</td>\n",
       "      <td>0</td>\n",
       "      <td>0.183100</td>\n",
       "      <td>470</td>\n",
       "    </tr>\n",
       "    <tr>\n",
       "      <th>2</th>\n",
       "      <td>153.462670</td>\n",
       "      <td>0</td>\n",
       "      <td>0</td>\n",
       "      <td>0.117238</td>\n",
       "      <td>385</td>\n",
       "    </tr>\n",
       "    <tr>\n",
       "      <th>3</th>\n",
       "      <td>471.391548</td>\n",
       "      <td>0</td>\n",
       "      <td>0</td>\n",
       "      <td>0.163781</td>\n",
       "      <td>445</td>\n",
       "    </tr>\n",
       "    <tr>\n",
       "      <th>4</th>\n",
       "      <td>17.260943</td>\n",
       "      <td>0</td>\n",
       "      <td>0</td>\n",
       "      <td>0.312624</td>\n",
       "      <td>635</td>\n",
       "    </tr>\n",
       "  </tbody>\n",
       "</table>\n",
       "</div>"
      ],
      "text/plain": [
       "       amount  international_purchase  is_fraud     score  prediction_ecdf\n",
       "0  291.899285                       0         0  0.264879              576\n",
       "1   29.372090                       0         0  0.183100              470\n",
       "2  153.462670                       0         0  0.117238              385\n",
       "3  471.391548                       0         0  0.163781              445\n",
       "4   17.260943                       0         0  0.312624              635"
      ]
     },
     "execution_count": 107,
     "metadata": {},
     "output_type": "execute_result"
    }
   ],
   "source": [
    "## predict_fn \"learns\" how to apply the transformation and can be reapplied to any dataframe\n",
    "predict_fn(uniform_df).head()"
   ]
  },
  {
   "cell_type": "code",
   "execution_count": 109,
   "metadata": {
    "ExecuteTime": {
     "end_time": "2020-11-10T17:51:07.921002Z",
     "start_time": "2020-11-10T17:51:07.720124Z"
    }
   },
   "outputs": [
    {
     "data": {
      "text/plain": [
       "(array([324000.,  75000.,  74999.,  75000.,  75000.,  76000.,  75000.,\n",
       "         75000.,  75001.,  75000.]),\n",
       " array([ 248. ,  323.2,  398.4,  473.6,  548.8,  624. ,  699.2,  774.4,\n",
       "         849.6,  924.8, 1000. ]),\n",
       " <a list of 10 Patch objects>)"
      ]
     },
     "execution_count": 109,
     "metadata": {},
     "output_type": "execute_result"
    },
    {
     "data": {
      "image/png": "[encoded data removed]",
      "text/plain": [
       "<Figure size 432x288 with 1 Axes>"
      ]
     },
     "metadata": {
      "needs_background": "light"
     },
     "output_type": "display_data"
    }
   ],
   "source": [
    "plt.hist(uniform_df[\"prediction_ecdf\"])"
   ]
  },
  {
   "cell_type": "markdown",
   "metadata": {
    "ExecuteTime": {
     "end_time": "2020-11-09T22:11:34.884593Z",
     "start_time": "2020-11-09T22:11:34.881888Z"
    }
   },
   "source": [
    "### Regra baseada em grupos pre definidos\n",
    "Apesar da regra ser muito simples, conseguimos uma performance quase tao boa quanto usando as probabilidades do modelo"
   ]
  },
  {
   "cell_type": "code",
   "execution_count": 101,
   "metadata": {
    "ExecuteTime": {
     "end_time": "2020-11-10T17:46:57.745505Z",
     "start_time": "2020-11-10T17:46:57.277757Z"
    }
   },
   "outputs": [
    {
     "data": {
      "text/plain": [
       "operational_cost    3.220560e+05\n",
       "card_cost           8.085200e+04\n",
       "fraud_losses        1.277632e+07\n",
       "revenues           -2.515634e+06\n",
       "profit             -1.569486e+07\n",
       "dtype: float64"
      ]
     },
     "execution_count": 101,
     "metadata": {},
     "output_type": "execute_result"
    }
   ],
   "source": [
    "groups_df = profit_from_decision(transformed_df.assign(blocked=lambda df: \n",
    "                      np.where(df.calibrated_prediction < 0.1, 0, \n",
    "                               np.where((df.calibrated_prediction >= 0.1) & (df.calibrated_prediction < 0.3) & (df[amount_col] < 100), 0, 1))\n",
    "))\n",
    "groups_df"
   ]
  },
  {
   "cell_type": "markdown",
   "metadata": {},
   "source": [
    "## Regras de Negócio"
   ]
  },
  {
   "cell_type": "code",
   "execution_count": 102,
   "metadata": {
    "ExecuteTime": {
     "end_time": "2020-11-10T17:47:04.570143Z",
     "start_time": "2020-11-10T17:47:03.733199Z"
    }
   },
   "outputs": [
    {
     "data": {
      "text/plain": [
       "operational_cost    6.000480e+05\n",
       "card_cost           5.241200e+04\n",
       "fraud_losses        3.423170e+06\n",
       "revenues            1.314689e+06\n",
       "profit             -2.760941e+06\n",
       "dtype: float64"
      ]
     },
     "execution_count": 102,
     "metadata": {},
     "output_type": "execute_result"
    }
   ],
   "source": [
    "otimization_df_with_rules = profit_from_decision(transformed_df\n",
    "                  .assign(amount=lambda df: np.floor(df[amount_col] / 10) * 10)\n",
    "                  .merge(breakeven_df, on=amount_col, how=\"left\")\n",
    "                  .assign(blocked=lambda df: df.calibrated_prediction > df.threshold)\n",
    "                  .assign(blocked=lambda df: (df.blocked) | (df[amount_col] > 1000)))\n",
    "\n",
    "otimization_df_with_rules"
   ]
  },
  {
   "cell_type": "code",
   "execution_count": 105,
   "metadata": {
    "ExecuteTime": {
     "end_time": "2020-11-10T17:47:36.079268Z",
     "start_time": "2020-11-10T17:47:35.801872Z"
    }
   },
   "outputs": [
    {
     "name": "stderr",
     "output_type": "stream",
     "text": [
      "/Users/henriquelopes/miniconda3/lib/python3.6/site-packages/ipykernel_launcher.py:3: FutureWarning: Sorting because non-concatenation axis is not aligned. A future version\n",
      "of pandas will change to not sort by default.\n",
      "\n",
      "To accept the future behavior, pass 'sort=False'.\n",
      "\n",
      "To retain the current behavior and silence the warning, pass 'sort=True'.\n",
      "\n",
      "  This is separate from the ipykernel package so we can avoid doing imports until\n"
     ]
    },
    {
     "data": {
      "text/plain": [
       "<matplotlib.axes._subplots.AxesSubplot at 0x1a2b2fd518>"
      ]
     },
     "execution_count": 105,
     "metadata": {},
     "output_type": "execute_result"
    },
    {
     "data": {
      "image/png": "[encoded data removed]",
      "text/plain": [
       "<Figure size 720x720 with 1 Axes>"
      ]
     },
     "metadata": {
      "needs_background": "light"
     },
     "output_type": "display_data"
    }
   ],
   "source": [
    "threshold_evaluation = (pd.concat([best_decision, groups_df, optimized_decision, otimization_df_with_rules],\n",
    "                                 axis=1,\n",
    "                                 keys=[\"threshold\", \"groups\", \"policy\", \"policy_with_rules\"]))\n",
    "\n",
    "fig, ax = plt.subplots(figsize=(10, 10))\n",
    "threshold_evaluation.plot(ax=ax)"
   ]
  }
 ],
 "metadata": {
  "kernelspec": {
   "display_name": "Python 3",
   "language": "python",
   "name": "python3"
  },
  "language_info": {
   "codemirror_mode": {
    "name": "ipython",
    "version": 3
   },
   "file_extension": ".py",
   "mimetype": "text/x-python",
   "name": "python",
   "nbconvert_exporter": "python",
   "pygments_lexer": "ipython3",
   "version": "3.6.8"
  },
  "toc": {
   "base_numbering": 1,
   "nav_menu": {},
   "number_sections": true,
   "sideBar": true,
   "skip_h1_title": false,
   "title_cell": "Table of Contents",
   "title_sidebar": "Contents",
   "toc_cell": false,
   "toc_position": {},
   "toc_section_display": true,
   "toc_window_display": false
  }
 },
 "nbformat": 4,
 "nbformat_minor": 2
}
