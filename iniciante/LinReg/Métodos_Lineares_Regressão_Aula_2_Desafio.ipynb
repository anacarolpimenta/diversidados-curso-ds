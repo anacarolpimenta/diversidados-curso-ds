{
  "nbformat": 4,
  "nbformat_minor": 0,
  "metadata": {
    "colab": {
      "name": "Métodos Lineares: Regressão - Aula 2 - Desafio.ipynb",
      "provenance": [],
      "collapsed_sections": []
    },
    "kernelspec": {
      "display_name": "Python [conda env:diversity-training]",
      "language": "python",
      "name": "conda-env-diversity-training-py"
    },
    "language_info": {
      "codemirror_mode": {
        "name": "ipython",
        "version": 3
      },
      "file_extension": ".py",
      "mimetype": "text/x-python",
      "name": "python",
      "nbconvert_exporter": "python",
      "pygments_lexer": "ipython3",
      "version": "3.7.9"
    }
  },
  "cells": [
    {
      "cell_type": "markdown",
      "metadata": {
        "id": "Q8X0DmzTXfZE"
      },
      "source": [
        "# Métodos Lineares: Regressão - Aula 2 - Desafio"
      ]
    },
    {
      "cell_type": "code",
      "metadata": {
        "id": "itqqMJDJ6EMA",
        "outputId": "28f41c41-d6e5-4006-a3c7-234b7686187b",
        "colab": {
          "base_uri": "https://localhost:8080/"
        }
      },
      "source": [
        "import seaborn as sns\n",
        "import statsmodels.api as sm\n",
        "import statsmodels.formula.api as smf\n",
        "import statsmodels.tools.eval_measures as smem\n",
        "import pandas as pd\n",
        "import matplotlib.pyplot as plt\n",
        "import numpy as np"
      ],
      "execution_count": 1,
      "outputs": [
        {
          "output_type": "stream",
          "text": [
            "/usr/local/lib/python3.6/dist-packages/statsmodels/tools/_testing.py:19: FutureWarning: pandas.util.testing is deprecated. Use the functions in the public API at pandas.testing instead.\n",
            "  import pandas.util.testing as tm\n"
          ],
          "name": "stderr"
        }
      ]
    },
    {
      "cell_type": "code",
      "metadata": {
        "id": "DQgUN6lJrvwV"
      },
      "source": [
        "# Configura o estilo e tamanho dos gráficos.\n",
        "\n",
        "sns.set_style(\"whitegrid\")\n",
        "sns.set_palette(\"Purples_r\")\n",
        "plt.rcParams.update({\n",
        "    'font.size': 14,\n",
        "    'figure.figsize': (12, 8)\n",
        "})"
      ],
      "execution_count": 2,
      "outputs": []
    },
    {
      "cell_type": "markdown",
      "metadata": {
        "id": "aDfMVUb_XuDf"
      },
      "source": [
        "## Carrega dados de treino e exibe informações básicas\n",
        "\n",
        "Aqui carregaremos o dataset de imoveis, mas somente o subconjunto de **treino**, na variável `treino_df`. A divisão entre **treino** e **teste** já foi feita, e o dataset de teste só será utilizado no final, na hora de avaliar a performance de predição do modelo."
      ]
    },
    {
      "cell_type": "code",
      "metadata": {
        "id": "CiImdyYU7Y1j",
        "outputId": "9b20e335-f963-43a2-99a4-9593203ecfa4",
        "colab": {
          "base_uri": "https://localhost:8080/",
          "height": 411
        }
      },
      "source": [
        "treino_df = pd.read_csv(\"https://raw.githubusercontent.com/nubank/diversidados-curso-ds/master/iniciante/LinReg/dataset_imoveis_treino.csv\")\n",
        "print(treino_df.shape)\n",
        "print(treino_df.columns)\n",
        "treino_df.head()"
      ],
      "execution_count": 3,
      "outputs": [
        {
          "output_type": "stream",
          "text": [
            "(16209, 17)\n",
            "Index(['id', 'data', 'quartos', 'banheiros', 'area_util_m2', 'area_total_m2',\n",
            "       'andares', 'orla_mar', 'nota_vista', 'nota_condicao', 'nota',\n",
            "       'area_porao_m2', 'ano_construcao', 'ano_reforma', 'tem_porao',\n",
            "       'teve_reforma', 'preco_dolares'],\n",
            "      dtype='object')\n"
          ],
          "name": "stdout"
        },
        {
          "output_type": "execute_result",
          "data": {
            "text/html": [
              "<div>\n",
              "<style scoped>\n",
              "    .dataframe tbody tr th:only-of-type {\n",
              "        vertical-align: middle;\n",
              "    }\n",
              "\n",
              "    .dataframe tbody tr th {\n",
              "        vertical-align: top;\n",
              "    }\n",
              "\n",
              "    .dataframe thead th {\n",
              "        text-align: right;\n",
              "    }\n",
              "</style>\n",
              "<table border=\"1\" class=\"dataframe\">\n",
              "  <thead>\n",
              "    <tr style=\"text-align: right;\">\n",
              "      <th></th>\n",
              "      <th>id</th>\n",
              "      <th>data</th>\n",
              "      <th>quartos</th>\n",
              "      <th>banheiros</th>\n",
              "      <th>area_util_m2</th>\n",
              "      <th>area_total_m2</th>\n",
              "      <th>andares</th>\n",
              "      <th>orla_mar</th>\n",
              "      <th>nota_vista</th>\n",
              "      <th>nota_condicao</th>\n",
              "      <th>nota</th>\n",
              "      <th>area_porao_m2</th>\n",
              "      <th>ano_construcao</th>\n",
              "      <th>ano_reforma</th>\n",
              "      <th>tem_porao</th>\n",
              "      <th>teve_reforma</th>\n",
              "      <th>preco_dolares</th>\n",
              "    </tr>\n",
              "  </thead>\n",
              "  <tbody>\n",
              "    <tr>\n",
              "      <th>0</th>\n",
              "      <td>9117000170</td>\n",
              "      <td>2015-05-05</td>\n",
              "      <td>4</td>\n",
              "      <td>3</td>\n",
              "      <td>168.154502</td>\n",
              "      <td>858.424090</td>\n",
              "      <td>2.0</td>\n",
              "      <td>0</td>\n",
              "      <td>0</td>\n",
              "      <td>3</td>\n",
              "      <td>7</td>\n",
              "      <td>0.000000</td>\n",
              "      <td>1961</td>\n",
              "      <td>0</td>\n",
              "      <td>0</td>\n",
              "      <td>0</td>\n",
              "      <td>268643</td>\n",
              "    </tr>\n",
              "    <tr>\n",
              "      <th>1</th>\n",
              "      <td>6700390210</td>\n",
              "      <td>2014-07-08</td>\n",
              "      <td>3</td>\n",
              "      <td>3</td>\n",
              "      <td>148.644864</td>\n",
              "      <td>259.013676</td>\n",
              "      <td>2.0</td>\n",
              "      <td>0</td>\n",
              "      <td>0</td>\n",
              "      <td>4</td>\n",
              "      <td>7</td>\n",
              "      <td>0.000000</td>\n",
              "      <td>1992</td>\n",
              "      <td>0</td>\n",
              "      <td>0</td>\n",
              "      <td>0</td>\n",
              "      <td>245000</td>\n",
              "    </tr>\n",
              "    <tr>\n",
              "      <th>2</th>\n",
              "      <td>7212660540</td>\n",
              "      <td>2015-01-15</td>\n",
              "      <td>4</td>\n",
              "      <td>3</td>\n",
              "      <td>159.793229</td>\n",
              "      <td>802.496460</td>\n",
              "      <td>2.0</td>\n",
              "      <td>0</td>\n",
              "      <td>0</td>\n",
              "      <td>3</td>\n",
              "      <td>8</td>\n",
              "      <td>0.000000</td>\n",
              "      <td>1994</td>\n",
              "      <td>0</td>\n",
              "      <td>0</td>\n",
              "      <td>0</td>\n",
              "      <td>200000</td>\n",
              "    </tr>\n",
              "    <tr>\n",
              "      <th>3</th>\n",
              "      <td>8562780200</td>\n",
              "      <td>2015-04-27</td>\n",
              "      <td>2</td>\n",
              "      <td>3</td>\n",
              "      <td>115.199770</td>\n",
              "      <td>65.496643</td>\n",
              "      <td>2.0</td>\n",
              "      <td>0</td>\n",
              "      <td>0</td>\n",
              "      <td>3</td>\n",
              "      <td>7</td>\n",
              "      <td>8.361274</td>\n",
              "      <td>2009</td>\n",
              "      <td>0</td>\n",
              "      <td>1</td>\n",
              "      <td>0</td>\n",
              "      <td>352499</td>\n",
              "    </tr>\n",
              "    <tr>\n",
              "      <th>4</th>\n",
              "      <td>7760400350</td>\n",
              "      <td>2014-12-05</td>\n",
              "      <td>3</td>\n",
              "      <td>2</td>\n",
              "      <td>118.915891</td>\n",
              "      <td>1240.813002</td>\n",
              "      <td>1.0</td>\n",
              "      <td>0</td>\n",
              "      <td>0</td>\n",
              "      <td>3</td>\n",
              "      <td>7</td>\n",
              "      <td>0.000000</td>\n",
              "      <td>1994</td>\n",
              "      <td>0</td>\n",
              "      <td>0</td>\n",
              "      <td>0</td>\n",
              "      <td>232000</td>\n",
              "    </tr>\n",
              "  </tbody>\n",
              "</table>\n",
              "</div>"
            ],
            "text/plain": [
              "           id        data  quartos  ...  tem_porao  teve_reforma  preco_dolares\n",
              "0  9117000170  2015-05-05        4  ...          0             0         268643\n",
              "1  6700390210  2014-07-08        3  ...          0             0         245000\n",
              "2  7212660540  2015-01-15        4  ...          0             0         200000\n",
              "3  8562780200  2015-04-27        2  ...          1             0         352499\n",
              "4  7760400350  2014-12-05        3  ...          0             0         232000\n",
              "\n",
              "[5 rows x 17 columns]"
            ]
          },
          "metadata": {
            "tags": []
          },
          "execution_count": 3
        }
      ]
    },
    {
      "cell_type": "markdown",
      "metadata": {
        "id": "XpFjUmwNndfc"
      },
      "source": [
        "## Modelo benchmark\n",
        "Aqui treinamos o modelo a ser batido!"
      ]
    },
    {
      "cell_type": "code",
      "metadata": {
        "id": "1XQ_NrXMmsWY",
        "outputId": "87b083af-09d4-4b70-e0e0-5d244772e6a6",
        "colab": {
          "base_uri": "https://localhost:8080/"
        }
      },
      "source": [
        "formula_benchmark = (\"preco_dolares ~ area_util_m2 + quartos + banheiros +\"\n",
        "                    \"orla_mar + nota_vista + nota_condicao + nota +\"\n",
        "                    \"tem_porao + teve_reforma\")\n",
        "modelo_benchmark = smf.ols(formula_benchmark, data=treino_df).fit()\n",
        "\n",
        "print(modelo_benchmark.summary())"
      ],
      "execution_count": 4,
      "outputs": [
        {
          "output_type": "stream",
          "text": [
            "                            OLS Regression Results                            \n",
            "==============================================================================\n",
            "Dep. Variable:          preco_dolares   R-squared:                       0.609\n",
            "Model:                            OLS   Adj. R-squared:                  0.608\n",
            "Method:                 Least Squares   F-statistic:                     2800.\n",
            "Date:                Thu, 29 Oct 2020   Prob (F-statistic):               0.00\n",
            "Time:                        21:26:43   Log-Likelihood:            -2.2278e+05\n",
            "No. Observations:               16209   AIC:                         4.456e+05\n",
            "Df Residuals:                   16199   BIC:                         4.457e+05\n",
            "Df Model:                           9                                         \n",
            "Covariance Type:            nonrobust                                         \n",
            "=================================================================================\n",
            "                    coef    std err          t      P>|t|      [0.025      0.975]\n",
            "---------------------------------------------------------------------------------\n",
            "Intercept     -7.216e+05   1.95e+04    -37.093      0.000    -7.6e+05   -6.83e+05\n",
            "area_util_m2   2037.3926     40.979     49.718      0.000    1957.069    2117.716\n",
            "quartos       -2.842e+04   2400.288    -11.839      0.000   -3.31e+04   -2.37e+04\n",
            "banheiros     -2.735e+04   2962.155     -9.233      0.000   -3.32e+04   -2.15e+04\n",
            "orla_mar       5.477e+05   2.31e+04     23.664      0.000    5.02e+05    5.93e+05\n",
            "nota_vista     5.766e+04   2661.500     21.666      0.000    5.24e+04    6.29e+04\n",
            "nota_condicao  5.165e+04   2815.237     18.348      0.000    4.61e+04    5.72e+04\n",
            "nota           1.066e+05   2511.379     42.451      0.000    1.02e+05    1.12e+05\n",
            "tem_porao      3.469e+04   3839.615      9.034      0.000    2.72e+04    4.22e+04\n",
            "teve_reforma    1.51e+05   8982.544     16.809      0.000    1.33e+05    1.69e+05\n",
            "==============================================================================\n",
            "Omnibus:                    12200.374   Durbin-Watson:                   2.014\n",
            "Prob(Omnibus):                  0.000   Jarque-Bera (JB):           881636.899\n",
            "Skew:                           3.011   Prob(JB):                         0.00\n",
            "Kurtosis:                      38.625   Cond. No.                     2.76e+03\n",
            "==============================================================================\n",
            "\n",
            "Warnings:\n",
            "[1] Standard Errors assume that the covariance matrix of the errors is correctly specified.\n",
            "[2] The condition number is large, 2.76e+03. This might indicate that there are\n",
            "strong multicollinearity or other numerical problems.\n"
          ],
          "name": "stdout"
        }
      ]
    },
    {
      "cell_type": "markdown",
      "metadata": {
        "id": "uTGzIeCiMcfA"
      },
      "source": [
        "## Avaliação do modelo"
      ]
    },
    {
      "cell_type": "code",
      "metadata": {
        "id": "3pyuLh3rMcF6"
      },
      "source": [
        "def avaliar_modelo(modelo):\n",
        "    teste_df = pd.read_csv(\"https://raw.githubusercontent.com/nubank/diversidados-curso-ds/master/iniciante/LinReg/dataset_imoveis_teste.csv\")\n",
        "\n",
        "    y_treino = treino_df['preco_dolares']\n",
        "    y_teste = teste_df['preco_dolares']\n",
        "\n",
        "    y_hat_treino = modelo.predict(treino_df)\n",
        "    y_hat_teste = modelo.predict(teste_df)\n",
        "\n",
        "    print(\"AVALIAÇÃO DO MODELO\")\n",
        "    print(\"\\n=== MÉTRICAS DO CONJUNTO DE TREINO ===\")\n",
        "    print(\"MSE:\", smem.mse(y_treino, y_hat_treino))\n",
        "    print(\"RMSE:\", smem.rmse(y_treino, y_hat_treino))\n",
        "    print(\"MAE:\", smem.meanabs(y_treino, y_hat_treino))\n",
        "    print(\"R2:\", modelo.rsquared)\n",
        "    print(\"Adj R2:\", modelo.rsquared_adj)\n",
        "\n",
        "    print(\"\\n=== MÉTRICAS DO CONJUNTO DE TESTE ===\")\n",
        "    print(\"MSE:\", smem.mse(y_teste, y_hat_teste))\n",
        "    print(\"RMSE:\", smem.rmse(y_teste, y_hat_teste))\n",
        "    print(\"MAE:\", smem.meanabs(y_teste, y_hat_teste))\n"
      ],
      "execution_count": 5,
      "outputs": []
    },
    {
      "cell_type": "code",
      "metadata": {
        "id": "xlG8sfOhn0Ze",
        "outputId": "c76b90ff-0cfd-49b6-8f49-88948bfa2f5b",
        "colab": {
          "base_uri": "https://localhost:8080/"
        }
      },
      "source": [
        "avaliar_modelo(modelo_benchmark)"
      ],
      "execution_count": 6,
      "outputs": [
        {
          "output_type": "stream",
          "text": [
            "AVALIAÇÃO DO MODELO\n",
            "\n",
            "=== MÉTRICAS DO CONJUNTO DE TREINO ===\n",
            "MSE: 50793091098.592384\n",
            "RMSE: 225373.2262239514\n",
            "MAE: 148360.81037799662\n",
            "R2: 0.6087140165753311\n",
            "Adj R2: 0.6084966220540136\n",
            "\n",
            "=== MÉTRICAS DO CONJUNTO DE TESTE ===\n",
            "MSE: 56480591027.41894\n",
            "RMSE: 237656.45589257393\n",
            "MAE: 152438.54922311215\n"
          ],
          "name": "stdout"
        }
      ]
    },
    {
      "cell_type": "markdown",
      "metadata": {
        "id": "XUALgoIDO3vl"
      },
      "source": [
        "## Desafio!\n",
        "\n",
        "Seu desafio será construir um modelo que tenha uma performance **melhor** que a do `modelo_benchmark` no conjunto de teste, cujas métricas foram exibidas na célula acima.\n",
        "\n",
        "Durante a construção do modelo, cientistas costumam evitar ao máximo olhar o dataset de teste, pois seu único intuito é servir como validação final do modelo treinado, e se o modelo foi direta ou indiretamente condicionado ao conjunto de testes, ele perde seu propósito. Dito isso, uma boa maneira de saber se você está indo no caminho certo é olhando para o `R2` da tabela `summary()`.\n",
        "\n",
        "Algo que pode acontecer com modelos muito complexos é uma diferença muito grande entre as métricas do conjunto de treino e de teste. É normal existir uma diferença, porém quando essa diferença é grande demais, é um sinal de que o modelo está \"overfitando\".\n",
        "\n",
        "----\n",
        "\n",
        "Quando estiver tudo pronto para testar o seu modelo, é só chamar a função `avaliar_modelo(nome_do_seu_modelo)` e interpretar a saída dela.\n",
        "\n",
        "Boa sorte!"
      ]
    },
    {
      "cell_type": "code",
      "metadata": {
        "id": "4adyZ9ZLO2cE"
      },
      "source": [
        ""
      ],
      "execution_count": null,
      "outputs": []
    },
    {
      "cell_type": "code",
      "metadata": {
        "id": "0VMs09tiO2mO"
      },
      "source": [
        ""
      ],
      "execution_count": null,
      "outputs": []
    },
    {
      "cell_type": "code",
      "metadata": {
        "id": "GyopAM7oO23r"
      },
      "source": [
        ""
      ],
      "execution_count": null,
      "outputs": []
    },
    {
      "cell_type": "code",
      "metadata": {
        "id": "fbdrvBTkO2uF"
      },
      "source": [
        ""
      ],
      "execution_count": null,
      "outputs": []
    },
    {
      "cell_type": "code",
      "metadata": {
        "id": "HNCAQAQyO2f1"
      },
      "source": [
        ""
      ],
      "execution_count": null,
      "outputs": []
    },
    {
      "cell_type": "code",
      "metadata": {
        "id": "YAP8_m1AO2R2"
      },
      "source": [
        ""
      ],
      "execution_count": null,
      "outputs": []
    }
  ]
}