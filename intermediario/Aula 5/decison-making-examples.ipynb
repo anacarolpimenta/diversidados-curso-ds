{
 "cells": [
  {
   "cell_type": "markdown",
   "metadata": {},
   "source": [
    "## Imports"
   ]
  },
  {
   "cell_type": "code",
   "execution_count": 34,
   "metadata": {
    "ExecuteTime": {
     "end_time": "2020-11-09T16:25:33.345361Z",
     "start_time": "2020-11-09T16:25:33.274310Z"
    }
   },
   "outputs": [],
   "source": [
    "import pandas as pd\n",
    "import numpy as np\n",
    "from matplotlib import pyplot as plt\n",
    "import seaborn as sns"
   ]
  },
  {
   "cell_type": "markdown",
   "metadata": {},
   "source": [
    "## Criando o cenario"
   ]
  },
  {
   "cell_type": "code",
   "execution_count": 110,
   "metadata": {
    "ExecuteTime": {
     "end_time": "2020-11-09T21:02:05.231637Z",
     "start_time": "2020-11-09T21:02:05.215370Z"
    }
   },
   "outputs": [
    {
     "data": {
      "text/html": [
       "<div>\n",
       "<style scoped>\n",
       "    .dataframe tbody tr th:only-of-type {\n",
       "        vertical-align: middle;\n",
       "    }\n",
       "\n",
       "    .dataframe tbody tr th {\n",
       "        vertical-align: top;\n",
       "    }\n",
       "\n",
       "    .dataframe thead th {\n",
       "        text-align: right;\n",
       "    }\n",
       "</style>\n",
       "<table border=\"1\" class=\"dataframe\">\n",
       "  <thead>\n",
       "    <tr style=\"text-align: right;\">\n",
       "      <th></th>\n",
       "      <th>cliente</th>\n",
       "      <th>feature-1</th>\n",
       "      <th>prediction</th>\n",
       "      <th>target</th>\n",
       "      <th>transaction_amount</th>\n",
       "      <th>international_transaction</th>\n",
       "    </tr>\n",
       "  </thead>\n",
       "  <tbody>\n",
       "    <tr>\n",
       "      <th>0</th>\n",
       "      <td>1</td>\n",
       "      <td>100</td>\n",
       "      <td>0.10</td>\n",
       "      <td>0</td>\n",
       "      <td>150.0</td>\n",
       "      <td>0</td>\n",
       "    </tr>\n",
       "    <tr>\n",
       "      <th>1</th>\n",
       "      <td>2</td>\n",
       "      <td>150</td>\n",
       "      <td>0.40</td>\n",
       "      <td>1</td>\n",
       "      <td>500.0</td>\n",
       "      <td>1</td>\n",
       "    </tr>\n",
       "    <tr>\n",
       "      <th>2</th>\n",
       "      <td>3</td>\n",
       "      <td>200</td>\n",
       "      <td>0.70</td>\n",
       "      <td>0</td>\n",
       "      <td>20.0</td>\n",
       "      <td>0</td>\n",
       "    </tr>\n",
       "    <tr>\n",
       "      <th>3</th>\n",
       "      <td>4</td>\n",
       "      <td>140</td>\n",
       "      <td>0.15</td>\n",
       "      <td>0</td>\n",
       "      <td>30.0</td>\n",
       "      <td>0</td>\n",
       "    </tr>\n",
       "    <tr>\n",
       "      <th>4</th>\n",
       "      <td>5</td>\n",
       "      <td>150</td>\n",
       "      <td>0.45</td>\n",
       "      <td>0</td>\n",
       "      <td>120.0</td>\n",
       "      <td>0</td>\n",
       "    </tr>\n",
       "    <tr>\n",
       "      <th>5</th>\n",
       "      <td>6</td>\n",
       "      <td>140</td>\n",
       "      <td>0.32</td>\n",
       "      <td>0</td>\n",
       "      <td>500.0</td>\n",
       "      <td>1</td>\n",
       "    </tr>\n",
       "    <tr>\n",
       "      <th>6</th>\n",
       "      <td>7</td>\n",
       "      <td>230</td>\n",
       "      <td>0.13</td>\n",
       "      <td>0</td>\n",
       "      <td>30.0</td>\n",
       "      <td>0</td>\n",
       "    </tr>\n",
       "    <tr>\n",
       "      <th>7</th>\n",
       "      <td>8</td>\n",
       "      <td>400</td>\n",
       "      <td>0.28</td>\n",
       "      <td>0</td>\n",
       "      <td>20.0</td>\n",
       "      <td>0</td>\n",
       "    </tr>\n",
       "    <tr>\n",
       "      <th>8</th>\n",
       "      <td>9</td>\n",
       "      <td>260</td>\n",
       "      <td>0.65</td>\n",
       "      <td>0</td>\n",
       "      <td>40.0</td>\n",
       "      <td>0</td>\n",
       "    </tr>\n",
       "    <tr>\n",
       "      <th>9</th>\n",
       "      <td>10</td>\n",
       "      <td>165</td>\n",
       "      <td>0.43</td>\n",
       "      <td>0</td>\n",
       "      <td>20.0</td>\n",
       "      <td>0</td>\n",
       "    </tr>\n",
       "  </tbody>\n",
       "</table>\n",
       "</div>"
      ],
      "text/plain": [
       "   cliente  feature-1  prediction  target  transaction_amount  \\\n",
       "0        1        100        0.10       0               150.0   \n",
       "1        2        150        0.40       1               500.0   \n",
       "2        3        200        0.70       0                20.0   \n",
       "3        4        140        0.15       0                30.0   \n",
       "4        5        150        0.45       0               120.0   \n",
       "5        6        140        0.32       0               500.0   \n",
       "6        7        230        0.13       0                30.0   \n",
       "7        8        400        0.28       0                20.0   \n",
       "8        9        260        0.65       0                40.0   \n",
       "9       10        165        0.43       0                20.0   \n",
       "\n",
       "   international_transaction  \n",
       "0                          0  \n",
       "1                          1  \n",
       "2                          0  \n",
       "3                          0  \n",
       "4                          0  \n",
       "5                          1  \n",
       "6                          0  \n",
       "7                          0  \n",
       "8                          0  \n",
       "9                          0  "
      ]
     },
     "execution_count": 110,
     "metadata": {},
     "output_type": "execute_result"
    }
   ],
   "source": [
    "# df = pd.read_csv(\"\")\n",
    "df = pd.DataFrame(\n",
    "    {\"cliente\": [1, 2, 3, 4, 5, 6, 7, 8, 9, 10],\n",
    "     \"feature-1\": [100, 150, 200, 140, 150, 140, 230, 400, 260, 165],\n",
    "     \"prediction\": [0.1, 0.4, 0.7, 0.15, 0.45, 0.32, 0.13, 0.28, 0.65, 0.43],\n",
    "     \"target\": [0, 1, 0, 0, 0, 0, 0, 0, 0, 0],\n",
    "    \"transaction_amount\": [150.0, 500.0, 20.0, 30.0, 120, 500.0, 30.0, 20.0, 40.0, 20.0],\n",
    "    \"international_transaction\": [0, 1, 0, 0, 0, 1, 0, 0, 0, 0]}\n",
    ")\n",
    "\n",
    "\n",
    "df"
   ]
  },
  {
   "cell_type": "code",
   "execution_count": 54,
   "metadata": {
    "ExecuteTime": {
     "end_time": "2020-11-09T17:12:22.528311Z",
     "start_time": "2020-11-09T17:12:22.525300Z"
    }
   },
   "outputs": [],
   "source": [
    "review_fraud_cost = 1.0\n",
    "interchange_revenue = 0.015\n",
    "target_col = \"target\"\n",
    "prediction_col = \"prediction\"\n",
    "amount_col = \"transaction_amount\""
   ]
  },
  {
   "cell_type": "markdown",
   "metadata": {},
   "source": [
    "## Metricas basicas recap\n",
    "Como temos um problema de classificação, vamos focar nas metricas basicas de classificação AUC, Logloss, Matriz de Confusão"
   ]
  },
  {
   "cell_type": "code",
   "execution_count": 31,
   "metadata": {
    "ExecuteTime": {
     "end_time": "2020-11-09T16:22:20.923156Z",
     "start_time": "2020-11-09T16:22:20.920313Z"
    }
   },
   "outputs": [],
   "source": [
    "from sklearn.metrics import auc, log_loss, roc_curve, confusion_matrix"
   ]
  },
  {
   "cell_type": "code",
   "execution_count": 28,
   "metadata": {
    "ExecuteTime": {
     "end_time": "2020-11-09T16:20:30.696315Z",
     "start_time": "2020-11-09T16:20:30.686713Z"
    }
   },
   "outputs": [
    {
     "data": {
      "text/plain": [
       "0.5238095238095238"
      ]
     },
     "execution_count": 28,
     "metadata": {},
     "output_type": "execute_result"
    }
   ],
   "source": [
    "fpr, tpr, thresholds = roc_curve(df[target_col], df[prediction_col])\n",
    "auc(fpr, tpr)"
   ]
  },
  {
   "cell_type": "code",
   "execution_count": 29,
   "metadata": {
    "ExecuteTime": {
     "end_time": "2020-11-09T16:20:43.490073Z",
     "start_time": "2020-11-09T16:20:43.478475Z"
    }
   },
   "outputs": [
    {
     "data": {
      "text/plain": [
       "0.6677662400862899"
      ]
     },
     "execution_count": 29,
     "metadata": {},
     "output_type": "execute_result"
    }
   ],
   "source": [
    "log_loss(df[target_col], df[prediction_col])"
   ]
  },
  {
   "cell_type": "code",
   "execution_count": 36,
   "metadata": {
    "ExecuteTime": {
     "end_time": "2020-11-09T16:27:14.019257Z",
     "start_time": "2020-11-09T16:27:13.857069Z"
    }
   },
   "outputs": [
    {
     "data": {
      "text/plain": [
       "<matplotlib.axes._subplots.AxesSubplot at 0x1a1f426da0>"
      ]
     },
     "execution_count": 36,
     "metadata": {},
     "output_type": "execute_result"
    },
    {
     "data": {
      "image/png": "[encoded data removed]",
      "text/plain": [
       "<Figure size 432x288 with 2 Axes>"
      ]
     },
     "metadata": {
      "needs_background": "light"
     },
     "output_type": "display_data"
    }
   ],
   "source": [
    "threshold = 0.5 # definindo um threshold arbitrario pra gerar a matrix de confusao\n",
    "# o estudo de thresholds vira na sequencia\n",
    "cf_matrix = confusion_matrix(df[target_col], df[prediction_col] > threshold)\n",
    "sns.heatmap(cf_matrix, annot=True)"
   ]
  },
  {
   "cell_type": "markdown",
   "metadata": {},
   "source": [
    "## Validação na vida real\n",
    "\n",
    "Como mencionado nos slides, se dois grupos diferentes tem comportamentos diferentes ou impactam o negócio de maneira distinta, é fundamental avaliar a performance de ambos separadamente"
   ]
  },
  {
   "cell_type": "code",
   "execution_count": 85,
   "metadata": {
    "ExecuteTime": {
     "end_time": "2020-11-09T20:19:12.821054Z",
     "start_time": "2020-11-09T20:19:12.813597Z"
    }
   },
   "outputs": [
    {
     "name": "stderr",
     "output_type": "stream",
     "text": [
      "/Users/henriquelopes/miniconda3/lib/python3.6/site-packages/sklearn/metrics/ranking.py:659: UndefinedMetricWarning: No positive samples in y_true, true positive value should be meaningless\n",
      "  UndefinedMetricWarning)\n"
     ]
    },
    {
     "data": {
      "text/plain": [
       "nan"
      ]
     },
     "execution_count": 85,
     "metadata": {},
     "output_type": "execute_result"
    }
   ],
   "source": [
    "national_df = df.loc[df.international_transaction == 0]\n",
    "fpr_national, tpr_national, thresholds_national = roc_curve(national_df[target_col], national_df[prediction_col])\n",
    "auc(fpr_national, tpr_national)"
   ]
  },
  {
   "cell_type": "code",
   "execution_count": 86,
   "metadata": {
    "ExecuteTime": {
     "end_time": "2020-11-09T20:20:19.640939Z",
     "start_time": "2020-11-09T20:20:19.633363Z"
    }
   },
   "outputs": [
    {
     "data": {
      "text/plain": [
       "1.0"
      ]
     },
     "execution_count": 86,
     "metadata": {},
     "output_type": "execute_result"
    }
   ],
   "source": [
    "international_df = df.loc[df.international_transaction == 1]\n",
    "fpr_international, tpr_international, thresholds_international = roc_curve(international_df[target_col], international_df[prediction_col])\n",
    "auc(fpr_international, tpr_international)"
   ]
  },
  {
   "cell_type": "markdown",
   "metadata": {},
   "source": [
    "## Definindo um threshold\n",
    "Aqui desejamos achar um corte que maximize a nossa lucrativade\n",
    "\n",
    "Primeiro, vamos definir uma função pra calcular o custo de um conjunto de decisões\n",
    "\n",
    "Depois, podemos gerar todos os thresholds possiveis e qual seria o label de cada transação nesse caso"
   ]
  },
  {
   "cell_type": "code",
   "execution_count": 129,
   "metadata": {
    "ExecuteTime": {
     "end_time": "2020-11-09T22:27:27.431511Z",
     "start_time": "2020-11-09T22:27:27.425646Z"
    }
   },
   "outputs": [],
   "source": [
    "def profit_from_decision(decision_df):\n",
    "    # decision_df must have a column `is_fraud` indicating the decision\n",
    "    # target represents the true information if that transaction was a fraud or not\n",
    "    # transaction_amount is used to calculate revenues and costs\n",
    "    return decision_df.assign(\n",
    "     operational_cost = lambda df: df.is_fraud * review_fraud_cost,\n",
    "     fraud_losses = lambda df: (~df.is_fraud & df.target) * df.transaction_amount,\n",
    "     revenues = lambda df: (~df.is_fraud & ~df.target) * df.transaction_amount * interchange_revenue,\n",
    "     profit = lambda df: df.revenues - (df.fraud_losses + df.operational_cost)\n",
    "    )[[\"operational_cost\", \"fraud_losses\", \"revenues\", \"profit\"]].sum()"
   ]
  },
  {
   "cell_type": "code",
   "execution_count": 141,
   "metadata": {
    "ExecuteTime": {
     "end_time": "2020-11-09T22:31:13.208666Z",
     "start_time": "2020-11-09T22:31:12.531514Z"
    }
   },
   "outputs": [
    {
     "data": {
      "text/html": [
       "<div>\n",
       "<style scoped>\n",
       "    .dataframe tbody tr th:only-of-type {\n",
       "        vertical-align: middle;\n",
       "    }\n",
       "\n",
       "    .dataframe tbody tr th {\n",
       "        vertical-align: top;\n",
       "    }\n",
       "\n",
       "    .dataframe thead th {\n",
       "        text-align: right;\n",
       "    }\n",
       "</style>\n",
       "<table border=\"1\" class=\"dataframe\">\n",
       "  <thead>\n",
       "    <tr style=\"text-align: right;\">\n",
       "      <th></th>\n",
       "      <th>threshold</th>\n",
       "      <th>operational_cost</th>\n",
       "      <th>fraud_losses</th>\n",
       "      <th>revenues</th>\n",
       "      <th>profit</th>\n",
       "    </tr>\n",
       "  </thead>\n",
       "  <tbody>\n",
       "    <tr>\n",
       "      <th>0</th>\n",
       "      <td>0.00</td>\n",
       "      <td>10.0</td>\n",
       "      <td>0.0</td>\n",
       "      <td>0.0</td>\n",
       "      <td>-10.0</td>\n",
       "    </tr>\n",
       "    <tr>\n",
       "      <th>1</th>\n",
       "      <td>0.01</td>\n",
       "      <td>10.0</td>\n",
       "      <td>0.0</td>\n",
       "      <td>0.0</td>\n",
       "      <td>-10.0</td>\n",
       "    </tr>\n",
       "    <tr>\n",
       "      <th>2</th>\n",
       "      <td>0.02</td>\n",
       "      <td>10.0</td>\n",
       "      <td>0.0</td>\n",
       "      <td>0.0</td>\n",
       "      <td>-10.0</td>\n",
       "    </tr>\n",
       "    <tr>\n",
       "      <th>3</th>\n",
       "      <td>0.03</td>\n",
       "      <td>10.0</td>\n",
       "      <td>0.0</td>\n",
       "      <td>0.0</td>\n",
       "      <td>-10.0</td>\n",
       "    </tr>\n",
       "    <tr>\n",
       "      <th>4</th>\n",
       "      <td>0.04</td>\n",
       "      <td>10.0</td>\n",
       "      <td>0.0</td>\n",
       "      <td>0.0</td>\n",
       "      <td>-10.0</td>\n",
       "    </tr>\n",
       "  </tbody>\n",
       "</table>\n",
       "</div>"
      ],
      "text/plain": [
       "   threshold  operational_cost  fraud_losses  revenues  profit\n",
       "0       0.00              10.0           0.0       0.0   -10.0\n",
       "1       0.01              10.0           0.0       0.0   -10.0\n",
       "2       0.02              10.0           0.0       0.0   -10.0\n",
       "3       0.03              10.0           0.0       0.0   -10.0\n",
       "4       0.04              10.0           0.0       0.0   -10.0"
      ]
     },
     "execution_count": 141,
     "metadata": {},
     "output_type": "execute_result"
    }
   ],
   "source": [
    "possible_thresholds = np.arange(0.0, 1.0, 0.01)\n",
    "all_decisions = []\n",
    "for threshold in possible_thresholds: \n",
    "    all_decisions.append(profit_from_decision(df.assign(is_fraud=lambda df: df.prediction >= threshold)))\n",
    "    \n",
    "\n",
    "threshold_evaluation = pd.concat(all_decisions, axis=1, keys=[s for s in possible_thresholds]).T.rename_axis(\"threshold\").reset_index()\n",
    "\n",
    "threshold_evaluation.head(5)"
   ]
  },
  {
   "cell_type": "code",
   "execution_count": 142,
   "metadata": {
    "ExecuteTime": {
     "end_time": "2020-11-09T22:31:15.969388Z",
     "start_time": "2020-11-09T22:31:15.461387Z"
    }
   },
   "outputs": [
    {
     "data": {
      "text/plain": [
       "<matplotlib.axes._subplots.AxesSubplot at 0x1a21503f98>"
      ]
     },
     "execution_count": 142,
     "metadata": {},
     "output_type": "execute_result"
    },
    {
     "data": {
      "image/png": "[encoded data removed]",
      "text/plain": [
       "<Figure size 720x720 with 3 Axes>"
      ]
     },
     "metadata": {
      "needs_background": "light"
     },
     "output_type": "display_data"
    }
   ],
   "source": [
    "fig, ax = plt.subplots(3, 1, figsize=(10, 10))\n",
    "\n",
    "sns.lineplot(threshold_evaluation.threshold, threshold_evaluation.operational_cost + threshold_evaluation.fraud_losses, color=\"r\", ax=ax[0])\n",
    "sns.lineplot(threshold_evaluation.threshold, threshold_evaluation.revenues, color=\"b\", ax=ax[1])\n",
    "sns.lineplot(threshold_evaluation.threshold, threshold_evaluation.profit, color=\"g\", ax=ax[2])\n",
    "\n",
    "# plt.title(\"Costs (g), Revenues (b), Profit (r)\")"
   ]
  },
  {
   "cell_type": "code",
   "execution_count": 146,
   "metadata": {
    "ExecuteTime": {
     "end_time": "2020-11-09T22:34:23.290370Z",
     "start_time": "2020-11-09T22:34:23.283212Z"
    }
   },
   "outputs": [
    {
     "data": {
      "text/plain": [
       "threshold            0.33\n",
       "operational_cost     5.00\n",
       "fraud_losses         0.00\n",
       "revenues            10.95\n",
       "profit               5.95\n",
       "Name: 33, dtype: float64"
      ]
     },
     "execution_count": 146,
     "metadata": {},
     "output_type": "execute_result"
    }
   ],
   "source": [
    "best_decision = threshold_evaluation.loc[lambda df: df[\"profit\"].idxmax()]\n",
    "best_decision"
   ]
  },
  {
   "cell_type": "markdown",
   "metadata": {
    "ExecuteTime": {
     "end_time": "2020-11-03T22:11:49.681064Z",
     "start_time": "2020-11-03T22:11:49.676358Z"
    }
   },
   "source": [
    "## Calibrando um modelo\n",
    "\n",
    "Para construção de um modelo de negócio que utilize as probabilidades, é fundamental que essas probabilidades estejam calibradas com o target"
   ]
  },
  {
   "cell_type": "markdown",
   "metadata": {},
   "source": [
    "### Calibração"
   ]
  },
  {
   "cell_type": "code",
   "execution_count": 143,
   "metadata": {
    "ExecuteTime": {
     "end_time": "2020-11-09T22:31:26.234762Z",
     "start_time": "2020-11-09T22:31:26.219124Z"
    }
   },
   "outputs": [
    {
     "data": {
      "text/html": [
       "<div>\n",
       "<style scoped>\n",
       "    .dataframe tbody tr th:only-of-type {\n",
       "        vertical-align: middle;\n",
       "    }\n",
       "\n",
       "    .dataframe tbody tr th {\n",
       "        vertical-align: top;\n",
       "    }\n",
       "\n",
       "    .dataframe thead th {\n",
       "        text-align: right;\n",
       "    }\n",
       "</style>\n",
       "<table border=\"1\" class=\"dataframe\">\n",
       "  <thead>\n",
       "    <tr style=\"text-align: right;\">\n",
       "      <th></th>\n",
       "      <th>cliente</th>\n",
       "      <th>feature-1</th>\n",
       "      <th>prediction</th>\n",
       "      <th>target</th>\n",
       "      <th>transaction_amount</th>\n",
       "      <th>international_transaction</th>\n",
       "      <th>calibrated_prediction</th>\n",
       "    </tr>\n",
       "  </thead>\n",
       "  <tbody>\n",
       "    <tr>\n",
       "      <th>0</th>\n",
       "      <td>1</td>\n",
       "      <td>100</td>\n",
       "      <td>0.10</td>\n",
       "      <td>0</td>\n",
       "      <td>150.0</td>\n",
       "      <td>0</td>\n",
       "      <td>0.0</td>\n",
       "    </tr>\n",
       "    <tr>\n",
       "      <th>1</th>\n",
       "      <td>2</td>\n",
       "      <td>150</td>\n",
       "      <td>0.40</td>\n",
       "      <td>1</td>\n",
       "      <td>500.0</td>\n",
       "      <td>1</td>\n",
       "      <td>0.2</td>\n",
       "    </tr>\n",
       "    <tr>\n",
       "      <th>2</th>\n",
       "      <td>3</td>\n",
       "      <td>200</td>\n",
       "      <td>0.70</td>\n",
       "      <td>0</td>\n",
       "      <td>20.0</td>\n",
       "      <td>0</td>\n",
       "      <td>0.2</td>\n",
       "    </tr>\n",
       "    <tr>\n",
       "      <th>3</th>\n",
       "      <td>4</td>\n",
       "      <td>140</td>\n",
       "      <td>0.15</td>\n",
       "      <td>0</td>\n",
       "      <td>30.0</td>\n",
       "      <td>0</td>\n",
       "      <td>0.0</td>\n",
       "    </tr>\n",
       "    <tr>\n",
       "      <th>4</th>\n",
       "      <td>5</td>\n",
       "      <td>150</td>\n",
       "      <td>0.45</td>\n",
       "      <td>0</td>\n",
       "      <td>120.0</td>\n",
       "      <td>0</td>\n",
       "      <td>0.2</td>\n",
       "    </tr>\n",
       "    <tr>\n",
       "      <th>5</th>\n",
       "      <td>6</td>\n",
       "      <td>140</td>\n",
       "      <td>0.32</td>\n",
       "      <td>0</td>\n",
       "      <td>500.0</td>\n",
       "      <td>1</td>\n",
       "      <td>0.0</td>\n",
       "    </tr>\n",
       "    <tr>\n",
       "      <th>6</th>\n",
       "      <td>7</td>\n",
       "      <td>230</td>\n",
       "      <td>0.13</td>\n",
       "      <td>0</td>\n",
       "      <td>30.0</td>\n",
       "      <td>0</td>\n",
       "      <td>0.0</td>\n",
       "    </tr>\n",
       "    <tr>\n",
       "      <th>7</th>\n",
       "      <td>8</td>\n",
       "      <td>400</td>\n",
       "      <td>0.28</td>\n",
       "      <td>0</td>\n",
       "      <td>20.0</td>\n",
       "      <td>0</td>\n",
       "      <td>0.0</td>\n",
       "    </tr>\n",
       "    <tr>\n",
       "      <th>8</th>\n",
       "      <td>9</td>\n",
       "      <td>260</td>\n",
       "      <td>0.65</td>\n",
       "      <td>0</td>\n",
       "      <td>40.0</td>\n",
       "      <td>0</td>\n",
       "      <td>0.2</td>\n",
       "    </tr>\n",
       "    <tr>\n",
       "      <th>9</th>\n",
       "      <td>10</td>\n",
       "      <td>165</td>\n",
       "      <td>0.43</td>\n",
       "      <td>0</td>\n",
       "      <td>20.0</td>\n",
       "      <td>0</td>\n",
       "      <td>0.2</td>\n",
       "    </tr>\n",
       "  </tbody>\n",
       "</table>\n",
       "</div>"
      ],
      "text/plain": [
       "   cliente  feature-1  prediction  target  transaction_amount  \\\n",
       "0        1        100        0.10       0               150.0   \n",
       "1        2        150        0.40       1               500.0   \n",
       "2        3        200        0.70       0                20.0   \n",
       "3        4        140        0.15       0                30.0   \n",
       "4        5        150        0.45       0               120.0   \n",
       "5        6        140        0.32       0               500.0   \n",
       "6        7        230        0.13       0                30.0   \n",
       "7        8        400        0.28       0                20.0   \n",
       "8        9        260        0.65       0                40.0   \n",
       "9       10        165        0.43       0                20.0   \n",
       "\n",
       "   international_transaction  calibrated_prediction  \n",
       "0                          0                    0.0  \n",
       "1                          1                    0.2  \n",
       "2                          0                    0.2  \n",
       "3                          0                    0.0  \n",
       "4                          0                    0.2  \n",
       "5                          1                    0.0  \n",
       "6                          0                    0.0  \n",
       "7                          0                    0.0  \n",
       "8                          0                    0.2  \n",
       "9                          0                    0.2  "
      ]
     },
     "execution_count": 143,
     "metadata": {},
     "output_type": "execute_result"
    }
   ],
   "source": [
    "from fklearn.training.calibration import isotonic_calibration_learner\n",
    "\n",
    "isotonic_calibration_fn, transformed_df, logs = isotonic_calibration_learner(df)\n",
    "transformed_df"
   ]
  },
  {
   "cell_type": "markdown",
   "metadata": {},
   "source": [
    "### Gerando o ponto otimo da curva de otimização"
   ]
  },
  {
   "cell_type": "code",
   "execution_count": 106,
   "metadata": {
    "ExecuteTime": {
     "end_time": "2020-11-09T20:42:24.299231Z",
     "start_time": "2020-11-09T20:42:24.266244Z"
    }
   },
   "outputs": [
    {
     "data": {
      "text/html": [
       "<div>\n",
       "<style scoped>\n",
       "    .dataframe tbody tr th:only-of-type {\n",
       "        vertical-align: middle;\n",
       "    }\n",
       "\n",
       "    .dataframe tbody tr th {\n",
       "        vertical-align: top;\n",
       "    }\n",
       "\n",
       "    .dataframe thead th {\n",
       "        text-align: right;\n",
       "    }\n",
       "</style>\n",
       "<table border=\"1\" class=\"dataframe\">\n",
       "  <thead>\n",
       "    <tr style=\"text-align: right;\">\n",
       "      <th></th>\n",
       "      <th>transaction_amount</th>\n",
       "      <th>probability</th>\n",
       "    </tr>\n",
       "  </thead>\n",
       "  <tbody>\n",
       "    <tr>\n",
       "      <th>0</th>\n",
       "      <td>10</td>\n",
       "      <td>0.000000</td>\n",
       "    </tr>\n",
       "    <tr>\n",
       "      <th>1</th>\n",
       "      <td>20</td>\n",
       "      <td>0.000000</td>\n",
       "    </tr>\n",
       "    <tr>\n",
       "      <th>2</th>\n",
       "      <td>30</td>\n",
       "      <td>0.000000</td>\n",
       "    </tr>\n",
       "    <tr>\n",
       "      <th>3</th>\n",
       "      <td>40</td>\n",
       "      <td>0.000000</td>\n",
       "    </tr>\n",
       "    <tr>\n",
       "      <th>4</th>\n",
       "      <td>50</td>\n",
       "      <td>0.000000</td>\n",
       "    </tr>\n",
       "    <tr>\n",
       "      <th>5</th>\n",
       "      <td>60</td>\n",
       "      <td>0.000000</td>\n",
       "    </tr>\n",
       "    <tr>\n",
       "      <th>6</th>\n",
       "      <td>70</td>\n",
       "      <td>0.000704</td>\n",
       "    </tr>\n",
       "    <tr>\n",
       "      <th>7</th>\n",
       "      <td>80</td>\n",
       "      <td>0.002463</td>\n",
       "    </tr>\n",
       "    <tr>\n",
       "      <th>8</th>\n",
       "      <td>90</td>\n",
       "      <td>0.003831</td>\n",
       "    </tr>\n",
       "    <tr>\n",
       "      <th>9</th>\n",
       "      <td>100</td>\n",
       "      <td>0.004926</td>\n",
       "    </tr>\n",
       "  </tbody>\n",
       "</table>\n",
       "</div>"
      ],
      "text/plain": [
       "   transaction_amount  probability\n",
       "0                  10     0.000000\n",
       "1                  20     0.000000\n",
       "2                  30     0.000000\n",
       "3                  40     0.000000\n",
       "4                  50     0.000000\n",
       "5                  60     0.000000\n",
       "6                  70     0.000704\n",
       "7                  80     0.002463\n",
       "8                  90     0.003831\n",
       "9                 100     0.004926"
      ]
     },
     "execution_count": 106,
     "metadata": {},
     "output_type": "execute_result"
    }
   ],
   "source": [
    "\n",
    "transaction_amounts = np.arange(10, 20000, 10)\n",
    "break_even_p = []\n",
    "for amount in transaction_amounts:\n",
    "    break_even_p.append(max((0, amount * interchange_revenue - review_fraud_cost)/ (amount * (1 + interchange_revenue))))\n",
    "    \n",
    "    \n",
    "breakeven_df = pd.DataFrame(\n",
    "    {\"transaction_amount\": transaction_amounts,\n",
    "    \"probability\": break_even_p}\n",
    ")\n",
    "\n",
    "breakeven_df.head(10)"
   ]
  },
  {
   "cell_type": "code",
   "execution_count": 107,
   "metadata": {
    "ExecuteTime": {
     "end_time": "2020-11-09T20:46:25.891597Z",
     "start_time": "2020-11-09T20:46:25.214084Z"
    }
   },
   "outputs": [
    {
     "data": {
      "text/plain": [
       "<matplotlib.axes._subplots.AxesSubplot at 0x1a21f8b898>"
      ]
     },
     "execution_count": 107,
     "metadata": {},
     "output_type": "execute_result"
    },
    {
     "data": {
      "image/png": "[encoded data removed]",
      "text/plain": [
       "<Figure size 432x288 with 1 Axes>"
      ]
     },
     "metadata": {
      "needs_background": "light"
     },
     "output_type": "display_data"
    }
   ],
   "source": [
    "sns.lineplot(breakeven_df.transaction_amount, breakeven_df.probability)"
   ]
  },
  {
   "cell_type": "markdown",
   "metadata": {},
   "source": [
    "### Calculando a lucratividade dessa otimização"
   ]
  },
  {
   "cell_type": "code",
   "execution_count": 149,
   "metadata": {
    "ExecuteTime": {
     "end_time": "2020-11-09T22:35:39.199479Z",
     "start_time": "2020-11-09T22:35:39.179886Z"
    }
   },
   "outputs": [
    {
     "data": {
      "text/plain": [
       "operational_cost     5.00\n",
       "fraud_losses         0.00\n",
       "revenues            10.95\n",
       "profit               5.95\n",
       "dtype: float64"
      ]
     },
     "execution_count": 149,
     "metadata": {},
     "output_type": "execute_result"
    }
   ],
   "source": [
    "profit_from_decision(transformed_df.merge(breakeven_df, on=\"transaction_amount\", how=\"left\")\n",
    ".assign(is_fraud=lambda df: df.calibrated_prediction > df.probability)\n",
    ")"
   ]
  },
  {
   "cell_type": "markdown",
   "metadata": {},
   "source": [
    "## Criando bandas de modelo"
   ]
  },
  {
   "cell_type": "markdown",
   "metadata": {},
   "source": [
    "### Bandas de mesma largura"
   ]
  },
  {
   "cell_type": "code",
   "execution_count": 70,
   "metadata": {
    "ExecuteTime": {
     "end_time": "2020-11-09T17:26:54.550707Z",
     "start_time": "2020-11-09T17:26:54.535876Z"
    }
   },
   "outputs": [
    {
     "data": {
      "text/html": [
       "<div>\n",
       "<style scoped>\n",
       "    .dataframe tbody tr th:only-of-type {\n",
       "        vertical-align: middle;\n",
       "    }\n",
       "\n",
       "    .dataframe tbody tr th {\n",
       "        vertical-align: top;\n",
       "    }\n",
       "\n",
       "    .dataframe thead th {\n",
       "        text-align: right;\n",
       "    }\n",
       "</style>\n",
       "<table border=\"1\" class=\"dataframe\">\n",
       "  <thead>\n",
       "    <tr style=\"text-align: right;\">\n",
       "      <th></th>\n",
       "      <th>cliente</th>\n",
       "      <th>feature-1</th>\n",
       "      <th>prediction</th>\n",
       "      <th>target</th>\n",
       "      <th>transaction_amount</th>\n",
       "      <th>international_transaction</th>\n",
       "      <th>prediction_band</th>\n",
       "    </tr>\n",
       "  </thead>\n",
       "  <tbody>\n",
       "    <tr>\n",
       "      <th>0</th>\n",
       "      <td>1</td>\n",
       "      <td>100</td>\n",
       "      <td>0.10</td>\n",
       "      <td>0</td>\n",
       "      <td>150.0</td>\n",
       "      <td>0</td>\n",
       "      <td>1.0</td>\n",
       "    </tr>\n",
       "    <tr>\n",
       "      <th>1</th>\n",
       "      <td>2</td>\n",
       "      <td>150</td>\n",
       "      <td>0.40</td>\n",
       "      <td>1</td>\n",
       "      <td>500.0</td>\n",
       "      <td>1</td>\n",
       "      <td>4.0</td>\n",
       "    </tr>\n",
       "    <tr>\n",
       "      <th>2</th>\n",
       "      <td>3</td>\n",
       "      <td>200</td>\n",
       "      <td>0.70</td>\n",
       "      <td>0</td>\n",
       "      <td>2.0</td>\n",
       "      <td>0</td>\n",
       "      <td>6.0</td>\n",
       "    </tr>\n",
       "    <tr>\n",
       "      <th>3</th>\n",
       "      <td>4</td>\n",
       "      <td>140</td>\n",
       "      <td>0.15</td>\n",
       "      <td>0</td>\n",
       "      <td>30.0</td>\n",
       "      <td>0</td>\n",
       "      <td>1.0</td>\n",
       "    </tr>\n",
       "    <tr>\n",
       "      <th>4</th>\n",
       "      <td>5</td>\n",
       "      <td>150</td>\n",
       "      <td>0.45</td>\n",
       "      <td>0</td>\n",
       "      <td>120.0</td>\n",
       "      <td>0</td>\n",
       "      <td>4.0</td>\n",
       "    </tr>\n",
       "    <tr>\n",
       "      <th>5</th>\n",
       "      <td>6</td>\n",
       "      <td>140</td>\n",
       "      <td>0.32</td>\n",
       "      <td>0</td>\n",
       "      <td>500.0</td>\n",
       "      <td>1</td>\n",
       "      <td>3.0</td>\n",
       "    </tr>\n",
       "    <tr>\n",
       "      <th>6</th>\n",
       "      <td>7</td>\n",
       "      <td>230</td>\n",
       "      <td>0.13</td>\n",
       "      <td>0</td>\n",
       "      <td>32.0</td>\n",
       "      <td>0</td>\n",
       "      <td>1.0</td>\n",
       "    </tr>\n",
       "    <tr>\n",
       "      <th>7</th>\n",
       "      <td>8</td>\n",
       "      <td>400</td>\n",
       "      <td>0.28</td>\n",
       "      <td>0</td>\n",
       "      <td>24.0</td>\n",
       "      <td>0</td>\n",
       "      <td>2.0</td>\n",
       "    </tr>\n",
       "    <tr>\n",
       "      <th>8</th>\n",
       "      <td>9</td>\n",
       "      <td>260</td>\n",
       "      <td>0.65</td>\n",
       "      <td>0</td>\n",
       "      <td>45.0</td>\n",
       "      <td>0</td>\n",
       "      <td>6.0</td>\n",
       "    </tr>\n",
       "    <tr>\n",
       "      <th>9</th>\n",
       "      <td>10</td>\n",
       "      <td>165</td>\n",
       "      <td>0.43</td>\n",
       "      <td>0</td>\n",
       "      <td>22.0</td>\n",
       "      <td>0</td>\n",
       "      <td>4.0</td>\n",
       "    </tr>\n",
       "  </tbody>\n",
       "</table>\n",
       "</div>"
      ],
      "text/plain": [
       "   cliente  feature-1  prediction  target  transaction_amount  \\\n",
       "0        1        100        0.10       0               150.0   \n",
       "1        2        150        0.40       1               500.0   \n",
       "2        3        200        0.70       0                 2.0   \n",
       "3        4        140        0.15       0                30.0   \n",
       "4        5        150        0.45       0               120.0   \n",
       "5        6        140        0.32       0               500.0   \n",
       "6        7        230        0.13       0                32.0   \n",
       "7        8        400        0.28       0                24.0   \n",
       "8        9        260        0.65       0                45.0   \n",
       "9       10        165        0.43       0                22.0   \n",
       "\n",
       "   international_transaction  prediction_band  \n",
       "0                          0              1.0  \n",
       "1                          1              4.0  \n",
       "2                          0              6.0  \n",
       "3                          0              1.0  \n",
       "4                          0              4.0  \n",
       "5                          1              3.0  \n",
       "6                          0              1.0  \n",
       "7                          0              2.0  \n",
       "8                          0              6.0  \n",
       "9                          0              4.0  "
      ]
     },
     "execution_count": 70,
     "metadata": {},
     "output_type": "execute_result"
    }
   ],
   "source": [
    "band_size = 0.1\n",
    "binned_df = df.assign(prediction_band = lambda df: np.floor(df.prediction / band_size))\n",
    "binned_df"
   ]
  },
  {
   "cell_type": "code",
   "execution_count": 69,
   "metadata": {
    "ExecuteTime": {
     "end_time": "2020-11-09T17:26:51.808847Z",
     "start_time": "2020-11-09T17:26:51.647221Z"
    }
   },
   "outputs": [
    {
     "data": {
      "text/plain": [
       "<matplotlib.axes._subplots.AxesSubplot at 0x1a1fb8c6a0>"
      ]
     },
     "execution_count": 69,
     "metadata": {},
     "output_type": "execute_result"
    },
    {
     "data": {
      "image/png": "[encoded data removed]",
      "text/plain": [
       "<Figure size 432x288 with 1 Axes>"
      ]
     },
     "metadata": {
      "needs_background": "light"
     },
     "output_type": "display_data"
    }
   ],
   "source": [
    "binned_df.groupby(\"prediction_band\").count().cliente.plot()"
   ]
  },
  {
   "cell_type": "markdown",
   "metadata": {},
   "source": [
    "### Bandas de mesma quantidade de clientes"
   ]
  },
  {
   "cell_type": "code",
   "execution_count": 71,
   "metadata": {
    "ExecuteTime": {
     "end_time": "2020-11-09T17:27:00.419186Z",
     "start_time": "2020-11-09T17:27:00.390944Z"
    }
   },
   "outputs": [
    {
     "data": {
      "text/html": [
       "<div>\n",
       "<style scoped>\n",
       "    .dataframe tbody tr th:only-of-type {\n",
       "        vertical-align: middle;\n",
       "    }\n",
       "\n",
       "    .dataframe tbody tr th {\n",
       "        vertical-align: top;\n",
       "    }\n",
       "\n",
       "    .dataframe thead th {\n",
       "        text-align: right;\n",
       "    }\n",
       "</style>\n",
       "<table border=\"1\" class=\"dataframe\">\n",
       "  <thead>\n",
       "    <tr style=\"text-align: right;\">\n",
       "      <th></th>\n",
       "      <th>cliente</th>\n",
       "      <th>feature-1</th>\n",
       "      <th>prediction</th>\n",
       "      <th>target</th>\n",
       "      <th>transaction_amount</th>\n",
       "      <th>international_transaction</th>\n",
       "      <th>bands</th>\n",
       "      <th>bands_ranges</th>\n",
       "    </tr>\n",
       "  </thead>\n",
       "  <tbody>\n",
       "    <tr>\n",
       "      <th>0</th>\n",
       "      <td>1</td>\n",
       "      <td>100</td>\n",
       "      <td>0.10</td>\n",
       "      <td>0</td>\n",
       "      <td>150.0</td>\n",
       "      <td>0</td>\n",
       "      <td>1</td>\n",
       "      <td>(0.099, 0.28]</td>\n",
       "    </tr>\n",
       "    <tr>\n",
       "      <th>1</th>\n",
       "      <td>2</td>\n",
       "      <td>150</td>\n",
       "      <td>0.40</td>\n",
       "      <td>1</td>\n",
       "      <td>500.0</td>\n",
       "      <td>1</td>\n",
       "      <td>2</td>\n",
       "      <td>(0.28, 0.43]</td>\n",
       "    </tr>\n",
       "    <tr>\n",
       "      <th>2</th>\n",
       "      <td>3</td>\n",
       "      <td>200</td>\n",
       "      <td>0.70</td>\n",
       "      <td>0</td>\n",
       "      <td>2.0</td>\n",
       "      <td>0</td>\n",
       "      <td>3</td>\n",
       "      <td>(0.43, 0.7]</td>\n",
       "    </tr>\n",
       "    <tr>\n",
       "      <th>3</th>\n",
       "      <td>4</td>\n",
       "      <td>140</td>\n",
       "      <td>0.15</td>\n",
       "      <td>0</td>\n",
       "      <td>30.0</td>\n",
       "      <td>0</td>\n",
       "      <td>1</td>\n",
       "      <td>(0.099, 0.28]</td>\n",
       "    </tr>\n",
       "    <tr>\n",
       "      <th>4</th>\n",
       "      <td>5</td>\n",
       "      <td>150</td>\n",
       "      <td>0.45</td>\n",
       "      <td>0</td>\n",
       "      <td>120.0</td>\n",
       "      <td>0</td>\n",
       "      <td>3</td>\n",
       "      <td>(0.43, 0.7]</td>\n",
       "    </tr>\n",
       "    <tr>\n",
       "      <th>5</th>\n",
       "      <td>6</td>\n",
       "      <td>140</td>\n",
       "      <td>0.32</td>\n",
       "      <td>0</td>\n",
       "      <td>500.0</td>\n",
       "      <td>1</td>\n",
       "      <td>2</td>\n",
       "      <td>(0.28, 0.43]</td>\n",
       "    </tr>\n",
       "    <tr>\n",
       "      <th>6</th>\n",
       "      <td>7</td>\n",
       "      <td>230</td>\n",
       "      <td>0.13</td>\n",
       "      <td>0</td>\n",
       "      <td>32.0</td>\n",
       "      <td>0</td>\n",
       "      <td>1</td>\n",
       "      <td>(0.099, 0.28]</td>\n",
       "    </tr>\n",
       "    <tr>\n",
       "      <th>7</th>\n",
       "      <td>8</td>\n",
       "      <td>400</td>\n",
       "      <td>0.28</td>\n",
       "      <td>0</td>\n",
       "      <td>24.0</td>\n",
       "      <td>0</td>\n",
       "      <td>1</td>\n",
       "      <td>(0.099, 0.28]</td>\n",
       "    </tr>\n",
       "    <tr>\n",
       "      <th>8</th>\n",
       "      <td>9</td>\n",
       "      <td>260</td>\n",
       "      <td>0.65</td>\n",
       "      <td>0</td>\n",
       "      <td>45.0</td>\n",
       "      <td>0</td>\n",
       "      <td>3</td>\n",
       "      <td>(0.43, 0.7]</td>\n",
       "    </tr>\n",
       "    <tr>\n",
       "      <th>9</th>\n",
       "      <td>10</td>\n",
       "      <td>165</td>\n",
       "      <td>0.43</td>\n",
       "      <td>0</td>\n",
       "      <td>22.0</td>\n",
       "      <td>0</td>\n",
       "      <td>2</td>\n",
       "      <td>(0.28, 0.43]</td>\n",
       "    </tr>\n",
       "  </tbody>\n",
       "</table>\n",
       "</div>"
      ],
      "text/plain": [
       "   cliente  feature-1  prediction  target  transaction_amount  \\\n",
       "0        1        100        0.10       0               150.0   \n",
       "1        2        150        0.40       1               500.0   \n",
       "2        3        200        0.70       0                 2.0   \n",
       "3        4        140        0.15       0                30.0   \n",
       "4        5        150        0.45       0               120.0   \n",
       "5        6        140        0.32       0               500.0   \n",
       "6        7        230        0.13       0                32.0   \n",
       "7        8        400        0.28       0                24.0   \n",
       "8        9        260        0.65       0                45.0   \n",
       "9       10        165        0.43       0                22.0   \n",
       "\n",
       "   international_transaction bands   bands_ranges  \n",
       "0                          0     1  (0.099, 0.28]  \n",
       "1                          1     2   (0.28, 0.43]  \n",
       "2                          0     3    (0.43, 0.7]  \n",
       "3                          0     1  (0.099, 0.28]  \n",
       "4                          0     3    (0.43, 0.7]  \n",
       "5                          1     2   (0.28, 0.43]  \n",
       "6                          0     1  (0.099, 0.28]  \n",
       "7                          0     1  (0.099, 0.28]  \n",
       "8                          0     3    (0.43, 0.7]  \n",
       "9                          0     2   (0.28, 0.43]  "
      ]
     },
     "execution_count": 71,
     "metadata": {},
     "output_type": "execute_result"
    }
   ],
   "source": [
    "## This function is not \"learning\" how to band and we can't apply the same rule to new clients\n",
    "number_of_bands = 3\n",
    "df.assign(bands= lambda df: pd.qcut(df.prediction, number_of_bands, labels=[1,2,3]),\n",
    "         bands_ranges= lambda df: pd.qcut(df.prediction, number_of_bands),)"
   ]
  },
  {
   "cell_type": "code",
   "execution_count": 18,
   "metadata": {
    "ExecuteTime": {
     "end_time": "2020-11-09T12:47:19.526515Z",
     "start_time": "2020-11-09T12:47:19.517539Z"
    }
   },
   "outputs": [],
   "source": [
    "from fklearn.training.transformation import discrete_ecdfer\n",
    "discrete_ecdfer?"
   ]
  },
  {
   "cell_type": "code",
   "execution_count": 19,
   "metadata": {
    "ExecuteTime": {
     "end_time": "2020-11-09T12:48:00.020182Z",
     "start_time": "2020-11-09T12:47:59.996516Z"
    }
   },
   "outputs": [
    {
     "data": {
      "text/html": [
       "<div>\n",
       "<style scoped>\n",
       "    .dataframe tbody tr th:only-of-type {\n",
       "        vertical-align: middle;\n",
       "    }\n",
       "\n",
       "    .dataframe tbody tr th {\n",
       "        vertical-align: top;\n",
       "    }\n",
       "\n",
       "    .dataframe thead th {\n",
       "        text-align: right;\n",
       "    }\n",
       "</style>\n",
       "<table border=\"1\" class=\"dataframe\">\n",
       "  <thead>\n",
       "    <tr style=\"text-align: right;\">\n",
       "      <th></th>\n",
       "      <th>cliente</th>\n",
       "      <th>feature-1</th>\n",
       "      <th>prediction</th>\n",
       "      <th>prediction_ecdf</th>\n",
       "    </tr>\n",
       "  </thead>\n",
       "  <tbody>\n",
       "    <tr>\n",
       "      <th>0</th>\n",
       "      <td>1</td>\n",
       "      <td>100</td>\n",
       "      <td>0.10</td>\n",
       "      <td>0</td>\n",
       "    </tr>\n",
       "    <tr>\n",
       "      <th>1</th>\n",
       "      <td>2</td>\n",
       "      <td>150</td>\n",
       "      <td>0.40</td>\n",
       "      <td>1</td>\n",
       "    </tr>\n",
       "    <tr>\n",
       "      <th>2</th>\n",
       "      <td>3</td>\n",
       "      <td>200</td>\n",
       "      <td>0.70</td>\n",
       "      <td>3</td>\n",
       "    </tr>\n",
       "    <tr>\n",
       "      <th>3</th>\n",
       "      <td>4</td>\n",
       "      <td>140</td>\n",
       "      <td>0.15</td>\n",
       "      <td>0</td>\n",
       "    </tr>\n",
       "    <tr>\n",
       "      <th>4</th>\n",
       "      <td>5</td>\n",
       "      <td>150</td>\n",
       "      <td>0.45</td>\n",
       "      <td>2</td>\n",
       "    </tr>\n",
       "    <tr>\n",
       "      <th>5</th>\n",
       "      <td>6</td>\n",
       "      <td>140</td>\n",
       "      <td>0.32</td>\n",
       "      <td>1</td>\n",
       "    </tr>\n",
       "    <tr>\n",
       "      <th>6</th>\n",
       "      <td>7</td>\n",
       "      <td>230</td>\n",
       "      <td>0.13</td>\n",
       "      <td>0</td>\n",
       "    </tr>\n",
       "    <tr>\n",
       "      <th>7</th>\n",
       "      <td>8</td>\n",
       "      <td>400</td>\n",
       "      <td>0.28</td>\n",
       "      <td>1</td>\n",
       "    </tr>\n",
       "    <tr>\n",
       "      <th>8</th>\n",
       "      <td>9</td>\n",
       "      <td>260</td>\n",
       "      <td>0.65</td>\n",
       "      <td>2</td>\n",
       "    </tr>\n",
       "    <tr>\n",
       "      <th>9</th>\n",
       "      <td>10</td>\n",
       "      <td>165</td>\n",
       "      <td>0.43</td>\n",
       "      <td>2</td>\n",
       "    </tr>\n",
       "  </tbody>\n",
       "</table>\n",
       "</div>"
      ],
      "text/plain": [
       "   cliente  feature-1  prediction  prediction_ecdf\n",
       "0        1        100        0.10                0\n",
       "1        2        150        0.40                1\n",
       "2        3        200        0.70                3\n",
       "3        4        140        0.15                0\n",
       "4        5        150        0.45                2\n",
       "5        6        140        0.32                1\n",
       "6        7        230        0.13                0\n",
       "7        8        400        0.28                1\n",
       "8        9        260        0.65                2\n",
       "9       10        165        0.43                2"
      ]
     },
     "execution_count": 19,
     "metadata": {},
     "output_type": "execute_result"
    }
   ],
   "source": [
    "predict_fn, transformed_df, _ = discrete_ecdfer(df, max_range=3)\n",
    "transformed_df "
   ]
  },
  {
   "cell_type": "code",
   "execution_count": 20,
   "metadata": {
    "ExecuteTime": {
     "end_time": "2020-11-09T12:48:37.305309Z",
     "start_time": "2020-11-09T12:48:37.294112Z"
    }
   },
   "outputs": [
    {
     "data": {
      "text/html": [
       "<div>\n",
       "<style scoped>\n",
       "    .dataframe tbody tr th:only-of-type {\n",
       "        vertical-align: middle;\n",
       "    }\n",
       "\n",
       "    .dataframe tbody tr th {\n",
       "        vertical-align: top;\n",
       "    }\n",
       "\n",
       "    .dataframe thead th {\n",
       "        text-align: right;\n",
       "    }\n",
       "</style>\n",
       "<table border=\"1\" class=\"dataframe\">\n",
       "  <thead>\n",
       "    <tr style=\"text-align: right;\">\n",
       "      <th></th>\n",
       "      <th>cliente</th>\n",
       "      <th>feature-1</th>\n",
       "      <th>prediction</th>\n",
       "      <th>prediction_ecdf</th>\n",
       "    </tr>\n",
       "  </thead>\n",
       "  <tbody>\n",
       "    <tr>\n",
       "      <th>0</th>\n",
       "      <td>1</td>\n",
       "      <td>100</td>\n",
       "      <td>0.10</td>\n",
       "      <td>0</td>\n",
       "    </tr>\n",
       "    <tr>\n",
       "      <th>1</th>\n",
       "      <td>2</td>\n",
       "      <td>150</td>\n",
       "      <td>0.40</td>\n",
       "      <td>1</td>\n",
       "    </tr>\n",
       "    <tr>\n",
       "      <th>2</th>\n",
       "      <td>3</td>\n",
       "      <td>200</td>\n",
       "      <td>0.70</td>\n",
       "      <td>3</td>\n",
       "    </tr>\n",
       "    <tr>\n",
       "      <th>3</th>\n",
       "      <td>4</td>\n",
       "      <td>140</td>\n",
       "      <td>0.15</td>\n",
       "      <td>0</td>\n",
       "    </tr>\n",
       "    <tr>\n",
       "      <th>4</th>\n",
       "      <td>5</td>\n",
       "      <td>150</td>\n",
       "      <td>0.45</td>\n",
       "      <td>2</td>\n",
       "    </tr>\n",
       "    <tr>\n",
       "      <th>5</th>\n",
       "      <td>6</td>\n",
       "      <td>140</td>\n",
       "      <td>0.32</td>\n",
       "      <td>1</td>\n",
       "    </tr>\n",
       "    <tr>\n",
       "      <th>6</th>\n",
       "      <td>7</td>\n",
       "      <td>230</td>\n",
       "      <td>0.13</td>\n",
       "      <td>0</td>\n",
       "    </tr>\n",
       "    <tr>\n",
       "      <th>7</th>\n",
       "      <td>8</td>\n",
       "      <td>400</td>\n",
       "      <td>0.28</td>\n",
       "      <td>1</td>\n",
       "    </tr>\n",
       "    <tr>\n",
       "      <th>8</th>\n",
       "      <td>9</td>\n",
       "      <td>260</td>\n",
       "      <td>0.65</td>\n",
       "      <td>2</td>\n",
       "    </tr>\n",
       "    <tr>\n",
       "      <th>9</th>\n",
       "      <td>10</td>\n",
       "      <td>165</td>\n",
       "      <td>0.43</td>\n",
       "      <td>2</td>\n",
       "    </tr>\n",
       "  </tbody>\n",
       "</table>\n",
       "</div>"
      ],
      "text/plain": [
       "   cliente  feature-1  prediction  prediction_ecdf\n",
       "0        1        100        0.10                0\n",
       "1        2        150        0.40                1\n",
       "2        3        200        0.70                3\n",
       "3        4        140        0.15                0\n",
       "4        5        150        0.45                2\n",
       "5        6        140        0.32                1\n",
       "6        7        230        0.13                0\n",
       "7        8        400        0.28                1\n",
       "8        9        260        0.65                2\n",
       "9       10        165        0.43                2"
      ]
     },
     "execution_count": 20,
     "metadata": {},
     "output_type": "execute_result"
    }
   ],
   "source": [
    "## predict_fn \"learns\" how to apply the transformation and can be reapplied to any dataframe\n",
    "predict_fn(df)"
   ]
  },
  {
   "cell_type": "markdown",
   "metadata": {
    "ExecuteTime": {
     "end_time": "2020-11-09T22:11:34.884593Z",
     "start_time": "2020-11-09T22:11:34.881888Z"
    }
   },
   "source": [
    "### Regra baseada em grupos pre definidos"
   ]
  },
  {
   "cell_type": "code",
   "execution_count": 150,
   "metadata": {
    "ExecuteTime": {
     "end_time": "2020-11-09T22:35:59.510451Z",
     "start_time": "2020-11-09T22:35:59.491433Z"
    }
   },
   "outputs": [
    {
     "data": {
      "text/plain": [
       "operational_cost      0.00\n",
       "fraud_losses        500.00\n",
       "revenues            -28.95\n",
       "profit             -528.95\n",
       "dtype: float64"
      ]
     },
     "execution_count": 150,
     "metadata": {},
     "output_type": "execute_result"
    }
   ],
   "source": [
    "profit_from_decision(transformed_df.assign(is_fraud=lambda df: \n",
    "                      np.where(df.calibrated_prediction < 0.1, 0, \n",
    "                               np.where((df.calibrated_prediction >= 0.1) & (df.calibrated_prediction < 0.4) & (df.transaction_amount < 1000), 0, 1))\n",
    "))"
   ]
  }
 ],
 "metadata": {
  "kernelspec": {
   "display_name": "Python 3",
   "language": "python",
   "name": "python3"
  },
  "language_info": {
   "codemirror_mode": {
    "name": "ipython",
    "version": 3
   },
   "file_extension": ".py",
   "mimetype": "text/x-python",
   "name": "python",
   "nbconvert_exporter": "python",
   "pygments_lexer": "ipython3",
   "version": "3.6.8"
  },
  "toc": {
   "base_numbering": 1,
   "nav_menu": {},
   "number_sections": true,
   "sideBar": true,
   "skip_h1_title": false,
   "title_cell": "Table of Contents",
   "title_sidebar": "Contents",
   "toc_cell": false,
   "toc_position": {},
   "toc_section_display": true,
   "toc_window_display": false
  }
 },
 "nbformat": 4,
 "nbformat_minor": 2
}
