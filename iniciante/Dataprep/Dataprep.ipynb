{
 "cells": [
  {
   "cell_type": "code",
   "execution_count": null,
   "metadata": {
    "ExecuteTime": {
     "end_time": "2020-10-20T13:05:18.148648Z",
     "start_time": "2020-10-20T13:05:17.135488Z"
    }
   },
   "outputs": [],
   "source": [
    "from IPython.display import display, Markdown, HTML\n",
    "\n",
    "from sklearn.model_selection import train_test_split\n",
    "from sklearn.preprocessing import MinMaxScaler\n",
    "from sklearn.tree import DecisionTreeRegressor\n",
    "from sklearn.metrics import r2_score\n",
    "\n",
    "import matplotlib.pyplot as plt\n",
    "import seaborn as sns\n",
    "import pandas as pd\n",
    "import numpy as np\n",
    "import missingno"
   ]
  },
  {
   "cell_type": "code",
   "execution_count": null,
   "metadata": {
    "ExecuteTime": {
     "end_time": "2020-10-20T13:05:18.152956Z",
     "start_time": "2020-10-20T13:05:18.150039Z"
    }
   },
   "outputs": [],
   "source": [
    "sns.set()\n",
    "pd.options.mode.chained_assignment = None"
   ]
  },
  {
   "cell_type": "markdown",
   "metadata": {},
   "source": [
    "# Lendo os dados\n",
    "A base de dados utilizada está no [formato csv](https://www.linkedin.com/pulse/lendo-arquivos-csv-com-pandas-rog%C3%A9rio-guimar%C3%A3es-de-campos-j%C3%BAnior/)\n"
   ]
  },
  {
   "cell_type": "code",
   "execution_count": null,
   "metadata": {
    "ExecuteTime": {
     "end_time": "2020-10-20T13:05:18.218244Z",
     "start_time": "2020-10-20T13:05:18.155138Z"
    }
   },
   "outputs": [],
   "source": [
    "df = pd.read_csv(\"base_imoveis.csv\")"
   ]
  },
  {
   "cell_type": "markdown",
   "metadata": {},
   "source": [
    "Olhando conteúdo das 5 primeiras linhas"
   ]
  },
  {
   "cell_type": "code",
   "execution_count": null,
   "metadata": {
    "ExecuteTime": {
     "end_time": "2020-10-20T13:05:18.241652Z",
     "start_time": "2020-10-20T13:05:18.219906Z"
    }
   },
   "outputs": [],
   "source": [
    "df.head()"
   ]
  },
  {
   "cell_type": "markdown",
   "metadata": {},
   "source": [
    "Olhando nome das colunas"
   ]
  },
  {
   "cell_type": "code",
   "execution_count": null,
   "metadata": {
    "ExecuteTime": {
     "end_time": "2020-10-20T13:05:18.246852Z",
     "start_time": "2020-10-20T13:05:18.243205Z"
    }
   },
   "outputs": [],
   "source": [
    "df.columns"
   ]
  },
  {
   "cell_type": "markdown",
   "metadata": {},
   "source": [
    "Olhando informações gerais sobre a base"
   ]
  },
  {
   "cell_type": "code",
   "execution_count": null,
   "metadata": {
    "ExecuteTime": {
     "end_time": "2020-10-20T13:05:18.266239Z",
     "start_time": "2020-10-20T13:05:18.248159Z"
    }
   },
   "outputs": [],
   "source": [
    "df.info()"
   ]
  },
  {
   "cell_type": "markdown",
   "metadata": {},
   "source": [
    "Plotando matriz de nulos"
   ]
  },
  {
   "cell_type": "code",
   "execution_count": null,
   "metadata": {
    "ExecuteTime": {
     "end_time": "2020-10-20T13:05:18.802882Z",
     "start_time": "2020-10-20T13:05:18.267648Z"
    },
    "scrolled": true
   },
   "outputs": [],
   "source": [
    "missingno.matrix(df)"
   ]
  },
  {
   "cell_type": "markdown",
   "metadata": {
    "ExecuteTime": {
     "end_time": "2020-10-19T21:32:38.377437Z",
     "start_time": "2020-10-19T21:32:38.373638Z"
    }
   },
   "source": [
    "Acima, vimos que não temos nenhum nulo na base! **Mas será que temos na base outros valores que poderiam ser considerados como nulo?**"
   ]
  },
  {
   "cell_type": "markdown",
   "metadata": {},
   "source": [
    "Imprimindo tipo de cada coluna"
   ]
  },
  {
   "cell_type": "code",
   "execution_count": null,
   "metadata": {
    "ExecuteTime": {
     "end_time": "2020-10-20T13:05:18.811886Z",
     "start_time": "2020-10-20T13:05:18.806412Z"
    }
   },
   "outputs": [],
   "source": [
    "df.dtypes"
   ]
  },
  {
   "cell_type": "code",
   "execution_count": null,
   "metadata": {
    "ExecuteTime": {
     "end_time": "2020-10-20T13:05:18.817144Z",
     "start_time": "2020-10-20T13:05:18.814525Z"
    }
   },
   "outputs": [],
   "source": [
    "target = \"preco_dolares\""
   ]
  },
  {
   "cell_type": "markdown",
   "metadata": {},
   "source": [
    "# Explorando as variáveis\n",
    "<img src=\"imgs/tipos_variaveis.png\" alt=\"tipos variaveis\" width=\"100%\"/>"
   ]
  },
  {
   "cell_type": "markdown",
   "metadata": {
    "ExecuteTime": {
     "end_time": "2020-10-19T22:15:21.647952Z",
     "start_time": "2020-10-19T22:15:21.643813Z"
    }
   },
   "source": [
    "Para printar numero de linhas por cada valor possível da coluna `tem_porao`: `df[\"tem_porao\"].value_counts()`"
   ]
  },
  {
   "cell_type": "code",
   "execution_count": null,
   "metadata": {
    "ExecuteTime": {
     "end_time": "2020-10-20T13:05:18.827452Z",
     "start_time": "2020-10-20T13:05:18.818753Z"
    }
   },
   "outputs": [],
   "source": [
    "df[\"tem_porao\"].value_counts()"
   ]
  },
  {
   "cell_type": "markdown",
   "metadata": {},
   "source": [
    "## Categoricas"
   ]
  },
  {
   "cell_type": "markdown",
   "metadata": {},
   "source": [
    "### Cardinalidade"
   ]
  },
  {
   "cell_type": "code",
   "execution_count": null,
   "metadata": {
    "ExecuteTime": {
     "end_time": "2020-10-20T13:05:18.855571Z",
     "start_time": "2020-10-20T13:05:18.829428Z"
    },
    "scrolled": true
   },
   "outputs": [],
   "source": [
    "cardinalidades = [] # lista que vai guardar valor das cardinalidades\n",
    "vars_categoricas_raw = [] # lista que vai guardar nomes das variaveis categoricas\n",
    "for i, row in df.dtypes.reset_index().iterrows():\n",
    "    nome_var = row[\"index\"]\n",
    "    tipo_var = row[0]\n",
    "    if tipo_var==object:\n",
    "        cardinalidade = df[nome_var].nunique() # Funcao nunique retorna número de valores diferentes na coluna\n",
    "        cardinalidades.append(cardinalidade) # Adc valor na lista\n",
    "        vars_categoricas_raw.append(nome_var) # Adc nome na lista    \n",
    "df_cardinalidades = pd.DataFrame({\"Variavel\": vars_categoricas_raw,\n",
    "                                  \"Cardinalidade\": cardinalidades,}) # Criando uma tabela com valores calculados"
   ]
  },
  {
   "cell_type": "code",
   "execution_count": null,
   "metadata": {
    "ExecuteTime": {
     "end_time": "2020-10-20T13:05:18.866182Z",
     "start_time": "2020-10-20T13:05:18.857634Z"
    }
   },
   "outputs": [],
   "source": [
    "df_cardinalidades"
   ]
  },
  {
   "cell_type": "markdown",
   "metadata": {},
   "source": [
    "Plotando cardinalidades"
   ]
  },
  {
   "cell_type": "code",
   "execution_count": null,
   "metadata": {
    "ExecuteTime": {
     "end_time": "2020-10-20T13:05:19.199580Z",
     "start_time": "2020-10-20T13:05:18.868532Z"
    }
   },
   "outputs": [],
   "source": [
    "sns.barplot(x=\"Cardinalidade\", y=\"Variavel\", data=df_cardinalidades, orient=\"h\", palette=\"coolwarm\")\n",
    "plt.title(\"Cardinalidade das variaveis categoricas\");"
   ]
  },
  {
   "cell_type": "markdown",
   "metadata": {},
   "source": [
    "Colocando na escala logaritmica"
   ]
  },
  {
   "cell_type": "code",
   "execution_count": null,
   "metadata": {
    "ExecuteTime": {
     "end_time": "2020-10-20T13:05:19.988334Z",
     "start_time": "2020-10-20T13:05:19.200980Z"
    }
   },
   "outputs": [],
   "source": [
    "g = sns.barplot(x=\"Cardinalidade\", y=\"Variavel\", data=df_cardinalidades, orient=\"h\", palette=\"coolwarm\")\n",
    "g.set_xscale(\"log\")\n",
    "plt.title(\"Cardinalidade das variaveis categoricas\");"
   ]
  },
  {
   "cell_type": "markdown",
   "metadata": {
    "ExecuteTime": {
     "end_time": "2020-10-19T22:36:11.785180Z",
     "start_time": "2020-10-19T22:36:11.782840Z"
    }
   },
   "source": [
    "### Rank e distribuição"
   ]
  },
  {
   "cell_type": "code",
   "execution_count": null,
   "metadata": {
    "ExecuteTime": {
     "end_time": "2020-10-20T13:05:20.071097Z",
     "start_time": "2020-10-20T13:05:19.990838Z"
    }
   },
   "outputs": [],
   "source": [
    "for nome_var in vars_categoricas_raw:\n",
    "    # Contando numero de casos em cada categoria e ordenando pelas classes mais frequentes \n",
    "    df_rank = df.groupby(nome_var).agg({\"id\": \"count\"}) \\\n",
    "                .sort_values(\"id\", ascending=False)\n",
    "\n",
    "    # Calculando porcentagem em cada categoria para ver distribuição\n",
    "    df_rank[\"% ids\"] = df_rank[\"id\"]/df_rank[\"id\"].sum()*100\n",
    "    display(df_rank)"
   ]
  },
  {
   "cell_type": "markdown",
   "metadata": {},
   "source": [
    "### Filtrando variáveis"
   ]
  },
  {
   "cell_type": "code",
   "execution_count": null,
   "metadata": {
    "ExecuteTime": {
     "end_time": "2020-10-20T13:05:20.077529Z",
     "start_time": "2020-10-20T13:05:20.073258Z"
    }
   },
   "outputs": [],
   "source": [
    "vars_categoricas_raw"
   ]
  },
  {
   "cell_type": "code",
   "execution_count": null,
   "metadata": {
    "ExecuteTime": {
     "end_time": "2020-10-20T13:05:20.083523Z",
     "start_time": "2020-10-20T13:05:20.079376Z"
    }
   },
   "outputs": [],
   "source": [
    "vars_categoricas_raw.pop(0)"
   ]
  },
  {
   "cell_type": "code",
   "execution_count": null,
   "metadata": {
    "ExecuteTime": {
     "end_time": "2020-10-20T13:05:20.090125Z",
     "start_time": "2020-10-20T13:05:20.085436Z"
    }
   },
   "outputs": [],
   "source": [
    "vars_categoricas_raw"
   ]
  },
  {
   "cell_type": "code",
   "execution_count": null,
   "metadata": {
    "ExecuteTime": {
     "end_time": "2020-10-20T13:05:20.095952Z",
     "start_time": "2020-10-20T13:05:20.092593Z"
    }
   },
   "outputs": [],
   "source": [
    "categoricas_nominais = ['orla_mar', 'tem_porao', 'teve_reforma']\n",
    "categoricas_ordinais = [ 'nota_vista', 'nota_condicao',]"
   ]
  },
  {
   "cell_type": "markdown",
   "metadata": {},
   "source": [
    "## Numericas"
   ]
  },
  {
   "cell_type": "markdown",
   "metadata": {},
   "source": [
    "O método `.describe()` já calcula algumas métricas comuns nas variáveis numéricas"
   ]
  },
  {
   "cell_type": "code",
   "execution_count": null,
   "metadata": {
    "ExecuteTime": {
     "end_time": "2020-10-20T13:05:20.177441Z",
     "start_time": "2020-10-20T13:05:20.097875Z"
    }
   },
   "outputs": [],
   "source": [
    "df.describe()"
   ]
  },
  {
   "cell_type": "markdown",
   "metadata": {},
   "source": [
    "Plot de distribuição tradicional"
   ]
  },
  {
   "cell_type": "code",
   "execution_count": null,
   "metadata": {
    "ExecuteTime": {
     "end_time": "2020-10-20T13:05:23.577199Z",
     "start_time": "2020-10-20T13:05:20.179751Z"
    }
   },
   "outputs": [],
   "source": [
    "vars_numericas_raw = []\n",
    "for i, row in df.dtypes.reset_index().iterrows():\n",
    "    nome_var = row[\"index\"]\n",
    "    tipo_var = row[0]\n",
    "    if tipo_var in (np.float64, np.int64):\n",
    "        print(nome_var)\n",
    "        vars_numericas_raw.append(nome_var)\n",
    "        fig, ax = plt.subplots()\n",
    "        fig.set_size_inches(10, 6)\n",
    "        sns.distplot(df[nome_var], hist=True, kde=False, norm_hist=False, ax=ax)\n",
    "        plt.show()"
   ]
  },
  {
   "cell_type": "code",
   "execution_count": null,
   "metadata": {
    "ExecuteTime": {
     "end_time": "2020-10-20T13:05:25.854431Z",
     "start_time": "2020-10-20T13:05:23.578439Z"
    },
    "scrolled": true
   },
   "outputs": [],
   "source": [
    "for nome_var in vars_numericas_raw:\n",
    "    print(nome_var)\n",
    "    fig, ax = plt.subplots()\n",
    "    fig.set_size_inches(10, 6)\n",
    "    sns.boxplot(df[nome_var], ax=ax)\n",
    "    plt.show()"
   ]
  },
  {
   "cell_type": "markdown",
   "metadata": {},
   "source": [
    "### Filtrando variáveis"
   ]
  },
  {
   "cell_type": "code",
   "execution_count": null,
   "metadata": {
    "ExecuteTime": {
     "end_time": "2020-10-20T13:05:25.861919Z",
     "start_time": "2020-10-20T13:05:25.858606Z"
    }
   },
   "outputs": [],
   "source": [
    "vars_numericas_raw"
   ]
  },
  {
   "cell_type": "code",
   "execution_count": null,
   "metadata": {
    "ExecuteTime": {
     "end_time": "2020-10-20T13:05:25.867353Z",
     "start_time": "2020-10-20T13:05:25.864124Z"
    }
   },
   "outputs": [],
   "source": [
    "vars_numericas_raw.pop(0)"
   ]
  },
  {
   "cell_type": "code",
   "execution_count": null,
   "metadata": {
    "ExecuteTime": {
     "end_time": "2020-10-20T13:05:25.872984Z",
     "start_time": "2020-10-20T13:05:25.868770Z"
    }
   },
   "outputs": [],
   "source": [
    "vars_numericas_raw.pop(0)"
   ]
  },
  {
   "cell_type": "code",
   "execution_count": null,
   "metadata": {
    "ExecuteTime": {
     "end_time": "2020-10-20T13:05:25.878385Z",
     "start_time": "2020-10-20T13:05:25.874373Z"
    }
   },
   "outputs": [],
   "source": [
    "vars_numericas_raw"
   ]
  },
  {
   "cell_type": "markdown",
   "metadata": {},
   "source": [
    "# Separando a base\n",
    "<img src=\"imgs/splits.png\" alt=\"separacao da base\" width=\"80%\"/>\n",
    "\n",
    "Não existe um número mágico, alguns indicam 60%-20%-20%, e vamos usar essa proporção "
   ]
  },
  {
   "cell_type": "code",
   "execution_count": null,
   "metadata": {
    "ExecuteTime": {
     "end_time": "2020-10-20T13:05:25.883403Z",
     "start_time": "2020-10-20T13:05:25.879852Z"
    }
   },
   "outputs": [],
   "source": [
    "vars_categoricas_raw"
   ]
  },
  {
   "cell_type": "code",
   "execution_count": null,
   "metadata": {
    "ExecuteTime": {
     "end_time": "2020-10-20T13:05:25.889328Z",
     "start_time": "2020-10-20T13:05:25.884791Z"
    }
   },
   "outputs": [],
   "source": [
    "vars_numericas_raw"
   ]
  },
  {
   "cell_type": "markdown",
   "metadata": {},
   "source": [
    "Transformando campo de data pois estava como string"
   ]
  },
  {
   "cell_type": "code",
   "execution_count": null,
   "metadata": {
    "ExecuteTime": {
     "end_time": "2020-10-20T13:05:25.899734Z",
     "start_time": "2020-10-20T13:05:25.891160Z"
    },
    "scrolled": true
   },
   "outputs": [],
   "source": [
    "df[\"data\"] = pd.to_datetime(df[\"data\"], format=\"%Y-%m-%d\")"
   ]
  },
  {
   "cell_type": "markdown",
   "metadata": {},
   "source": [
    "Contando numero de imoveis por dia"
   ]
  },
  {
   "cell_type": "code",
   "execution_count": null,
   "metadata": {
    "ExecuteTime": {
     "end_time": "2020-10-20T13:05:25.915023Z",
     "start_time": "2020-10-20T13:05:25.901414Z"
    }
   },
   "outputs": [],
   "source": [
    "df_datas = df.groupby(\"data\").agg({\"id\": \"count\"})\n",
    "df_datas[\"media_data\"] = df_datas.rolling(7).mean()\n",
    "df_datas = df_datas.reset_index()"
   ]
  },
  {
   "cell_type": "markdown",
   "metadata": {},
   "source": [
    "Plotando número de imoveis por dia ao longo do tempo"
   ]
  },
  {
   "cell_type": "code",
   "execution_count": null,
   "metadata": {
    "ExecuteTime": {
     "end_time": "2020-10-20T13:05:26.200628Z",
     "start_time": "2020-10-20T13:05:25.916476Z"
    }
   },
   "outputs": [],
   "source": [
    "fig, ax = plt.subplots()\n",
    "fig.set_size_inches(10, 6)\n",
    "ax.plot(df_datas[\"data\"], df_datas[\"media_data\"])\n",
    "plt.title(\"Numero de imoveis por data\");"
   ]
  },
  {
   "cell_type": "code",
   "execution_count": null,
   "metadata": {
    "ExecuteTime": {
     "end_time": "2020-10-20T13:05:26.212749Z",
     "start_time": "2020-10-20T13:05:26.202133Z"
    }
   },
   "outputs": [],
   "source": [
    "df = df.sort_values(\"data\").reset_index(drop=\"index\")"
   ]
  },
  {
   "cell_type": "markdown",
   "metadata": {},
   "source": [
    "## Divisão no tempo\n",
    "Usando [`train_test_split`](https://scikit-learn.org/stable/modules/generated/sklearn.model_selection.train_test_split.html) da biblioteca sklearn.\n",
    "Primeiro, fazemos a divisão no tempo, deixando 20% para nossa base de validação"
   ]
  },
  {
   "cell_type": "code",
   "execution_count": null,
   "metadata": {
    "ExecuteTime": {
     "end_time": "2020-10-20T13:05:26.220979Z",
     "start_time": "2020-10-20T13:05:26.214163Z"
    }
   },
   "outputs": [],
   "source": [
    "treino_teste, validacao = train_test_split(df, test_size=.2, random_state=0, shuffle=False)"
   ]
  },
  {
   "cell_type": "markdown",
   "metadata": {},
   "source": [
    "Verificando se a divisão no tempo funcionou"
   ]
  },
  {
   "cell_type": "code",
   "execution_count": null,
   "metadata": {
    "ExecuteTime": {
     "end_time": "2020-10-20T13:05:26.232966Z",
     "start_time": "2020-10-20T13:05:26.223754Z"
    }
   },
   "outputs": [],
   "source": [
    "treino_teste.data.describe()"
   ]
  },
  {
   "cell_type": "code",
   "execution_count": null,
   "metadata": {
    "ExecuteTime": {
     "end_time": "2020-10-20T13:05:26.243861Z",
     "start_time": "2020-10-20T13:05:26.234651Z"
    }
   },
   "outputs": [],
   "source": [
    "validacao.data.describe()"
   ]
  },
  {
   "cell_type": "markdown",
   "metadata": {},
   "source": [
    "## Divisão no espaço\n",
    "Agora, dos 80% iniciais, vamos deixar 25% para teste e 75% para treino, misturando os dados para fazer apenas a divisão no espaço"
   ]
  },
  {
   "cell_type": "code",
   "execution_count": null,
   "metadata": {
    "ExecuteTime": {
     "end_time": "2020-10-20T13:05:26.253232Z",
     "start_time": "2020-10-20T13:05:26.245524Z"
    }
   },
   "outputs": [],
   "source": [
    "treino, teste = train_test_split(treino_teste, test_size=.25, random_state=0, shuffle=True)"
   ]
  },
  {
   "cell_type": "code",
   "execution_count": null,
   "metadata": {
    "ExecuteTime": {
     "end_time": "2020-10-20T13:05:26.264526Z",
     "start_time": "2020-10-20T13:05:26.255967Z"
    }
   },
   "outputs": [],
   "source": [
    "treino.data.describe()"
   ]
  },
  {
   "cell_type": "code",
   "execution_count": null,
   "metadata": {
    "ExecuteTime": {
     "end_time": "2020-10-20T13:05:26.275548Z",
     "start_time": "2020-10-20T13:05:26.266184Z"
    }
   },
   "outputs": [],
   "source": [
    "teste.data.describe()"
   ]
  },
  {
   "cell_type": "markdown",
   "metadata": {},
   "source": [
    "## Check de tamanho das bases"
   ]
  },
  {
   "cell_type": "code",
   "execution_count": null,
   "metadata": {
    "ExecuteTime": {
     "end_time": "2020-10-20T13:05:26.281284Z",
     "start_time": "2020-10-20T13:05:26.277073Z"
    }
   },
   "outputs": [],
   "source": [
    "treino.shape, teste.shape, validacao.shape"
   ]
  },
  {
   "cell_type": "markdown",
   "metadata": {},
   "source": [
    "# Tratando variáveis categóricas"
   ]
  },
  {
   "cell_type": "code",
   "execution_count": null,
   "metadata": {
    "ExecuteTime": {
     "end_time": "2020-10-20T13:05:26.300501Z",
     "start_time": "2020-10-20T13:05:26.283454Z"
    }
   },
   "outputs": [],
   "source": [
    "treino_teste, validacao = train_test_split(df, test_size=.2, random_state=0, shuffle=False)\n",
    "treino, teste = train_test_split(treino_teste, test_size=.25, random_state=0, shuffle=True)"
   ]
  },
  {
   "cell_type": "markdown",
   "metadata": {
    "ExecuteTime": {
     "end_time": "2020-10-20T02:28:19.008056Z",
     "start_time": "2020-10-20T02:28:19.004628Z"
    }
   },
   "source": [
    "## Ordinais"
   ]
  },
  {
   "cell_type": "code",
   "execution_count": null,
   "metadata": {
    "ExecuteTime": {
     "end_time": "2020-10-20T13:05:26.307290Z",
     "start_time": "2020-10-20T13:05:26.302200Z"
    }
   },
   "outputs": [],
   "source": [
    "categoricas_ordinais"
   ]
  },
  {
   "cell_type": "markdown",
   "metadata": {},
   "source": [
    "Olhando categorias existentes"
   ]
  },
  {
   "cell_type": "code",
   "execution_count": null,
   "metadata": {
    "ExecuteTime": {
     "end_time": "2020-10-20T13:05:26.314356Z",
     "start_time": "2020-10-20T13:05:26.309260Z"
    },
    "scrolled": true
   },
   "outputs": [],
   "source": [
    "treino[\"nota_vista\"].unique()"
   ]
  },
  {
   "cell_type": "markdown",
   "metadata": {},
   "source": [
    "Coloque os valores que representam a ordem das categorias"
   ]
  },
  {
   "cell_type": "code",
   "execution_count": null,
   "metadata": {
    "ExecuteTime": {
     "end_time": "2020-10-20T13:05:26.318742Z",
     "start_time": "2020-10-20T13:05:26.315987Z"
    }
   },
   "outputs": [],
   "source": [
    "nota_vista_map = {'Vista completamente bloqueada': 1, \n",
    "                  'Vista parcialmente bloqueada': 2, \n",
    "                  'Vista quase sem bloqueios': 3,\n",
    "                  'Vista boa': 4,\n",
    "                  'Excelente - vista sem bloqueios': 5}"
   ]
  },
  {
   "cell_type": "code",
   "execution_count": null,
   "metadata": {
    "ExecuteTime": {
     "end_time": "2020-10-20T13:05:26.331679Z",
     "start_time": "2020-10-20T13:05:26.321564Z"
    }
   },
   "outputs": [],
   "source": [
    "treino[\"nota_vista_encoded\"] = treino[\"nota_vista\"].map(nota_vista_map)\n",
    "teste[\"nota_vista_encoded\"] = teste[\"nota_vista\"].map(nota_vista_map)\n",
    "validacao[\"nota_vista_encoded\"] = validacao[\"nota_vista\"].map(nota_vista_map)"
   ]
  },
  {
   "cell_type": "markdown",
   "metadata": {
    "ExecuteTime": {
     "end_time": "2020-10-20T02:33:22.916954Z",
     "start_time": "2020-10-20T02:33:22.913502Z"
    }
   },
   "source": [
    "Faça o mesmo para variável `nota_condicao`"
   ]
  },
  {
   "cell_type": "code",
   "execution_count": null,
   "metadata": {
    "ExecuteTime": {
     "end_time": "2020-10-20T13:05:26.340575Z",
     "start_time": "2020-10-20T13:05:26.334162Z"
    }
   },
   "outputs": [],
   "source": [
    "treino[\"nota_condicao\"].unique()"
   ]
  },
  {
   "cell_type": "code",
   "execution_count": null,
   "metadata": {
    "ExecuteTime": {
     "end_time": "2020-10-20T13:05:26.345338Z",
     "start_time": "2020-10-20T13:05:26.342540Z"
    }
   },
   "outputs": [],
   "source": [
    "nota_condicao_map = {'Excelente estado': 5,\n",
    "                     'Bom estado' : 4, \n",
    "                     'Pronto para morar' : 3,\n",
    "                     'Mau estado - pequena reforma necessária' : 2,\n",
    "                     'Mau estado - reforma completa necessária' : 1}"
   ]
  },
  {
   "cell_type": "code",
   "execution_count": null,
   "metadata": {
    "ExecuteTime": {
     "end_time": "2020-10-20T13:05:26.357534Z",
     "start_time": "2020-10-20T13:05:26.347456Z"
    }
   },
   "outputs": [],
   "source": [
    "treino[\"nota_condicao_encoded\"] = treino[\"nota_condicao\"].map(nota_condicao_map)\n",
    "teste[\"nota_condicao_encoded\"] = teste[\"nota_condicao\"].map(nota_condicao_map)\n",
    "validacao[\"nota_condicao_encoded\"] = validacao[\"nota_condicao\"].map(nota_condicao_map)"
   ]
  },
  {
   "cell_type": "markdown",
   "metadata": {},
   "source": [
    "## Nominais"
   ]
  },
  {
   "cell_type": "code",
   "execution_count": null,
   "metadata": {
    "ExecuteTime": {
     "end_time": "2020-10-20T13:05:26.362827Z",
     "start_time": "2020-10-20T13:05:26.359248Z"
    }
   },
   "outputs": [],
   "source": [
    "categoricas_nominais"
   ]
  },
  {
   "cell_type": "code",
   "execution_count": null,
   "metadata": {
    "ExecuteTime": {
     "end_time": "2020-10-20T13:05:26.394048Z",
     "start_time": "2020-10-20T13:05:26.364393Z"
    },
    "scrolled": true
   },
   "outputs": [],
   "source": [
    "for var_n in categoricas_nominais:\n",
    "    # Pegando média do target no treino para cada categoria\n",
    "    var_map = treino.groupby(var_n).agg({target: \"mean\"}).to_dict()[target]\n",
    "    \n",
    "    treino[f\"{var_n}_encoded\"] = treino[f\"{var_n}\"].map(var_map) # Aplicando no treino\n",
    "    teste[f\"{var_n}_encoded\"] = teste[f\"{var_n}\"].map(var_map) # Aplicando no teste\n",
    "    validacao[f\"{var_n}_encoded\"] = validacao[f\"{var_n}\"].map(var_map) # Aplicando na validacao"
   ]
  },
  {
   "cell_type": "code",
   "execution_count": null,
   "metadata": {
    "ExecuteTime": {
     "end_time": "2020-10-20T13:05:26.398159Z",
     "start_time": "2020-10-20T13:05:26.395507Z"
    }
   },
   "outputs": [],
   "source": [
    "vars_categoricas = [x+\"_encoded\" for x in categoricas_nominais+categoricas_ordinais]"
   ]
  },
  {
   "cell_type": "markdown",
   "metadata": {},
   "source": [
    "# Tratando variáveis numéricas"
   ]
  },
  {
   "cell_type": "markdown",
   "metadata": {},
   "source": [
    "## Normalizando"
   ]
  },
  {
   "cell_type": "code",
   "execution_count": null,
   "metadata": {
    "ExecuteTime": {
     "end_time": "2020-10-20T13:05:26.584147Z",
     "start_time": "2020-10-20T13:05:26.399680Z"
    },
    "scrolled": true
   },
   "outputs": [],
   "source": [
    "for var_n in vars_numericas_raw+vars_categoricas:\n",
    "    scaler = MinMaxScaler()\n",
    "    scaler.fit(treino[[var_n]]) # Usando treino como base para transformações\n",
    "    treino[f\"{var_n}_scaled\"] = scaler.transform(treino[[var_n]]).reshape(-1) # Aplicando no treino\n",
    "    teste[f\"{var_n}_scaled\"] = scaler.transform(teste[[var_n]]).reshape(-1) # Aplicando no teste\n",
    "    validacao[f\"{var_n}_scaled\"] = scaler.transform(validacao[[var_n]]).reshape(-1) # Aplicando na validacao"
   ]
  },
  {
   "cell_type": "markdown",
   "metadata": {},
   "source": [
    "# Organizando variáveis"
   ]
  },
  {
   "cell_type": "markdown",
   "metadata": {},
   "source": [
    "Criamos várias colunas novas com as variáveis transformadas, precisamos filtrar só as novas, abaixo, temos todas as colunas que existem agora"
   ]
  },
  {
   "cell_type": "code",
   "execution_count": null,
   "metadata": {
    "ExecuteTime": {
     "end_time": "2020-10-20T13:05:26.591521Z",
     "start_time": "2020-10-20T13:05:26.586013Z"
    }
   },
   "outputs": [],
   "source": [
    "treino.columns"
   ]
  },
  {
   "cell_type": "markdown",
   "metadata": {},
   "source": [
    "Agora vamos pegar só as que transformamos"
   ]
  },
  {
   "cell_type": "code",
   "execution_count": null,
   "metadata": {
    "ExecuteTime": {
     "end_time": "2020-10-20T13:05:26.597813Z",
     "start_time": "2020-10-20T13:05:26.593468Z"
    }
   },
   "outputs": [],
   "source": [
    "todas_variaveis = [x+\"_scaled\" for x in vars_numericas_raw+vars_categoricas]\n",
    "todas_variaveis"
   ]
  },
  {
   "cell_type": "markdown",
   "metadata": {},
   "source": [
    "Salvando quais eram as variaveis originais (raw)"
   ]
  },
  {
   "cell_type": "code",
   "execution_count": null,
   "metadata": {
    "ExecuteTime": {
     "end_time": "2020-10-20T13:05:26.602314Z",
     "start_time": "2020-10-20T13:05:26.599825Z"
    }
   },
   "outputs": [],
   "source": [
    "todas_variaveis_raw = vars_numericas_raw+vars_categoricas_raw"
   ]
  },
  {
   "cell_type": "markdown",
   "metadata": {},
   "source": [
    "Olhando variáveis transformadas pra checar se estão ok"
   ]
  },
  {
   "cell_type": "code",
   "execution_count": null,
   "metadata": {
    "ExecuteTime": {
     "end_time": "2020-10-20T13:05:26.626257Z",
     "start_time": "2020-10-20T13:05:26.605335Z"
    }
   },
   "outputs": [],
   "source": [
    "validacao[todas_variaveis].head()"
   ]
  },
  {
   "cell_type": "code",
   "execution_count": null,
   "metadata": {
    "ExecuteTime": {
     "end_time": "2020-10-20T13:05:26.644029Z",
     "start_time": "2020-10-20T13:05:26.627696Z"
    }
   },
   "outputs": [],
   "source": [
    "validacao[todas_variaveis_raw].head()"
   ]
  },
  {
   "cell_type": "markdown",
   "metadata": {},
   "source": [
    "# Modelinho teste"
   ]
  },
  {
   "cell_type": "code",
   "execution_count": null,
   "metadata": {
    "ExecuteTime": {
     "end_time": "2020-10-20T13:05:26.649535Z",
     "start_time": "2020-10-20T13:05:26.645894Z"
    }
   },
   "outputs": [],
   "source": [
    "todas_variaveis"
   ]
  },
  {
   "cell_type": "code",
   "execution_count": null,
   "metadata": {
    "ExecuteTime": {
     "end_time": "2020-10-20T13:07:51.401660Z",
     "start_time": "2020-10-20T13:07:51.312732Z"
    }
   },
   "outputs": [],
   "source": [
    "reg = DecisionTreeRegressor(random_state=0)\n",
    "reg.fit(treino[vars_numericas_raw+vars_categoricas], treino[target])"
   ]
  },
  {
   "cell_type": "code",
   "execution_count": null,
   "metadata": {
    "ExecuteTime": {
     "end_time": "2020-10-20T13:07:58.524449Z",
     "start_time": "2020-10-20T13:07:58.513858Z"
    }
   },
   "outputs": [],
   "source": [
    "predictions_teste = reg.predict(teste[vars_numericas_raw+vars_categoricas])\n",
    "predictions_validacao = reg.predict(validacao[vars_numericas_raw+vars_categoricas])"
   ]
  },
  {
   "cell_type": "code",
   "execution_count": null,
   "metadata": {
    "ExecuteTime": {
     "end_time": "2020-10-20T13:08:03.231754Z",
     "start_time": "2020-10-20T13:08:03.226868Z"
    }
   },
   "outputs": [],
   "source": [
    "r2_score(teste[target], predictions_teste), r2_score(validacao[target], predictions_validacao)"
   ]
  },
  {
   "cell_type": "code",
   "execution_count": null,
   "metadata": {
    "ExecuteTime": {
     "end_time": "2020-10-20T13:07:11.146681Z",
     "start_time": "2020-10-20T13:07:11.142240Z"
    }
   },
   "outputs": [],
   "source": [
    "r2_score(teste[target], predictions_teste), r2_score(validacao[target], predictions_validacao)"
   ]
  },
  {
   "cell_type": "code",
   "execution_count": null,
   "metadata": {},
   "outputs": [],
   "source": []
  }
 ],
 "metadata": {
  "kernelspec": {
   "display_name": "venv_lusa",
   "language": "python",
   "name": "venv_lusa"
  },
  "language_info": {
   "codemirror_mode": {
    "name": "ipython",
    "version": 3
   },
   "file_extension": ".py",
   "mimetype": "text/x-python",
   "name": "python",
   "nbconvert_exporter": "python",
   "pygments_lexer": "ipython3",
   "version": "3.6.10"
  },
  "toc": {
   "base_numbering": 1,
   "nav_menu": {},
   "number_sections": true,
   "sideBar": true,
   "skip_h1_title": false,
   "title_cell": "Table of Contents",
   "title_sidebar": "Contents",
   "toc_cell": false,
   "toc_position": {},
   "toc_section_display": true,
   "toc_window_display": true
  },
  "varInspector": {
   "cols": {
    "lenName": 16,
    "lenType": 16,
    "lenVar": 40
   },
   "kernels_config": {
    "python": {
     "delete_cmd_postfix": "",
     "delete_cmd_prefix": "del ",
     "library": "var_list.py",
     "varRefreshCmd": "print(var_dic_list())"
    },
    "r": {
     "delete_cmd_postfix": ") ",
     "delete_cmd_prefix": "rm(",
     "library": "var_list.r",
     "varRefreshCmd": "cat(var_dic_list()) "
    }
   },
   "types_to_exclude": [
    "module",
    "function",
    "builtin_function_or_method",
    "instance",
    "_Feature"
   ],
   "window_display": false
  }
 },
 "nbformat": 4,
 "nbformat_minor": 4
}
