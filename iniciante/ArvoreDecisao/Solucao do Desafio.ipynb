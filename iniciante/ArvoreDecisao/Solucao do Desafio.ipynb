{
 "cells": [
  {
   "cell_type": "code",
   "execution_count": 1,
   "metadata": {},
   "outputs": [],
   "source": [
    "import numpy as np\n",
    "import pandas as pd\n",
    "from math import log"
   ]
  },
  {
   "cell_type": "code",
   "execution_count": 2,
   "metadata": {},
   "outputs": [],
   "source": [
    "from sklearn.model_selection import train_test_split\n",
    "from sklearn.datasets import load_iris\n",
    "from sklearn.metrics import accuracy_score"
   ]
  },
  {
   "cell_type": "code",
   "execution_count": 3,
   "metadata": {},
   "outputs": [],
   "source": [
    "class NoArvore:\n",
    "    def __init__(self, indices_treino, profundidade=None):\n",
    "        self.filho_direito = None\n",
    "        self.filho_esquerdo = None\n",
    "        self.indices_treino = indices_treino\n",
    "        self.indices_predicao = None\n",
    "        self.predicao = 0\n",
    "        self.entropia = 0\n",
    "        self.profundidade = profundidade\n",
    "        self.ganho_informacao = 0\n",
    "        self.feature = None\n",
    "        self.corte = None\n",
    "        self.folha = False\n",
    "        self.quantidade_dados = (self.indices_treino==True).shape[0]"
   ]
  },
  {
   "cell_type": "code",
   "execution_count": 4,
   "metadata": {},
   "outputs": [],
   "source": [
    "class ArvoreClassificacaoSimples():\n",
    "    def __init__(self):\n",
    "        self.dados = None\n",
    "        self.colunas_preditoras = None\n",
    "        self.coluna_resposta = None\n",
    "        self.num_features = None\n",
    "        self.numero_classes = None\n",
    "        self.raiz = None\n",
    "        self.fila_nos = list()\n",
    "        \n",
    "    def __entropia(self, node):\n",
    "        h = 0\n",
    "\n",
    "        for k in range(self.numero_classes):\n",
    "            pk = node.predicao[k]\n",
    "\n",
    "            # nao queremos log(0)\n",
    "            if pk != 0:\n",
    "                h += pk * log(pk,2)\n",
    "\n",
    "        return -h\n",
    "    \n",
    "    def __entropia_divisao(self, no_esquerdo, no_direito):\n",
    "        respostas_esquerda = self.dados.iloc[no_esquerdo.indices_treino][self.coluna_resposta]\n",
    "        respostas_direita = self.dados.iloc[no_direito.indices_treino][self.coluna_resposta]\n",
    "        \n",
    "        n_esquerda = respostas_esquerda.shape[0]\n",
    "        n_direita = respostas_direita.shape[0]\n",
    "        total_repostas = n_esquerda + n_direita\n",
    "\n",
    "        h = ((float(n_esquerda) / total_repostas) * no_esquerdo.entropia + \\\n",
    "              (float(n_direita) / total_repostas) * no_direito.entropia)\n",
    "        \n",
    "        return h\n",
    "\n",
    "    \n",
    "    def __predicao_no(self, indices_treino):\n",
    "        respostas_no = self.dados.iloc[indices_treino][self.coluna_resposta]\n",
    "        n = respostas_no.shape[0]\n",
    "       \n",
    "        # proporcao para casa uma das classes\n",
    "        pred = []\n",
    "        for k in range(self.numero_classes):\n",
    "            nk = (respostas_no == k).sum()\n",
    "            pk = float(nk) / n\n",
    "            pred.append(pk)\n",
    "\n",
    "        return pred\n",
    "    \n",
    "    def __cria_no(self, indices_treino, profundidade=0):\n",
    "        node = NoArvore(indices_treino, profundidade)\n",
    "\n",
    "        node.predicao = self.__predicao_no(indices_treino)\n",
    "        node.entropia = self.__entropia(node)\n",
    "\n",
    "        return node\n",
    "    \n",
    "    def __divide_no(self, node):\n",
    "        dados_no = self.dados.iloc[node.indices_treino]\n",
    "        respostas_no = dados_no[self.coluna_resposta]\n",
    "        num_amostras = node.indices_treino.size\n",
    "        \n",
    "        # se for no puro ou tiver menos que 2 amostras\n",
    "        if respostas_no.nunique() == 1 or num_amostras < 2:\n",
    "            node.folha = True\n",
    "            return\n",
    "\n",
    "        melhor_candidato = None\n",
    "        maior_ganho = np.inf\n",
    "        \n",
    "        # para todas as features\n",
    "        for f in self.colunas_preditoras:\n",
    "            col = dados_no[f]\n",
    "\n",
    "            valores_unicos = np.sort(np.unique(col))\n",
    "            num_valores = len(valores_unicos)\n",
    "\n",
    "            # para todos possiveis valores da feature\n",
    "            for i in range(0, num_valores - 1):\n",
    "                t = (valores_unicos[i] + valores_unicos[i+1]) / 2.\n",
    "                indice_esquerdo = node.indices_treino[(col < t)]\n",
    "                indice_direito = node.indices_treino[(col >= t)]\n",
    "                \n",
    "                # nao considera splits que deixam um dos filhos sem amostra\n",
    "                if indice_esquerdo.size == 0 or indice_direito.size == 0:\n",
    "                    continue\n",
    "                    \n",
    "                no_esquerdo = self.__cria_no(\n",
    "                                    indice_esquerdo,\n",
    "                                    node.profundidade + 1)\n",
    "                no_direito = self.__cria_no(\n",
    "                                    indice_direito,\n",
    "                                    node.profundidade + 1)\n",
    "\n",
    "                entropia_div = self.__entropia_divisao(no_esquerdo, no_direito)\n",
    "                if entropia_div < maior_ganho:\n",
    "                    maior_ganho = entropia_div\n",
    "                    melhor_candidato = [f, t, entropia_div, no_esquerdo, no_direito]\n",
    "\n",
    "\n",
    "        if melhor_candidato:\n",
    "            ganho_info = node.entropia - melhor_candidato[2]\n",
    "\n",
    "            node.feature = melhor_candidato[0]\n",
    "            node.corte = melhor_candidato[1]\n",
    "            node.filho_esquerdo = melhor_candidato[3]\n",
    "            node.filho_direito = melhor_candidato[4]\n",
    "            node.ganho_informacao = ganho_info\n",
    "\n",
    "            print(node.feature)\n",
    "            print(node.corte)\n",
    "            print(node.ganho_informacao)\n",
    "            \n",
    "            # adiciona os novos nos para serem explorados\n",
    "            self.fila_nos.append(node.filho_esquerdo)\n",
    "            self.fila_nos.append(node.filho_direito)\n",
    "\n",
    "\n",
    "    def treino(self, dados, colunas_preditoras, coluna_resposta):\n",
    "        # dados: DataFrame pandas\n",
    "        # colunas_preditora: lista com strings dos nomes das colunas das variáveis de predição (features)\n",
    "        # coluna_resposta: string do nome da coluna da variável de resposta\n",
    "        #\n",
    "        # atualize o valor de self.dados, self.coluna_preditora e \n",
    "        # self.coluna_resposta\n",
    "        #\n",
    "        #\n",
    "        # OBS: nenhuma das outras funções deve ser rodada antes do treino.\n",
    "        self.dados = dados\n",
    "        self.colunas_preditoras = colunas_preditoras\n",
    "        self.coluna_resposta = coluna_resposta\n",
    "        \n",
    "        self.tamanho_treino = dados.shape[0]\n",
    "        self.numero_classes = dados[coluna_resposta].nunique()\n",
    "\n",
    "        indice_inicial = np.arange((self.tamanho_treino))\n",
    "\n",
    "        raiz = self.__cria_no(indice_inicial)\n",
    "        self.fila_nos.append(raiz)\n",
    "        self.raiz = raiz\n",
    "\n",
    "        while self.fila_nos:\n",
    "            node = self.fila_nos.pop(0)\n",
    "            self.__divide_no(node)\n",
    "\n",
    "        return \n",
    "\n",
    "    def predicao(self, x):\n",
    "        # x: DataFrame pandas com as mesmas colunas preditoras\n",
    "        #\n",
    "        # implemente e retorne a predicao usando a arvore aprendida no treino\n",
    "        \n",
    "        tamanho_dados = x.shape[0]\n",
    "        predicoes = np.zeros((tamanho_dados), dtype=float)\n",
    "\n",
    "        indices_dados = np.arange((tamanho_dados))\n",
    "        \n",
    "        self.raiz.indices_predicao = indices_dados\n",
    "        nos = [self.raiz]\n",
    "\n",
    "        while nos:\n",
    "            node = nos.pop(0)\n",
    "\n",
    "            # no folha\n",
    "            if node.folha:\n",
    "                k = np.argmax(node.predicao)\n",
    "                predicoes[node.indices_predicao] = k\n",
    "\n",
    "                continue\n",
    "            \n",
    "            col = x.iloc[node.indices_predicao][node.feature]\n",
    "            indices_esquerda = node.indices_predicao[(col < node.corte)]\n",
    "            indices_direita = node.indices_predicao[(col >= node.corte)]\n",
    "            \n",
    "            node.filho_esquerdo.indices_predicao = indices_esquerda\n",
    "            node.filho_direito.indices_predicao = indices_direita\n",
    "\n",
    "            nos.append(node.filho_esquerdo)\n",
    "            nos.append(node.filho_direito)\n",
    "\n",
    "        return predicoes\n"
   ]
  },
  {
   "cell_type": "code",
   "execution_count": 5,
   "metadata": {},
   "outputs": [],
   "source": [
    "from sklearn.datasets import load_iris\n",
    "\n",
    "iris = load_iris()"
   ]
  },
  {
   "cell_type": "code",
   "execution_count": 6,
   "metadata": {},
   "outputs": [],
   "source": [
    "iris_df = pd.DataFrame(data= np.c_[iris['data'], iris['target']],\n",
    "                           columns= iris['feature_names'] + ['target'])"
   ]
  },
  {
   "cell_type": "code",
   "execution_count": 7,
   "metadata": {},
   "outputs": [],
   "source": [
    "treino, teste = train_test_split(iris_df, random_state=12, test_size=0.2)"
   ]
  },
  {
   "cell_type": "code",
   "execution_count": 8,
   "metadata": {},
   "outputs": [],
   "source": [
    "minha_dt = ArvoreClassificacaoSimples()"
   ]
  },
  {
   "cell_type": "code",
   "execution_count": 9,
   "metadata": {},
   "outputs": [
    {
     "name": "stdout",
     "output_type": "stream",
     "text": [
      "petal length (cm)\n",
      "2.45\n",
      "0.9007196798623591\n",
      "petal length (cm)\n",
      "4.85\n",
      "0.7188062035679573\n",
      "petal width (cm)\n",
      "1.65\n",
      "0.21400141833049466\n",
      "petal width (cm)\n",
      "1.7000000000000002\n",
      "0.14680904022894664\n",
      "sepal width (cm)\n",
      "3.1\n",
      "0.9182958340544896\n",
      "sepal width (cm)\n",
      "3.05\n",
      "0.31668908831502096\n",
      "sepal length (cm)\n",
      "6.05\n",
      "0.3219280948873623\n",
      "sepal width (cm)\n",
      "2.45\n",
      "1.0\n"
     ]
    }
   ],
   "source": [
    "minha_dt.treino(treino, ['sepal length (cm)', 'sepal width (cm)', 'petal length (cm)', 'petal width (cm)'], 'target')"
   ]
  },
  {
   "cell_type": "code",
   "execution_count": 10,
   "metadata": {},
   "outputs": [],
   "source": [
    "pred = minha_dt.predicao(teste[['sepal length (cm)', 'sepal width (cm)', 'petal length (cm)', 'petal width (cm)']])"
   ]
  },
  {
   "cell_type": "code",
   "execution_count": 11,
   "metadata": {},
   "outputs": [],
   "source": [
    "y_teste = teste[\"target\"].values"
   ]
  },
  {
   "cell_type": "code",
   "execution_count": 12,
   "metadata": {},
   "outputs": [
    {
     "data": {
      "text/plain": [
       "0.9333333333333333"
      ]
     },
     "execution_count": 12,
     "metadata": {},
     "output_type": "execute_result"
    }
   ],
   "source": [
    "accuracy_score(y_teste, pred)"
   ]
  }
 ],
 "metadata": {
  "kernelspec": {
   "display_name": "Python 3",
   "language": "python",
   "name": "python3"
  },
  "language_info": {
   "codemirror_mode": {
    "name": "ipython",
    "version": 3
   },
   "file_extension": ".py",
   "mimetype": "text/x-python",
   "name": "python",
   "nbconvert_exporter": "python",
   "pygments_lexer": "ipython3",
   "version": "3.7.1"
  }
 },
 "nbformat": 4,
 "nbformat_minor": 2
}
