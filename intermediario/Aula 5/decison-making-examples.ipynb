{
 "cells": [
  {
   "cell_type": "markdown",
   "metadata": {},
   "source": [
    "## Imports"
   ]
  },
  {
   "cell_type": "code",
   "execution_count": 1,
   "metadata": {
    "ExecuteTime": {
     "end_time": "2020-11-10T17:35:01.351270Z",
     "start_time": "2020-11-10T17:34:59.911071Z"
    }
   },
   "outputs": [],
   "source": [
    "import pandas as pd\n",
    "import numpy as np\n",
    "from matplotlib import pyplot as plt\n",
    "import seaborn as sns"
   ]
  },
  {
   "cell_type": "markdown",
   "metadata": {},
   "source": [
    "## Criando o cenario\n",
    "\n",
    "Gerando um dataframe para simular dados de transações e se a transação foi fraudelenta ou não"
   ]
  },
  {
   "cell_type": "code",
   "execution_count": 54,
   "metadata": {
    "ExecuteTime": {
     "end_time": "2020-11-10T17:38:43.413906Z",
     "start_time": "2020-11-10T17:38:43.277894Z"
    }
   },
   "outputs": [],
   "source": [
    "num_of_samples = 1000000\n",
    "\n",
    "transaction_amount = np.minimum(np.random.lognormal(4.0, 1.4, num_of_samples), num_of_samples)\n",
    "international_purchase = np.random.binomial(5, 1.0 * transaction_amount / np.linalg.norm(transaction_amount),\n",
    "                                            num_of_samples)"
   ]
  },
  {
   "cell_type": "code",
   "execution_count": 56,
   "metadata": {
    "ExecuteTime": {
     "end_time": "2020-11-10T17:38:45.477872Z",
     "start_time": "2020-11-10T17:38:45.376854Z"
    }
   },
   "outputs": [],
   "source": [
    "target = (np.random.standard_cauchy(num_of_samples) \n",
    "          * transaction_amount\n",
    "          * np.where(international_purchase, 0.4, 0.1))\n",
    "\n",
    "target = np.where(target > np.quantile(target, 0.97), 1, 0)"
   ]
  },
  {
   "cell_type": "code",
   "execution_count": 125,
   "metadata": {
    "ExecuteTime": {
     "end_time": "2020-11-10T21:06:40.123875Z",
     "start_time": "2020-11-10T21:06:39.729526Z"
    }
   },
   "outputs": [
    {
     "data": {
      "text/plain": [
       "Text(0, 0.5, 'Count')"
      ]
     },
     "execution_count": 125,
     "metadata": {},
     "output_type": "execute_result"
    },
    {
     "data": {
      "image/png": "[encoded data removed]",
      "text/plain": [
       "<Figure size 432x432 with 1 Axes>"
      ]
     },
     "metadata": {
      "needs_background": "light"
     },
     "output_type": "display_data"
    }
   ],
   "source": [
    "fig, ax = plt.subplots(1, 1, figsize=(6,6))\n",
    "sns.distplot(target, ax=ax)\n",
    "plt.title(\"Target distribution\")\n",
    "plt.xlabel(\"Target Value\")\n",
    "plt.ylabel(\"Count\")"
   ]
  },
  {
   "cell_type": "code",
   "execution_count": 58,
   "metadata": {
    "ExecuteTime": {
     "end_time": "2020-11-10T17:38:49.549918Z",
     "start_time": "2020-11-10T17:38:49.430612Z"
    }
   },
   "outputs": [],
   "source": [
    "## Simulando previsões do modelo usando distribuições normais\n",
    "scores = np.where(target, \n",
    "                  np.maximum(np.minimum(np.random.normal(0.6, 0.5, num_of_samples), 1.0), 0.0),\n",
    "                  np.maximum(np.minimum(np.random.normal(0.2, 0.3, num_of_samples), 1.0), 0.0))  "
   ]
  },
  {
   "cell_type": "code",
   "execution_count": 111,
   "metadata": {
    "ExecuteTime": {
     "end_time": "2020-11-10T18:44:53.901404Z",
     "start_time": "2020-11-10T18:44:53.868084Z"
    }
   },
   "outputs": [
    {
     "data": {
      "text/html": [
       "<div>\n",
       "<style scoped>\n",
       "    .dataframe tbody tr th:only-of-type {\n",
       "        vertical-align: middle;\n",
       "    }\n",
       "\n",
       "    .dataframe tbody tr th {\n",
       "        vertical-align: top;\n",
       "    }\n",
       "\n",
       "    .dataframe thead th {\n",
       "        text-align: right;\n",
       "    }\n",
       "</style>\n",
       "<table border=\"1\" class=\"dataframe\">\n",
       "  <thead>\n",
       "    <tr style=\"text-align: right;\">\n",
       "      <th></th>\n",
       "      <th>amount</th>\n",
       "      <th>international_purchase</th>\n",
       "      <th>is_fraud</th>\n",
       "      <th>score</th>\n",
       "    </tr>\n",
       "  </thead>\n",
       "  <tbody>\n",
       "    <tr>\n",
       "      <th>0</th>\n",
       "      <td>291.899285</td>\n",
       "      <td>0</td>\n",
       "      <td>0</td>\n",
       "      <td>0.264879</td>\n",
       "    </tr>\n",
       "    <tr>\n",
       "      <th>1</th>\n",
       "      <td>29.372090</td>\n",
       "      <td>0</td>\n",
       "      <td>0</td>\n",
       "      <td>0.183100</td>\n",
       "    </tr>\n",
       "    <tr>\n",
       "      <th>2</th>\n",
       "      <td>153.462670</td>\n",
       "      <td>0</td>\n",
       "      <td>0</td>\n",
       "      <td>0.117238</td>\n",
       "    </tr>\n",
       "    <tr>\n",
       "      <th>3</th>\n",
       "      <td>471.391548</td>\n",
       "      <td>0</td>\n",
       "      <td>0</td>\n",
       "      <td>0.163781</td>\n",
       "    </tr>\n",
       "    <tr>\n",
       "      <th>4</th>\n",
       "      <td>17.260943</td>\n",
       "      <td>0</td>\n",
       "      <td>0</td>\n",
       "      <td>0.312624</td>\n",
       "    </tr>\n",
       "    <tr>\n",
       "      <th>5</th>\n",
       "      <td>38.895820</td>\n",
       "      <td>0</td>\n",
       "      <td>0</td>\n",
       "      <td>0.291718</td>\n",
       "    </tr>\n",
       "    <tr>\n",
       "      <th>6</th>\n",
       "      <td>62.400743</td>\n",
       "      <td>0</td>\n",
       "      <td>0</td>\n",
       "      <td>0.187849</td>\n",
       "    </tr>\n",
       "    <tr>\n",
       "      <th>7</th>\n",
       "      <td>2.941405</td>\n",
       "      <td>0</td>\n",
       "      <td>0</td>\n",
       "      <td>0.000000</td>\n",
       "    </tr>\n",
       "    <tr>\n",
       "      <th>8</th>\n",
       "      <td>58.097295</td>\n",
       "      <td>0</td>\n",
       "      <td>0</td>\n",
       "      <td>0.474347</td>\n",
       "    </tr>\n",
       "    <tr>\n",
       "      <th>9</th>\n",
       "      <td>375.249275</td>\n",
       "      <td>0</td>\n",
       "      <td>1</td>\n",
       "      <td>0.000000</td>\n",
       "    </tr>\n",
       "    <tr>\n",
       "      <th>10</th>\n",
       "      <td>70.346490</td>\n",
       "      <td>0</td>\n",
       "      <td>0</td>\n",
       "      <td>0.320818</td>\n",
       "    </tr>\n",
       "    <tr>\n",
       "      <th>11</th>\n",
       "      <td>8.639156</td>\n",
       "      <td>0</td>\n",
       "      <td>0</td>\n",
       "      <td>0.000000</td>\n",
       "    </tr>\n",
       "    <tr>\n",
       "      <th>12</th>\n",
       "      <td>4.649594</td>\n",
       "      <td>0</td>\n",
       "      <td>0</td>\n",
       "      <td>0.016006</td>\n",
       "    </tr>\n",
       "    <tr>\n",
       "      <th>13</th>\n",
       "      <td>665.632547</td>\n",
       "      <td>0</td>\n",
       "      <td>0</td>\n",
       "      <td>0.263351</td>\n",
       "    </tr>\n",
       "    <tr>\n",
       "      <th>14</th>\n",
       "      <td>41.905006</td>\n",
       "      <td>0</td>\n",
       "      <td>0</td>\n",
       "      <td>0.000000</td>\n",
       "    </tr>\n",
       "    <tr>\n",
       "      <th>15</th>\n",
       "      <td>12.094364</td>\n",
       "      <td>0</td>\n",
       "      <td>0</td>\n",
       "      <td>0.200914</td>\n",
       "    </tr>\n",
       "    <tr>\n",
       "      <th>16</th>\n",
       "      <td>2.122142</td>\n",
       "      <td>0</td>\n",
       "      <td>0</td>\n",
       "      <td>0.582530</td>\n",
       "    </tr>\n",
       "    <tr>\n",
       "      <th>17</th>\n",
       "      <td>28.602154</td>\n",
       "      <td>0</td>\n",
       "      <td>0</td>\n",
       "      <td>0.126423</td>\n",
       "    </tr>\n",
       "    <tr>\n",
       "      <th>18</th>\n",
       "      <td>23.094085</td>\n",
       "      <td>0</td>\n",
       "      <td>0</td>\n",
       "      <td>0.000000</td>\n",
       "    </tr>\n",
       "    <tr>\n",
       "      <th>19</th>\n",
       "      <td>1503.204483</td>\n",
       "      <td>0</td>\n",
       "      <td>1</td>\n",
       "      <td>0.628303</td>\n",
       "    </tr>\n",
       "  </tbody>\n",
       "</table>\n",
       "</div>"
      ],
      "text/plain": [
       "         amount  international_purchase  is_fraud     score\n",
       "0    291.899285                       0         0  0.264879\n",
       "1     29.372090                       0         0  0.183100\n",
       "2    153.462670                       0         0  0.117238\n",
       "3    471.391548                       0         0  0.163781\n",
       "4     17.260943                       0         0  0.312624\n",
       "5     38.895820                       0         0  0.291718\n",
       "6     62.400743                       0         0  0.187849\n",
       "7      2.941405                       0         0  0.000000\n",
       "8     58.097295                       0         0  0.474347\n",
       "9    375.249275                       0         1  0.000000\n",
       "10    70.346490                       0         0  0.320818\n",
       "11     8.639156                       0         0  0.000000\n",
       "12     4.649594                       0         0  0.016006\n",
       "13   665.632547                       0         0  0.263351\n",
       "14    41.905006                       0         0  0.000000\n",
       "15    12.094364                       0         0  0.200914\n",
       "16     2.122142                       0         0  0.582530\n",
       "17    28.602154                       0         0  0.126423\n",
       "18    23.094085                       0         0  0.000000\n",
       "19  1503.204483                       0         1  0.628303"
      ]
     },
     "execution_count": 111,
     "metadata": {},
     "output_type": "execute_result"
    }
   ],
   "source": [
    "df = pd.DataFrame(\n",
    "    {\"amount\": transaction_amount,\n",
    "     \"international_purchase\": international_purchase,\n",
    "     \"is_fraud\": target,\n",
    "      \"score\": scores}\n",
    ")\n",
    "\n",
    "df.head(20)"
   ]
  },
  {
   "cell_type": "code",
   "execution_count": 114,
   "metadata": {
    "ExecuteTime": {
     "end_time": "2020-11-10T19:59:49.620086Z",
     "start_time": "2020-11-10T19:59:49.617334Z"
    }
   },
   "outputs": [],
   "source": [
    "target_col = \"is_fraud\"\n",
    "prediction_col = \"score\"\n",
    "amount_col = \"amount\"\n",
    "blocked_col = \"blocked\""
   ]
  },
  {
   "cell_type": "code",
   "execution_count": 60,
   "metadata": {
    "ExecuteTime": {
     "end_time": "2020-11-10T17:38:53.372295Z",
     "start_time": "2020-11-10T17:38:53.366833Z"
    }
   },
   "outputs": [
    {
     "data": {
      "text/plain": [
       "145.48616921102774"
      ]
     },
     "execution_count": 60,
     "metadata": {},
     "output_type": "execute_result"
    }
   ],
   "source": [
    "np.mean(transaction_amount)"
   ]
  },
  {
   "cell_type": "code",
   "execution_count": 61,
   "metadata": {
    "ExecuteTime": {
     "end_time": "2020-11-10T17:38:54.222241Z",
     "start_time": "2020-11-10T17:38:54.218336Z"
    }
   },
   "outputs": [
    {
     "data": {
      "text/plain": [
       "(1000000, 4)"
      ]
     },
     "execution_count": 61,
     "metadata": {},
     "output_type": "execute_result"
    }
   ],
   "source": [
    "df.shape"
   ]
  },
  {
   "cell_type": "code",
   "execution_count": 63,
   "metadata": {
    "ExecuteTime": {
     "end_time": "2020-11-10T17:38:56.535498Z",
     "start_time": "2020-11-10T17:38:56.518393Z"
    }
   },
   "outputs": [
    {
     "data": {
      "text/plain": [
       "0    970000\n",
       "1     30000\n",
       "Name: is_fraud, dtype: int64"
      ]
     },
     "execution_count": 63,
     "metadata": {},
     "output_type": "execute_result"
    }
   ],
   "source": [
    "df[target_col].value_counts()"
   ]
  },
  {
   "cell_type": "code",
   "execution_count": 64,
   "metadata": {
    "ExecuteTime": {
     "end_time": "2020-11-10T17:38:57.484116Z",
     "start_time": "2020-11-10T17:38:57.462893Z"
    }
   },
   "outputs": [
    {
     "data": {
      "text/plain": [
       "145.48616921102774"
      ]
     },
     "execution_count": 64,
     "metadata": {},
     "output_type": "execute_result"
    }
   ],
   "source": [
    "df[amount_col].mean()"
   ]
  },
  {
   "cell_type": "code",
   "execution_count": 65,
   "metadata": {
    "ExecuteTime": {
     "end_time": "2020-11-10T17:39:02.194495Z",
     "start_time": "2020-11-10T17:39:02.182398Z"
    }
   },
   "outputs": [
    {
     "data": {
      "text/plain": [
       "0.03"
      ]
     },
     "execution_count": 65,
     "metadata": {},
     "output_type": "execute_result"
    }
   ],
   "source": [
    "df[target_col].mean()"
   ]
  },
  {
   "cell_type": "code",
   "execution_count": 66,
   "metadata": {
    "ExecuteTime": {
     "end_time": "2020-11-10T17:39:03.534629Z",
     "start_time": "2020-11-10T17:39:03.431565Z"
    }
   },
   "outputs": [
    {
     "data": {
      "text/plain": [
       "amount                    0\n",
       "international_purchase    0\n",
       "is_fraud                  0\n",
       "score                     0\n",
       "dtype: int64"
      ]
     },
     "execution_count": 66,
     "metadata": {},
     "output_type": "execute_result"
    }
   ],
   "source": [
    "df.isnull().sum()"
   ]
  },
  {
   "cell_type": "code",
   "execution_count": 126,
   "metadata": {
    "ExecuteTime": {
     "end_time": "2020-11-10T21:07:12.964725Z",
     "start_time": "2020-11-10T21:07:12.169166Z"
    }
   },
   "outputs": [
    {
     "data": {
      "text/plain": [
       "Text(0, 0.5, 'Count')"
      ]
     },
     "execution_count": 126,
     "metadata": {},
     "output_type": "execute_result"
    },
    {
     "data": {
      "image/png": "[encoded data removed]",
      "text/plain": [
       "<Figure size 720x720 with 1 Axes>"
      ]
     },
     "metadata": {
      "needs_background": "light"
     },
     "output_type": "display_data"
    }
   ],
   "source": [
    "fig, ax = plt.subplots(1, 1, figsize=(10, 10))\n",
    "sns.distplot(df.loc[lambda df: df[target_col] == 0][prediction_col], ax=ax, color=\"b\")\n",
    "sns.distplot(df.loc[lambda df: df[target_col] == 1][prediction_col], ax=ax, color=\"r\")\n",
    "\n",
    "plt.title(\"Score distribution splitted by fraud or not\")\n",
    "plt.xlabel(\"Score distribution\")\n",
    "plt.ylabel(\"Count\")"
   ]
  },
  {
   "cell_type": "markdown",
   "metadata": {},
   "source": [
    "## Valores de negocio"
   ]
  },
  {
   "cell_type": "code",
   "execution_count": 62,
   "metadata": {
    "ExecuteTime": {
     "end_time": "2020-11-10T17:38:55.690813Z",
     "start_time": "2020-11-10T17:38:55.687198Z"
    }
   },
   "outputs": [],
   "source": [
    "review_fraud_cost = 8.0\n",
    "new_card_cost = 4.0\n",
    "interchange_revenue = 0.015"
   ]
  },
  {
   "cell_type": "markdown",
   "metadata": {},
   "source": [
    "## Metricas basicas recap\n",
    "Como temos um problema de classificação, vamos focar nas metricas basicas de classificação AUC, Logloss, Matriz de Confusão"
   ]
  },
  {
   "cell_type": "code",
   "execution_count": 69,
   "metadata": {
    "ExecuteTime": {
     "end_time": "2020-11-10T17:39:08.233551Z",
     "start_time": "2020-11-10T17:39:08.229368Z"
    }
   },
   "outputs": [],
   "source": [
    "from sklearn.metrics import auc, log_loss, roc_curve, confusion_matrix, precision_recall_curve"
   ]
  },
  {
   "cell_type": "code",
   "execution_count": 128,
   "metadata": {
    "ExecuteTime": {
     "end_time": "2020-11-10T21:07:34.672613Z",
     "start_time": "2020-11-10T21:07:34.479968Z"
    }
   },
   "outputs": [
    {
     "name": "stdout",
     "output_type": "stream",
     "text": [
      "ROC AUC:  0.7564077153951889\n"
     ]
    }
   ],
   "source": [
    "fpr, tpr, thresholds = roc_curve(df[target_col], df[prediction_col])\n",
    "print(\"ROC AUC: \", auc(fpr, tpr))"
   ]
  },
  {
   "cell_type": "code",
   "execution_count": 129,
   "metadata": {
    "ExecuteTime": {
     "end_time": "2020-11-10T21:07:44.972525Z",
     "start_time": "2020-11-10T21:07:44.775450Z"
    }
   },
   "outputs": [
    {
     "name": "stdout",
     "output_type": "stream",
     "text": [
      "PR AUC:  0.2997721597762371\n"
     ]
    }
   ],
   "source": [
    "precision, recall, thresholds = precision_recall_curve(df[target_col], df[prediction_col])\n",
    "print(\"PR AUC: \", auc(recall, precision))"
   ]
  },
  {
   "cell_type": "code",
   "execution_count": 130,
   "metadata": {
    "ExecuteTime": {
     "end_time": "2020-11-10T21:07:56.005392Z",
     "start_time": "2020-11-10T21:07:55.790989Z"
    }
   },
   "outputs": [
    {
     "name": "stdout",
     "output_type": "stream",
     "text": [
      "Log Loss:  0.5972021410718599\n"
     ]
    }
   ],
   "source": [
    "print(\"Log Loss: \", log_loss(df[target_col], df[prediction_col]))"
   ]
  },
  {
   "cell_type": "code",
   "execution_count": 73,
   "metadata": {
    "ExecuteTime": {
     "end_time": "2020-11-10T17:39:13.804489Z",
     "start_time": "2020-11-10T17:39:10.670739Z"
    }
   },
   "outputs": [
    {
     "data": {
      "text/plain": [
       "array([[359341, 610659],\n",
       "       [  4715,  25285]])"
      ]
     },
     "execution_count": 73,
     "metadata": {},
     "output_type": "execute_result"
    }
   ],
   "source": [
    "threshold = 0.1 # definindo um threshold arbitrario pra gerar a matrix de confusao\n",
    "# o estudo de thresholds vira na sequencia\n",
    "cf_matrix = confusion_matrix(df[target_col], df[prediction_col] > threshold)\n",
    "cf_matrix\n"
   ]
  },
  {
   "cell_type": "code",
   "execution_count": 131,
   "metadata": {
    "ExecuteTime": {
     "end_time": "2020-11-10T21:08:46.114771Z",
     "start_time": "2020-11-10T21:08:45.821754Z"
    }
   },
   "outputs": [
    {
     "data": {
      "text/plain": [
       "Text(33.0, 0.5, 'True Label')"
      ]
     },
     "execution_count": 131,
     "metadata": {},
     "output_type": "execute_result"
    },
    {
     "data": {
      "image/png": "[encoded data removed]",
      "text/plain": [
       "<Figure size 432x432 with 2 Axes>"
      ]
     },
     "metadata": {
      "needs_background": "light"
     },
     "output_type": "display_data"
    }
   ],
   "source": [
    "fig, ax = plt.subplots(1, 1, figsize=(6, 6))\n",
    "sns.heatmap(cf_matrix, annot=True, ax=ax)\n",
    "plt.title(\"Confusion Matrix\")\n",
    "plt.xlabel(\"Decision\")\n",
    "plt.ylabel(\"True Label\")"
   ]
  },
  {
   "cell_type": "markdown",
   "metadata": {},
   "source": [
    "## Validação na vida real\n",
    "\n",
    "Como mencionado nos slides, se dois grupos diferentes tem comportamentos diferentes ou impactam o negócio de maneira distinta, é fundamental avaliar a performance de ambos separadamente"
   ]
  },
  {
   "cell_type": "code",
   "execution_count": 132,
   "metadata": {
    "ExecuteTime": {
     "end_time": "2020-11-10T21:14:43.789387Z",
     "start_time": "2020-11-10T21:14:43.574077Z"
    }
   },
   "outputs": [
    {
     "name": "stdout",
     "output_type": "stream",
     "text": [
      "Nacional Transactions AUC:  0.7561900990430066\n"
     ]
    }
   ],
   "source": [
    "national_df = df.loc[df.international_purchase == 0]\n",
    "fpr_national, tpr_national, thresholds_national = roc_curve(national_df[target_col], national_df[prediction_col])\n",
    "print(\"Nacional Transactions AUC: \", auc(fpr_national, tpr_national))"
   ]
  },
  {
   "cell_type": "code",
   "execution_count": 133,
   "metadata": {
    "ExecuteTime": {
     "end_time": "2020-11-10T21:15:01.946277Z",
     "start_time": "2020-11-10T21:15:01.936358Z"
    }
   },
   "outputs": [
    {
     "name": "stdout",
     "output_type": "stream",
     "text": [
      "International Transactions AUC:  0.7718410314590902\n"
     ]
    }
   ],
   "source": [
    "international_df = df.loc[df.international_purchase == 1]\n",
    "fpr_international, tpr_international, thresholds_international = roc_curve(international_df[target_col], international_df[prediction_col])\n",
    "print(\"International Transactions AUC: \", auc(fpr_international, tpr_international))"
   ]
  },
  {
   "cell_type": "markdown",
   "metadata": {},
   "source": [
    "## Definindo um threshold\n",
    "Aqui desejamos achar um corte que maximize a nossa lucrativade\n",
    "\n",
    "Primeiro, vamos definir uma função pra calcular o custo de um conjunto de decisões\n",
    "\n",
    "Depois, podemos gerar todos os thresholds possiveis e qual seria o label de cada transação nesse caso"
   ]
  },
  {
   "cell_type": "code",
   "execution_count": 78,
   "metadata": {
    "ExecuteTime": {
     "end_time": "2020-11-10T17:44:37.387815Z",
     "start_time": "2020-11-10T17:44:37.379367Z"
    }
   },
   "outputs": [],
   "source": [
    "def profit_from_decision(decision_df):\n",
    "    # decision_df must have a column `is_fraud` indicating the decision\n",
    "    # target represents the true information if that transaction was a fraud or not\n",
    "    # transaction_amount is used to calculate revenues and costs\n",
    "    return decision_df.assign(\n",
    "     operational_cost = lambda df: (df[target_col] | df[blocked_col]) * review_fraud_cost,\n",
    "     card_cost = lambda df: np.where((~df[blocked_col]) & (df[target_col]), new_card_cost, 0),\n",
    "     fraud_losses = lambda df: ((~df[blocked_col]) & (df[target_col])) * df[amount_col],\n",
    "     revenues = lambda df: ((~df[blocked_col]) & (~df[target_col])) * df[amount_col] * interchange_revenue,\n",
    "     profit = lambda df: df.revenues - (df.fraud_losses + df.operational_cost + df.card_cost)\n",
    "    )[[\"operational_cost\", \"card_cost\", \"fraud_losses\", \"revenues\", \"profit\"]].sum()"
   ]
  },
  {
   "cell_type": "code",
   "execution_count": 135,
   "metadata": {
    "ExecuteTime": {
     "end_time": "2020-11-10T21:18:32.201648Z",
     "start_time": "2020-11-10T21:18:28.499643Z"
    }
   },
   "outputs": [
    {
     "data": {
      "text/html": [
       "<div>\n",
       "<style scoped>\n",
       "    .dataframe tbody tr th:only-of-type {\n",
       "        vertical-align: middle;\n",
       "    }\n",
       "\n",
       "    .dataframe tbody tr th {\n",
       "        vertical-align: top;\n",
       "    }\n",
       "\n",
       "    .dataframe thead th {\n",
       "        text-align: right;\n",
       "    }\n",
       "</style>\n",
       "<table border=\"1\" class=\"dataframe\">\n",
       "  <thead>\n",
       "    <tr style=\"text-align: right;\">\n",
       "      <th></th>\n",
       "      <th>threshold</th>\n",
       "      <th>operational_cost</th>\n",
       "      <th>card_cost</th>\n",
       "      <th>fraud_losses</th>\n",
       "      <th>revenues</th>\n",
       "      <th>profit</th>\n",
       "    </tr>\n",
       "  </thead>\n",
       "  <tbody>\n",
       "    <tr>\n",
       "      <th>0</th>\n",
       "      <td>0.001</td>\n",
       "      <td>6027608.0</td>\n",
       "      <td>13672.0</td>\n",
       "      <td>2.212524e+06</td>\n",
       "      <td>477088.261711</td>\n",
       "      <td>-7.776716e+06</td>\n",
       "    </tr>\n",
       "    <tr>\n",
       "      <th>1</th>\n",
       "      <td>0.051</td>\n",
       "      <td>5589464.0</td>\n",
       "      <td>16092.0</td>\n",
       "      <td>2.602805e+06</td>\n",
       "      <td>582923.577678</td>\n",
       "      <td>-7.625437e+06</td>\n",
       "    </tr>\n",
       "    <tr>\n",
       "      <th>2</th>\n",
       "      <td>0.101</td>\n",
       "      <td>5115408.0</td>\n",
       "      <td>18916.0</td>\n",
       "      <td>3.084597e+06</td>\n",
       "      <td>697970.766288</td>\n",
       "      <td>-7.520950e+06</td>\n",
       "    </tr>\n",
       "    <tr>\n",
       "      <th>3</th>\n",
       "      <td>0.151</td>\n",
       "      <td>4616776.0</td>\n",
       "      <td>21952.0</td>\n",
       "      <td>3.574147e+06</td>\n",
       "      <td>819997.795974</td>\n",
       "      <td>-7.392877e+06</td>\n",
       "    </tr>\n",
       "    <tr>\n",
       "      <th>4</th>\n",
       "      <td>0.201</td>\n",
       "      <td>4103032.0</td>\n",
       "      <td>25480.0</td>\n",
       "      <td>4.140294e+06</td>\n",
       "      <td>945804.057566</td>\n",
       "      <td>-7.323002e+06</td>\n",
       "    </tr>\n",
       "  </tbody>\n",
       "</table>\n",
       "</div>"
      ],
      "text/plain": [
       "   threshold  operational_cost  card_cost  fraud_losses       revenues  \\\n",
       "0      0.001         6027608.0    13672.0  2.212524e+06  477088.261711   \n",
       "1      0.051         5589464.0    16092.0  2.602805e+06  582923.577678   \n",
       "2      0.101         5115408.0    18916.0  3.084597e+06  697970.766288   \n",
       "3      0.151         4616776.0    21952.0  3.574147e+06  819997.795974   \n",
       "4      0.201         4103032.0    25480.0  4.140294e+06  945804.057566   \n",
       "\n",
       "         profit  \n",
       "0 -7.776716e+06  \n",
       "1 -7.625437e+06  \n",
       "2 -7.520950e+06  \n",
       "3 -7.392877e+06  \n",
       "4 -7.323002e+06  "
      ]
     },
     "execution_count": 135,
     "metadata": {},
     "output_type": "execute_result"
    }
   ],
   "source": [
    "possible_thresholds = np.arange(0.001, 1.0, 0.05)\n",
    "all_decisions = []\n",
    "for threshold in possible_thresholds: \n",
    "    all_decisions.append(profit_from_decision(df.assign(blocked=lambda df: df[prediction_col] >= threshold)))\n",
    "    \n",
    "\n",
    "threshold_evaluation = pd.concat(all_decisions, axis=1, keys=[s for s in possible_thresholds]).T.rename_axis(\"threshold\").reset_index()\n",
    "\n",
    "threshold_evaluation.head(5)"
   ]
  },
  {
   "cell_type": "code",
   "execution_count": 142,
   "metadata": {
    "ExecuteTime": {
     "end_time": "2020-11-10T21:23:53.237719Z",
     "start_time": "2020-11-10T21:23:52.892523Z"
    }
   },
   "outputs": [
    {
     "data": {
      "image/png": "[encoded data removed]",
      "text/plain": [
       "<Figure size 1080x720 with 1 Axes>"
      ]
     },
     "metadata": {
      "needs_background": "light"
     },
     "output_type": "display_data"
    }
   ],
   "source": [
    "fig, ax = plt.subplots(1, 1, figsize=(15, 10))\n",
    "sns.lineplot(threshold_evaluation.threshold, threshold_evaluation.fraud_losses, color=\"m\")\n",
    "sns.lineplot(threshold_evaluation.threshold, threshold_evaluation.operational_cost, color=\"r\")\n",
    "sns.lineplot(threshold_evaluation.threshold, threshold_evaluation.card_cost, color=\"y\")\n",
    "sns.lineplot(threshold_evaluation.threshold, threshold_evaluation.revenues, color=\"b\")\n",
    "sns.lineplot(threshold_evaluation.threshold, threshold_evaluation.profit, color=\"g\")\n",
    "\n",
    "ax.legend([\"fraud_losses\", \"operational_costs\", \"card_costs\", \"revenues\", \"profit\"])\n",
    "plt.title(\"Variação dos custos e receitas em função do threshold de bloqueio\")\n",
    "plt.xlabel(\"threshold de bloqueio\")\n",
    "plt.ylabel(\"R$\")\n",
    "plt.show()"
   ]
  },
  {
   "cell_type": "code",
   "execution_count": 82,
   "metadata": {
    "ExecuteTime": {
     "end_time": "2020-11-10T17:44:47.520251Z",
     "start_time": "2020-11-10T17:44:47.514074Z"
    }
   },
   "outputs": [
    {
     "data": {
      "text/plain": [
       "threshold           2.510000e-01\n",
       "operational_cost    3.588960e+06\n",
       "card_cost           2.900800e+04\n",
       "fraud_losses        4.710877e+06\n",
       "revenues            1.070782e+06\n",
       "profit             -7.258064e+06\n",
       "Name: 5, dtype: float64"
      ]
     },
     "execution_count": 82,
     "metadata": {},
     "output_type": "execute_result"
    }
   ],
   "source": [
    "best_decision = threshold_evaluation.loc[lambda df: df[\"profit\"].idxmax()]\n",
    "best_decision"
   ]
  },
  {
   "cell_type": "code",
   "execution_count": 143,
   "metadata": {
    "ExecuteTime": {
     "end_time": "2020-11-10T21:28:01.947477Z",
     "start_time": "2020-11-10T21:28:01.944138Z"
    }
   },
   "outputs": [
    {
     "name": "stdout",
     "output_type": "stream",
     "text": [
      "Melhor threshold R$:  -7258063.733082695\n"
     ]
    }
   ],
   "source": [
    "print(\"Melhor threshold R$: \", best_decision.profit)"
   ]
  },
  {
   "cell_type": "code",
   "execution_count": 144,
   "metadata": {
    "ExecuteTime": {
     "end_time": "2020-11-10T21:28:53.084778Z",
     "start_time": "2020-11-10T21:28:53.068672Z"
    }
   },
   "outputs": [
    {
     "data": {
      "text/html": [
       "<div>\n",
       "<style scoped>\n",
       "    .dataframe tbody tr th:only-of-type {\n",
       "        vertical-align: middle;\n",
       "    }\n",
       "\n",
       "    .dataframe tbody tr th {\n",
       "        vertical-align: top;\n",
       "    }\n",
       "\n",
       "    .dataframe thead th {\n",
       "        text-align: right;\n",
       "    }\n",
       "</style>\n",
       "<table border=\"1\" class=\"dataframe\">\n",
       "  <thead>\n",
       "    <tr style=\"text-align: right;\">\n",
       "      <th></th>\n",
       "      <th>amount</th>\n",
       "      <th>international_purchase</th>\n",
       "      <th>is_fraud</th>\n",
       "      <th>score</th>\n",
       "      <th>blocked</th>\n",
       "    </tr>\n",
       "  </thead>\n",
       "  <tbody>\n",
       "    <tr>\n",
       "      <th>0</th>\n",
       "      <td>291.899285</td>\n",
       "      <td>0</td>\n",
       "      <td>0</td>\n",
       "      <td>0.264879</td>\n",
       "      <td>True</td>\n",
       "    </tr>\n",
       "    <tr>\n",
       "      <th>1</th>\n",
       "      <td>29.372090</td>\n",
       "      <td>0</td>\n",
       "      <td>0</td>\n",
       "      <td>0.183100</td>\n",
       "      <td>False</td>\n",
       "    </tr>\n",
       "    <tr>\n",
       "      <th>2</th>\n",
       "      <td>153.462670</td>\n",
       "      <td>0</td>\n",
       "      <td>0</td>\n",
       "      <td>0.117238</td>\n",
       "      <td>False</td>\n",
       "    </tr>\n",
       "    <tr>\n",
       "      <th>3</th>\n",
       "      <td>471.391548</td>\n",
       "      <td>0</td>\n",
       "      <td>0</td>\n",
       "      <td>0.163781</td>\n",
       "      <td>False</td>\n",
       "    </tr>\n",
       "    <tr>\n",
       "      <th>4</th>\n",
       "      <td>17.260943</td>\n",
       "      <td>0</td>\n",
       "      <td>0</td>\n",
       "      <td>0.312624</td>\n",
       "      <td>True</td>\n",
       "    </tr>\n",
       "  </tbody>\n",
       "</table>\n",
       "</div>"
      ],
      "text/plain": [
       "       amount  international_purchase  is_fraud     score  blocked\n",
       "0  291.899285                       0         0  0.264879     True\n",
       "1   29.372090                       0         0  0.183100    False\n",
       "2  153.462670                       0         0  0.117238    False\n",
       "3  471.391548                       0         0  0.163781    False\n",
       "4   17.260943                       0         0  0.312624     True"
      ]
     },
     "execution_count": 144,
     "metadata": {},
     "output_type": "execute_result"
    }
   ],
   "source": [
    "threshold_df = df.assign(blocked=lambda df: df[prediction_col] >= best_decision.threshold)\n",
    "threshold_df.head()"
   ]
  },
  {
   "cell_type": "markdown",
   "metadata": {
    "ExecuteTime": {
     "end_time": "2020-11-03T22:11:49.681064Z",
     "start_time": "2020-11-03T22:11:49.676358Z"
    }
   },
   "source": [
    "## Calibrando um modelo\n",
    "\n",
    "Para construção de um modelo de negócio que utilize as probabilidades, é fundamental que essas probabilidades estejam calibradas com o target"
   ]
  },
  {
   "cell_type": "markdown",
   "metadata": {},
   "source": [
    "### Calibração"
   ]
  },
  {
   "cell_type": "code",
   "execution_count": 85,
   "metadata": {
    "ExecuteTime": {
     "end_time": "2020-11-10T17:45:25.206820Z",
     "start_time": "2020-11-10T17:45:24.830762Z"
    }
   },
   "outputs": [],
   "source": [
    "from fklearn.training.calibration import isotonic_calibration_learner\n",
    "from sklearn.calibration import calibration_curve\n",
    "isotonic_calibration_fn, transformed_df, logs = isotonic_calibration_learner(df,\n",
    "                                                                             target_column=target_col,\n",
    "                                                                            prediction_column=prediction_col)"
   ]
  },
  {
   "cell_type": "code",
   "execution_count": 146,
   "metadata": {
    "ExecuteTime": {
     "end_time": "2020-11-10T21:31:52.258731Z",
     "start_time": "2020-11-10T21:31:51.756433Z"
    }
   },
   "outputs": [
    {
     "data": {
      "text/plain": [
       "Text(0, 0.5, 'Count')"
      ]
     },
     "execution_count": 146,
     "metadata": {},
     "output_type": "execute_result"
    },
    {
     "data": {
      "image/png": "[encoded data removed]",
      "text/plain": [
       "<Figure size 720x720 with 1 Axes>"
      ]
     },
     "metadata": {
      "needs_background": "light"
     },
     "output_type": "display_data"
    }
   ],
   "source": [
    "fig, ax = plt.subplots(1, 1, figsize=(10, 10))\n",
    "sns.distplot(transformed_df[\"calibrated_prediction\"])\n",
    "plt.title(\"Score distribution after calibration\")\n",
    "plt.xlabel(\"Score distribution\")\n",
    "plt.ylabel(\"Count\")\n"
   ]
  },
  {
   "cell_type": "code",
   "execution_count": 156,
   "metadata": {
    "ExecuteTime": {
     "end_time": "2020-11-10T21:35:37.695304Z",
     "start_time": "2020-11-10T21:35:37.214760Z"
    }
   },
   "outputs": [
    {
     "data": {
      "text/plain": [
       "Text(0, 0.5, 'Score average')"
      ]
     },
     "execution_count": 156,
     "metadata": {},
     "output_type": "execute_result"
    },
    {
     "data": {
      "image/png": "[encoded data removed]",
      "text/plain": [
       "<Figure size 720x720 with 1 Axes>"
      ]
     },
     "metadata": {
      "needs_background": "light"
     },
     "output_type": "display_data"
    }
   ],
   "source": [
    "fig, ax = plt.subplots(1, 1, figsize=(10, 10))\n",
    "(transformed_df.assign(percentiles = pd.qcut(transformed_df[\"calibrated_prediction\"], q= 20, duplicates=\"drop\"))\n",
    ".groupby(\"percentiles\").agg({target_col: \"mean\", prediction_col: \"mean\"})).plot(x=target_col, y=prediction_col, ax=ax)\n",
    "(transformed_df.assign(percentiles = pd.qcut(transformed_df[\"calibrated_prediction\"], q= 20, duplicates=\"drop\"))\n",
    ".groupby(\"percentiles\").agg({target_col: \"mean\", prediction_col: \"mean\", \"calibrated_prediction\": \"mean\"})).plot(x=target_col, y=\"calibrated_prediction\", ax=ax)\n",
    "plt.title(\"Calibrated vs uncalibrated Scores\")\n",
    "plt.xlabel(\"Target average\")\n",
    "plt.ylabel(\"Score average\")"
   ]
  },
  {
   "cell_type": "markdown",
   "metadata": {},
   "source": [
    "### Gerando o ponto otimo da curva de otimização"
   ]
  },
  {
   "cell_type": "code",
   "execution_count": 157,
   "metadata": {
    "ExecuteTime": {
     "end_time": "2020-11-10T21:35:55.497451Z",
     "start_time": "2020-11-10T21:35:55.472338Z"
    }
   },
   "outputs": [
    {
     "data": {
      "text/html": [
       "<div>\n",
       "<style scoped>\n",
       "    .dataframe tbody tr th:only-of-type {\n",
       "        vertical-align: middle;\n",
       "    }\n",
       "\n",
       "    .dataframe tbody tr th {\n",
       "        vertical-align: top;\n",
       "    }\n",
       "\n",
       "    .dataframe thead th {\n",
       "        text-align: right;\n",
       "    }\n",
       "</style>\n",
       "<table border=\"1\" class=\"dataframe\">\n",
       "  <thead>\n",
       "    <tr style=\"text-align: right;\">\n",
       "      <th></th>\n",
       "      <th>amount</th>\n",
       "      <th>threshold</th>\n",
       "    </tr>\n",
       "  </thead>\n",
       "  <tbody>\n",
       "    <tr>\n",
       "      <th>0</th>\n",
       "      <td>10</td>\n",
       "      <td>0.367946</td>\n",
       "    </tr>\n",
       "    <tr>\n",
       "      <th>1</th>\n",
       "      <td>20</td>\n",
       "      <td>0.256966</td>\n",
       "    </tr>\n",
       "    <tr>\n",
       "      <th>2</th>\n",
       "      <td>30</td>\n",
       "      <td>0.199058</td>\n",
       "    </tr>\n",
       "    <tr>\n",
       "      <th>3</th>\n",
       "      <td>40</td>\n",
       "      <td>0.163498</td>\n",
       "    </tr>\n",
       "    <tr>\n",
       "      <th>4</th>\n",
       "      <td>50</td>\n",
       "      <td>0.139442</td>\n",
       "    </tr>\n",
       "    <tr>\n",
       "      <th>5</th>\n",
       "      <td>60</td>\n",
       "      <td>0.122085</td>\n",
       "    </tr>\n",
       "    <tr>\n",
       "      <th>6</th>\n",
       "      <td>70</td>\n",
       "      <td>0.108970</td>\n",
       "    </tr>\n",
       "    <tr>\n",
       "      <th>7</th>\n",
       "      <td>80</td>\n",
       "      <td>0.098712</td>\n",
       "    </tr>\n",
       "    <tr>\n",
       "      <th>8</th>\n",
       "      <td>90</td>\n",
       "      <td>0.090469</td>\n",
       "    </tr>\n",
       "    <tr>\n",
       "      <th>9</th>\n",
       "      <td>100</td>\n",
       "      <td>0.083700</td>\n",
       "    </tr>\n",
       "    <tr>\n",
       "      <th>10</th>\n",
       "      <td>110</td>\n",
       "      <td>0.078043</td>\n",
       "    </tr>\n",
       "    <tr>\n",
       "      <th>11</th>\n",
       "      <td>120</td>\n",
       "      <td>0.073244</td>\n",
       "    </tr>\n",
       "    <tr>\n",
       "      <th>12</th>\n",
       "      <td>130</td>\n",
       "      <td>0.069121</td>\n",
       "    </tr>\n",
       "    <tr>\n",
       "      <th>13</th>\n",
       "      <td>140</td>\n",
       "      <td>0.065542</td>\n",
       "    </tr>\n",
       "    <tr>\n",
       "      <th>14</th>\n",
       "      <td>150</td>\n",
       "      <td>0.062405</td>\n",
       "    </tr>\n",
       "    <tr>\n",
       "      <th>15</th>\n",
       "      <td>160</td>\n",
       "      <td>0.059633</td>\n",
       "    </tr>\n",
       "    <tr>\n",
       "      <th>16</th>\n",
       "      <td>170</td>\n",
       "      <td>0.057166</td>\n",
       "    </tr>\n",
       "    <tr>\n",
       "      <th>17</th>\n",
       "      <td>180</td>\n",
       "      <td>0.054956</td>\n",
       "    </tr>\n",
       "    <tr>\n",
       "      <th>18</th>\n",
       "      <td>190</td>\n",
       "      <td>0.052966</td>\n",
       "    </tr>\n",
       "    <tr>\n",
       "      <th>19</th>\n",
       "      <td>200</td>\n",
       "      <td>0.051163</td>\n",
       "    </tr>\n",
       "  </tbody>\n",
       "</table>\n",
       "</div>"
      ],
      "text/plain": [
       "    amount  threshold\n",
       "0       10   0.367946\n",
       "1       20   0.256966\n",
       "2       30   0.199058\n",
       "3       40   0.163498\n",
       "4       50   0.139442\n",
       "5       60   0.122085\n",
       "6       70   0.108970\n",
       "7       80   0.098712\n",
       "8       90   0.090469\n",
       "9      100   0.083700\n",
       "10     110   0.078043\n",
       "11     120   0.073244\n",
       "12     130   0.069121\n",
       "13     140   0.065542\n",
       "14     150   0.062405\n",
       "15     160   0.059633\n",
       "16     170   0.057166\n",
       "17     180   0.054956\n",
       "18     190   0.052966\n",
       "19     200   0.051163"
      ]
     },
     "execution_count": 157,
     "metadata": {},
     "output_type": "execute_result"
    }
   ],
   "source": [
    "# blocked = -review_fraud_cost\n",
    "# not blocked = (1 - p) * amount * interchange - (p * new_card_cost + p * amount + p * review_fraud_cost)\n",
    "# blocked = not_blocked (break_even probability)\n",
    "# -p * (new_card_cost + amount * (1 + interchange) + review_fraud_cost) = -review_fraud_cost - amount * interchange\n",
    "# p = (review_fraud_cost + amount * interchange) / (new_card_cost + amount + review_fraud_cost + amount * interchange)\n",
    "transaction_amounts = np.arange(10, 20000, 10)\n",
    "break_even_p = []\n",
    "for amount in transaction_amounts:\n",
    "    break_even_p.append((amount * interchange_revenue + review_fraud_cost)/ \n",
    "                        (new_card_cost + amount * (1 + interchange_revenue) + review_fraud_cost))\n",
    "    \n",
    "    \n",
    "breakeven_df = pd.DataFrame(\n",
    "    {amount_col: transaction_amounts,\n",
    "    \"threshold\": break_even_p}\n",
    ")\n",
    "\n",
    "breakeven_df.head(20)"
   ]
  },
  {
   "cell_type": "code",
   "execution_count": 158,
   "metadata": {
    "ExecuteTime": {
     "end_time": "2020-11-10T21:36:10.136126Z",
     "start_time": "2020-11-10T21:36:09.702240Z"
    }
   },
   "outputs": [
    {
     "data": {
      "text/plain": [
       "<matplotlib.axes._subplots.AxesSubplot at 0x1a29900668>"
      ]
     },
     "execution_count": 158,
     "metadata": {},
     "output_type": "execute_result"
    },
    {
     "data": {
      "image/png": "[encoded data removed]",
      "text/plain": [
       "<Figure size 432x288 with 1 Axes>"
      ]
     },
     "metadata": {
      "needs_background": "light"
     },
     "output_type": "display_data"
    }
   ],
   "source": [
    "sns.lineplot(breakeven_df[amount_col], breakeven_df.threshold)"
   ]
  },
  {
   "cell_type": "markdown",
   "metadata": {},
   "source": [
    "### Calculando a lucratividade dessa otimização"
   ]
  },
  {
   "cell_type": "code",
   "execution_count": 104,
   "metadata": {
    "ExecuteTime": {
     "end_time": "2020-11-10T17:47:31.369059Z",
     "start_time": "2020-11-10T17:47:30.577020Z"
    }
   },
   "outputs": [
    {
     "data": {
      "text/plain": [
       "operational_cost    5.225440e+05\n",
       "card_cost           5.926400e+04\n",
       "fraud_losses        7.119550e+06\n",
       "revenues            1.570276e+06\n",
       "profit             -6.131082e+06\n",
       "dtype: float64"
      ]
     },
     "execution_count": 104,
     "metadata": {},
     "output_type": "execute_result"
    }
   ],
   "source": [
    "otimization_df = (transformed_df\n",
    "      .assign(amount=lambda df: np.floor(df[amount_col] / 10) * 10)\n",
    "      .merge(breakeven_df, on=amount_col, how=\"left\")\n",
    "      .assign(blocked=lambda df: df.calibrated_prediction > df.threshold))\n",
    "optimized_decision = profit_from_decision(otimization_df)\n",
    "optimized_decision"
   ]
  },
  {
   "cell_type": "code",
   "execution_count": 159,
   "metadata": {
    "ExecuteTime": {
     "end_time": "2020-11-10T21:36:33.882321Z",
     "start_time": "2020-11-10T21:36:33.878320Z"
    }
   },
   "outputs": [
    {
     "name": "stdout",
     "output_type": "stream",
     "text": [
      "Optimized Decision Profit: R$  -6131081.949996963\n"
     ]
    }
   ],
   "source": [
    "print(\"Optimized Decision Profit: R$ \", optimized_decision.profit)"
   ]
  },
  {
   "cell_type": "markdown",
   "metadata": {},
   "source": [
    "## Criando bandas de modelo"
   ]
  },
  {
   "cell_type": "markdown",
   "metadata": {},
   "source": [
    "### Bandas de mesma largura"
   ]
  },
  {
   "cell_type": "code",
   "execution_count": 160,
   "metadata": {
    "ExecuteTime": {
     "end_time": "2020-11-10T21:36:46.137611Z",
     "start_time": "2020-11-10T21:36:46.111655Z"
    }
   },
   "outputs": [
    {
     "data": {
      "text/html": [
       "<div>\n",
       "<style scoped>\n",
       "    .dataframe tbody tr th:only-of-type {\n",
       "        vertical-align: middle;\n",
       "    }\n",
       "\n",
       "    .dataframe tbody tr th {\n",
       "        vertical-align: top;\n",
       "    }\n",
       "\n",
       "    .dataframe thead th {\n",
       "        text-align: right;\n",
       "    }\n",
       "</style>\n",
       "<table border=\"1\" class=\"dataframe\">\n",
       "  <thead>\n",
       "    <tr style=\"text-align: right;\">\n",
       "      <th></th>\n",
       "      <th>amount</th>\n",
       "      <th>international_purchase</th>\n",
       "      <th>is_fraud</th>\n",
       "      <th>score</th>\n",
       "      <th>prediction_band</th>\n",
       "    </tr>\n",
       "  </thead>\n",
       "  <tbody>\n",
       "    <tr>\n",
       "      <th>0</th>\n",
       "      <td>291.899285</td>\n",
       "      <td>0</td>\n",
       "      <td>0</td>\n",
       "      <td>0.264879</td>\n",
       "      <td>2.0</td>\n",
       "    </tr>\n",
       "    <tr>\n",
       "      <th>1</th>\n",
       "      <td>29.372090</td>\n",
       "      <td>0</td>\n",
       "      <td>0</td>\n",
       "      <td>0.183100</td>\n",
       "      <td>1.0</td>\n",
       "    </tr>\n",
       "    <tr>\n",
       "      <th>2</th>\n",
       "      <td>153.462670</td>\n",
       "      <td>0</td>\n",
       "      <td>0</td>\n",
       "      <td>0.117238</td>\n",
       "      <td>1.0</td>\n",
       "    </tr>\n",
       "    <tr>\n",
       "      <th>3</th>\n",
       "      <td>471.391548</td>\n",
       "      <td>0</td>\n",
       "      <td>0</td>\n",
       "      <td>0.163781</td>\n",
       "      <td>1.0</td>\n",
       "    </tr>\n",
       "    <tr>\n",
       "      <th>4</th>\n",
       "      <td>17.260943</td>\n",
       "      <td>0</td>\n",
       "      <td>0</td>\n",
       "      <td>0.312624</td>\n",
       "      <td>3.0</td>\n",
       "    </tr>\n",
       "    <tr>\n",
       "      <th>5</th>\n",
       "      <td>38.895820</td>\n",
       "      <td>0</td>\n",
       "      <td>0</td>\n",
       "      <td>0.291718</td>\n",
       "      <td>2.0</td>\n",
       "    </tr>\n",
       "    <tr>\n",
       "      <th>6</th>\n",
       "      <td>62.400743</td>\n",
       "      <td>0</td>\n",
       "      <td>0</td>\n",
       "      <td>0.187849</td>\n",
       "      <td>1.0</td>\n",
       "    </tr>\n",
       "    <tr>\n",
       "      <th>7</th>\n",
       "      <td>2.941405</td>\n",
       "      <td>0</td>\n",
       "      <td>0</td>\n",
       "      <td>0.000000</td>\n",
       "      <td>0.0</td>\n",
       "    </tr>\n",
       "    <tr>\n",
       "      <th>8</th>\n",
       "      <td>58.097295</td>\n",
       "      <td>0</td>\n",
       "      <td>0</td>\n",
       "      <td>0.474347</td>\n",
       "      <td>4.0</td>\n",
       "    </tr>\n",
       "    <tr>\n",
       "      <th>9</th>\n",
       "      <td>375.249275</td>\n",
       "      <td>0</td>\n",
       "      <td>1</td>\n",
       "      <td>0.000000</td>\n",
       "      <td>0.0</td>\n",
       "    </tr>\n",
       "    <tr>\n",
       "      <th>10</th>\n",
       "      <td>70.346490</td>\n",
       "      <td>0</td>\n",
       "      <td>0</td>\n",
       "      <td>0.320818</td>\n",
       "      <td>3.0</td>\n",
       "    </tr>\n",
       "    <tr>\n",
       "      <th>11</th>\n",
       "      <td>8.639156</td>\n",
       "      <td>0</td>\n",
       "      <td>0</td>\n",
       "      <td>0.000000</td>\n",
       "      <td>0.0</td>\n",
       "    </tr>\n",
       "    <tr>\n",
       "      <th>12</th>\n",
       "      <td>4.649594</td>\n",
       "      <td>0</td>\n",
       "      <td>0</td>\n",
       "      <td>0.016006</td>\n",
       "      <td>0.0</td>\n",
       "    </tr>\n",
       "    <tr>\n",
       "      <th>13</th>\n",
       "      <td>665.632547</td>\n",
       "      <td>0</td>\n",
       "      <td>0</td>\n",
       "      <td>0.263351</td>\n",
       "      <td>2.0</td>\n",
       "    </tr>\n",
       "    <tr>\n",
       "      <th>14</th>\n",
       "      <td>41.905006</td>\n",
       "      <td>0</td>\n",
       "      <td>0</td>\n",
       "      <td>0.000000</td>\n",
       "      <td>0.0</td>\n",
       "    </tr>\n",
       "    <tr>\n",
       "      <th>15</th>\n",
       "      <td>12.094364</td>\n",
       "      <td>0</td>\n",
       "      <td>0</td>\n",
       "      <td>0.200914</td>\n",
       "      <td>2.0</td>\n",
       "    </tr>\n",
       "    <tr>\n",
       "      <th>16</th>\n",
       "      <td>2.122142</td>\n",
       "      <td>0</td>\n",
       "      <td>0</td>\n",
       "      <td>0.582530</td>\n",
       "      <td>5.0</td>\n",
       "    </tr>\n",
       "    <tr>\n",
       "      <th>17</th>\n",
       "      <td>28.602154</td>\n",
       "      <td>0</td>\n",
       "      <td>0</td>\n",
       "      <td>0.126423</td>\n",
       "      <td>1.0</td>\n",
       "    </tr>\n",
       "    <tr>\n",
       "      <th>18</th>\n",
       "      <td>23.094085</td>\n",
       "      <td>0</td>\n",
       "      <td>0</td>\n",
       "      <td>0.000000</td>\n",
       "      <td>0.0</td>\n",
       "    </tr>\n",
       "    <tr>\n",
       "      <th>19</th>\n",
       "      <td>1503.204483</td>\n",
       "      <td>0</td>\n",
       "      <td>1</td>\n",
       "      <td>0.628303</td>\n",
       "      <td>6.0</td>\n",
       "    </tr>\n",
       "  </tbody>\n",
       "</table>\n",
       "</div>"
      ],
      "text/plain": [
       "         amount  international_purchase  is_fraud     score  prediction_band\n",
       "0    291.899285                       0         0  0.264879              2.0\n",
       "1     29.372090                       0         0  0.183100              1.0\n",
       "2    153.462670                       0         0  0.117238              1.0\n",
       "3    471.391548                       0         0  0.163781              1.0\n",
       "4     17.260943                       0         0  0.312624              3.0\n",
       "5     38.895820                       0         0  0.291718              2.0\n",
       "6     62.400743                       0         0  0.187849              1.0\n",
       "7      2.941405                       0         0  0.000000              0.0\n",
       "8     58.097295                       0         0  0.474347              4.0\n",
       "9    375.249275                       0         1  0.000000              0.0\n",
       "10    70.346490                       0         0  0.320818              3.0\n",
       "11     8.639156                       0         0  0.000000              0.0\n",
       "12     4.649594                       0         0  0.016006              0.0\n",
       "13   665.632547                       0         0  0.263351              2.0\n",
       "14    41.905006                       0         0  0.000000              0.0\n",
       "15    12.094364                       0         0  0.200914              2.0\n",
       "16     2.122142                       0         0  0.582530              5.0\n",
       "17    28.602154                       0         0  0.126423              1.0\n",
       "18    23.094085                       0         0  0.000000              0.0\n",
       "19  1503.204483                       0         1  0.628303              6.0"
      ]
     },
     "execution_count": 160,
     "metadata": {},
     "output_type": "execute_result"
    }
   ],
   "source": [
    "band_size = 0.1\n",
    "binned_df = df.assign(prediction_band = lambda df: np.floor(df[prediction_col] / band_size))\n",
    "binned_df.head(20)"
   ]
  },
  {
   "cell_type": "code",
   "execution_count": 94,
   "metadata": {
    "ExecuteTime": {
     "end_time": "2020-11-10T17:46:48.457824Z",
     "start_time": "2020-11-10T17:46:48.152906Z"
    }
   },
   "outputs": [
    {
     "data": {
      "text/plain": [
       "<matplotlib.axes._subplots.AxesSubplot at 0x1a2128ae80>"
      ]
     },
     "execution_count": 94,
     "metadata": {},
     "output_type": "execute_result"
    },
    {
     "data": {
      "image/png": "[encoded data removed]",
      "text/plain": [
       "<Figure size 432x288 with 1 Axes>"
      ]
     },
     "metadata": {
      "needs_background": "light"
     },
     "output_type": "display_data"
    }
   ],
   "source": [
    "binned_df.groupby(\"prediction_band\").count().amount.plot()"
   ]
  },
  {
   "cell_type": "markdown",
   "metadata": {},
   "source": [
    "### Bandas de mesma quantidade de clientes"
   ]
  },
  {
   "cell_type": "code",
   "execution_count": 95,
   "metadata": {
    "ExecuteTime": {
     "end_time": "2020-11-10T17:46:51.973760Z",
     "start_time": "2020-11-10T17:46:51.805544Z"
    }
   },
   "outputs": [],
   "source": [
    "## This function is not \"learning\" how to band and we can't apply the same rule to new clients\n",
    "number_of_bands = 10\n",
    "banded_df = df.assign(bands= lambda df: pd.qcut(df[prediction_col], number_of_bands, duplicates=\"drop\", retbins=False))"
   ]
  },
  {
   "cell_type": "code",
   "execution_count": 96,
   "metadata": {
    "ExecuteTime": {
     "end_time": "2020-11-10T17:46:52.750272Z",
     "start_time": "2020-11-10T17:46:52.734325Z"
    }
   },
   "outputs": [
    {
     "data": {
      "text/plain": [
       "(-0.001, 0.0463]    300000\n",
       "(0.606, 1.0]        100000\n",
       "(0.466, 0.606]      100000\n",
       "(0.367, 0.466]      100000\n",
       "(0.283, 0.367]      100000\n",
       "(0.206, 0.283]      100000\n",
       "(0.129, 0.206]      100000\n",
       "(0.0463, 0.129]     100000\n",
       "Name: bands, dtype: int64"
      ]
     },
     "execution_count": 96,
     "metadata": {},
     "output_type": "execute_result"
    }
   ],
   "source": [
    "banded_df.bands.value_counts()"
   ]
  },
  {
   "cell_type": "code",
   "execution_count": 97,
   "metadata": {
    "ExecuteTime": {
     "end_time": "2020-11-10T17:46:53.724231Z",
     "start_time": "2020-11-10T17:46:53.710715Z"
    }
   },
   "outputs": [],
   "source": [
    "from fklearn.training.transformation import discrete_ecdfer"
   ]
  },
  {
   "cell_type": "code",
   "execution_count": 106,
   "metadata": {
    "ExecuteTime": {
     "end_time": "2020-11-10T17:50:31.737302Z",
     "start_time": "2020-11-10T17:50:30.959534Z"
    }
   },
   "outputs": [
    {
     "data": {
      "text/html": [
       "<div>\n",
       "<style scoped>\n",
       "    .dataframe tbody tr th:only-of-type {\n",
       "        vertical-align: middle;\n",
       "    }\n",
       "\n",
       "    .dataframe tbody tr th {\n",
       "        vertical-align: top;\n",
       "    }\n",
       "\n",
       "    .dataframe thead th {\n",
       "        text-align: right;\n",
       "    }\n",
       "</style>\n",
       "<table border=\"1\" class=\"dataframe\">\n",
       "  <thead>\n",
       "    <tr style=\"text-align: right;\">\n",
       "      <th></th>\n",
       "      <th>amount</th>\n",
       "      <th>international_purchase</th>\n",
       "      <th>is_fraud</th>\n",
       "      <th>score</th>\n",
       "      <th>prediction_ecdf</th>\n",
       "    </tr>\n",
       "  </thead>\n",
       "  <tbody>\n",
       "    <tr>\n",
       "      <th>0</th>\n",
       "      <td>291.899285</td>\n",
       "      <td>0</td>\n",
       "      <td>0</td>\n",
       "      <td>0.264879</td>\n",
       "      <td>576</td>\n",
       "    </tr>\n",
       "    <tr>\n",
       "      <th>1</th>\n",
       "      <td>29.372090</td>\n",
       "      <td>0</td>\n",
       "      <td>0</td>\n",
       "      <td>0.183100</td>\n",
       "      <td>470</td>\n",
       "    </tr>\n",
       "    <tr>\n",
       "      <th>2</th>\n",
       "      <td>153.462670</td>\n",
       "      <td>0</td>\n",
       "      <td>0</td>\n",
       "      <td>0.117238</td>\n",
       "      <td>385</td>\n",
       "    </tr>\n",
       "    <tr>\n",
       "      <th>3</th>\n",
       "      <td>471.391548</td>\n",
       "      <td>0</td>\n",
       "      <td>0</td>\n",
       "      <td>0.163781</td>\n",
       "      <td>445</td>\n",
       "    </tr>\n",
       "    <tr>\n",
       "      <th>4</th>\n",
       "      <td>17.260943</td>\n",
       "      <td>0</td>\n",
       "      <td>0</td>\n",
       "      <td>0.312624</td>\n",
       "      <td>635</td>\n",
       "    </tr>\n",
       "  </tbody>\n",
       "</table>\n",
       "</div>"
      ],
      "text/plain": [
       "       amount  international_purchase  is_fraud     score  prediction_ecdf\n",
       "0  291.899285                       0         0  0.264879              576\n",
       "1   29.372090                       0         0  0.183100              470\n",
       "2  153.462670                       0         0  0.117238              385\n",
       "3  471.391548                       0         0  0.163781              445\n",
       "4   17.260943                       0         0  0.312624              635"
      ]
     },
     "execution_count": 106,
     "metadata": {},
     "output_type": "execute_result"
    }
   ],
   "source": [
    "predict_fn, uniform_df, _ = discrete_ecdfer(df, \n",
    "                                            prediction_column=prediction_col, \n",
    "                                            max_range=1000)\n",
    "uniform_df.head()"
   ]
  },
  {
   "cell_type": "code",
   "execution_count": 107,
   "metadata": {
    "ExecuteTime": {
     "end_time": "2020-11-10T17:50:36.404491Z",
     "start_time": "2020-11-10T17:50:36.262911Z"
    }
   },
   "outputs": [
    {
     "data": {
      "text/html": [
       "<div>\n",
       "<style scoped>\n",
       "    .dataframe tbody tr th:only-of-type {\n",
       "        vertical-align: middle;\n",
       "    }\n",
       "\n",
       "    .dataframe tbody tr th {\n",
       "        vertical-align: top;\n",
       "    }\n",
       "\n",
       "    .dataframe thead th {\n",
       "        text-align: right;\n",
       "    }\n",
       "</style>\n",
       "<table border=\"1\" class=\"dataframe\">\n",
       "  <thead>\n",
       "    <tr style=\"text-align: right;\">\n",
       "      <th></th>\n",
       "      <th>amount</th>\n",
       "      <th>international_purchase</th>\n",
       "      <th>is_fraud</th>\n",
       "      <th>score</th>\n",
       "      <th>prediction_ecdf</th>\n",
       "    </tr>\n",
       "  </thead>\n",
       "  <tbody>\n",
       "    <tr>\n",
       "      <th>0</th>\n",
       "      <td>291.899285</td>\n",
       "      <td>0</td>\n",
       "      <td>0</td>\n",
       "      <td>0.264879</td>\n",
       "      <td>576</td>\n",
       "    </tr>\n",
       "    <tr>\n",
       "      <th>1</th>\n",
       "      <td>29.372090</td>\n",
       "      <td>0</td>\n",
       "      <td>0</td>\n",
       "      <td>0.183100</td>\n",
       "      <td>470</td>\n",
       "    </tr>\n",
       "    <tr>\n",
       "      <th>2</th>\n",
       "      <td>153.462670</td>\n",
       "      <td>0</td>\n",
       "      <td>0</td>\n",
       "      <td>0.117238</td>\n",
       "      <td>385</td>\n",
       "    </tr>\n",
       "    <tr>\n",
       "      <th>3</th>\n",
       "      <td>471.391548</td>\n",
       "      <td>0</td>\n",
       "      <td>0</td>\n",
       "      <td>0.163781</td>\n",
       "      <td>445</td>\n",
       "    </tr>\n",
       "    <tr>\n",
       "      <th>4</th>\n",
       "      <td>17.260943</td>\n",
       "      <td>0</td>\n",
       "      <td>0</td>\n",
       "      <td>0.312624</td>\n",
       "      <td>635</td>\n",
       "    </tr>\n",
       "  </tbody>\n",
       "</table>\n",
       "</div>"
      ],
      "text/plain": [
       "       amount  international_purchase  is_fraud     score  prediction_ecdf\n",
       "0  291.899285                       0         0  0.264879              576\n",
       "1   29.372090                       0         0  0.183100              470\n",
       "2  153.462670                       0         0  0.117238              385\n",
       "3  471.391548                       0         0  0.163781              445\n",
       "4   17.260943                       0         0  0.312624              635"
      ]
     },
     "execution_count": 107,
     "metadata": {},
     "output_type": "execute_result"
    }
   ],
   "source": [
    "## predict_fn \"learns\" how to apply the transformation and can be reapplied to any dataframe\n",
    "predict_fn(uniform_df).head()"
   ]
  },
  {
   "cell_type": "code",
   "execution_count": 161,
   "metadata": {
    "ExecuteTime": {
     "end_time": "2020-11-10T21:38:23.768420Z",
     "start_time": "2020-11-10T21:38:23.277024Z"
    }
   },
   "outputs": [
    {
     "data": {
      "text/plain": [
       "<matplotlib.axes._subplots.AxesSubplot at 0x1a24c18518>"
      ]
     },
     "execution_count": 161,
     "metadata": {},
     "output_type": "execute_result"
    },
    {
     "data": {
      "image/png": "[encoded data removed]",
      "text/plain": [
       "<Figure size 432x288 with 1 Axes>"
      ]
     },
     "metadata": {
      "needs_background": "light"
     },
     "output_type": "display_data"
    }
   ],
   "source": [
    "sns.distplot(uniform_df[\"prediction_ecdf\"])"
   ]
  },
  {
   "cell_type": "markdown",
   "metadata": {
    "ExecuteTime": {
     "end_time": "2020-11-09T22:11:34.884593Z",
     "start_time": "2020-11-09T22:11:34.881888Z"
    }
   },
   "source": [
    "### Regra baseada em grupos pre definidos\n",
    "Apesar da regra ser muito simples, conseguimos uma performance quase tao boa quanto usando as probabilidades do modelo"
   ]
  },
  {
   "cell_type": "code",
   "execution_count": 101,
   "metadata": {
    "ExecuteTime": {
     "end_time": "2020-11-10T17:46:57.745505Z",
     "start_time": "2020-11-10T17:46:57.277757Z"
    }
   },
   "outputs": [
    {
     "data": {
      "text/plain": [
       "operational_cost    3.220560e+05\n",
       "card_cost           8.085200e+04\n",
       "fraud_losses        1.277632e+07\n",
       "revenues           -2.515634e+06\n",
       "profit             -1.569486e+07\n",
       "dtype: float64"
      ]
     },
     "execution_count": 101,
     "metadata": {},
     "output_type": "execute_result"
    }
   ],
   "source": [
    "groups_df = profit_from_decision(transformed_df.assign(blocked=lambda df: \n",
    "                      np.where(df.calibrated_prediction < 0.1, 0, \n",
    "                               np.where((df.calibrated_prediction >= 0.1)\n",
    "                                        & (df.calibrated_prediction < 0.3) & (df[amount_col] < 100), 0, 1))\n",
    "))\n",
    "groups_df"
   ]
  },
  {
   "cell_type": "code",
   "execution_count": 163,
   "metadata": {
    "ExecuteTime": {
     "end_time": "2020-11-10T21:39:44.797952Z",
     "start_time": "2020-11-10T21:39:44.794582Z"
    }
   },
   "outputs": [
    {
     "name": "stdout",
     "output_type": "stream",
     "text": [
      "Grouped Decision Profit: R$  -15694860.955698246\n"
     ]
    }
   ],
   "source": [
    "print(\"Grouped Decision Profit: R$ \", groups_df.profit)"
   ]
  },
  {
   "cell_type": "markdown",
   "metadata": {},
   "source": [
    "## Regras de Negócio"
   ]
  },
  {
   "cell_type": "code",
   "execution_count": 102,
   "metadata": {
    "ExecuteTime": {
     "end_time": "2020-11-10T17:47:04.570143Z",
     "start_time": "2020-11-10T17:47:03.733199Z"
    }
   },
   "outputs": [
    {
     "data": {
      "text/plain": [
       "operational_cost    6.000480e+05\n",
       "card_cost           5.241200e+04\n",
       "fraud_losses        3.423170e+06\n",
       "revenues            1.314689e+06\n",
       "profit             -2.760941e+06\n",
       "dtype: float64"
      ]
     },
     "execution_count": 102,
     "metadata": {},
     "output_type": "execute_result"
    }
   ],
   "source": [
    "otimization_df_with_rules = profit_from_decision(transformed_df\n",
    "                  .assign(amount=lambda df: np.floor(df[amount_col] / 10) * 10)\n",
    "                  .merge(breakeven_df, on=amount_col, how=\"left\")\n",
    "                  .assign(blocked=lambda df: df.calibrated_prediction > df.threshold)\n",
    "                  .assign(blocked=lambda df: (df.blocked) | (df[amount_col] > 1000)))\n",
    "\n",
    "otimization_df_with_rules"
   ]
  },
  {
   "cell_type": "code",
   "execution_count": 164,
   "metadata": {
    "ExecuteTime": {
     "end_time": "2020-11-10T21:40:03.695658Z",
     "start_time": "2020-11-10T21:40:03.691278Z"
    }
   },
   "outputs": [
    {
     "name": "stdout",
     "output_type": "stream",
     "text": [
      "Optimized Decision with Rules Profit: R$  -2760941.3500051904\n"
     ]
    }
   ],
   "source": [
    "print(\"Optimized Decision with Rules Profit: R$ \", otimization_df_with_rules.profit)"
   ]
  },
  {
   "cell_type": "code",
   "execution_count": 174,
   "metadata": {
    "ExecuteTime": {
     "end_time": "2020-11-10T21:44:34.664212Z",
     "start_time": "2020-11-10T21:44:34.368264Z"
    }
   },
   "outputs": [
    {
     "name": "stderr",
     "output_type": "stream",
     "text": [
      "/Users/henriquelopes/miniconda3/lib/python3.6/site-packages/ipykernel_launcher.py:3: FutureWarning: Sorting because non-concatenation axis is not aligned. A future version\n",
      "of pandas will change to not sort by default.\n",
      "\n",
      "To accept the future behavior, pass 'sort=False'.\n",
      "\n",
      "To retain the current behavior and silence the warning, pass 'sort=True'.\n",
      "\n",
      "  This is separate from the ipykernel package so we can avoid doing imports until\n"
     ]
    },
    {
     "data": {
      "text/plain": [
       "<matplotlib.axes._subplots.AxesSubplot at 0x1a2aff7ac8>"
      ]
     },
     "execution_count": 174,
     "metadata": {},
     "output_type": "execute_result"
    },
    {
     "data": {
      "image/png": "[encoded data removed]",
      "text/plain": [
       "<Figure size 720x720 with 1 Axes>"
      ]
     },
     "metadata": {
      "needs_background": "light"
     },
     "output_type": "display_data"
    }
   ],
   "source": [
    "threshold_evaluation = (pd.concat([best_decision, groups_df, optimized_decision, otimization_df_with_rules],\n",
    "                                 axis=1,\n",
    "                                 keys=[\"threshold\", \"groups\", \"policy\", \"policy_with_rules\"]))\n",
    "\n",
    "fig, ax = plt.subplots(figsize=(10, 10))\n",
    "(threshold_evaluation.T\n",
    ".assign(card_cost=lambda df: df.card_cost * -1,\n",
    "        fraud_losses=lambda df: df.fraud_losses * -1,\n",
    "        operational_cost=lambda df: df.operational_cost * -1\n",
    "       )\n",
    "[[\"card_cost\", \"fraud_losses\", \"operational_cost\", \"revenues\", \"profit\"]].plot(ax=ax, kind='bar'))\n",
    "plt.grid()\n",
    "plt.title(\"R$ impact of each component for each)"
   ]
  },
  {
   "cell_type": "code",
   "execution_count": null,
   "metadata": {},
   "outputs": [],
   "source": []
  }
 ],
 "metadata": {
  "kernelspec": {
   "display_name": "Python 3",
   "language": "python",
   "name": "python3"
  },
  "language_info": {
   "codemirror_mode": {
    "name": "ipython",
    "version": 3
   },
   "file_extension": ".py",
   "mimetype": "text/x-python",
   "name": "python",
   "nbconvert_exporter": "python",
   "pygments_lexer": "ipython3",
   "version": "3.6.8"
  },
  "toc": {
   "base_numbering": 1,
   "nav_menu": {},
   "number_sections": true,
   "sideBar": true,
   "skip_h1_title": false,
   "title_cell": "Table of Contents",
   "title_sidebar": "Contents",
   "toc_cell": false,
   "toc_position": {},
   "toc_section_display": true,
   "toc_window_display": false
  }
 },
 "nbformat": 4,
 "nbformat_minor": 2
}
